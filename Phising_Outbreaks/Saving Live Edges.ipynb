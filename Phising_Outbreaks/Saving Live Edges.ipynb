{
 "cells": [
  {
   "cell_type": "code",
   "execution_count": 1,
   "metadata": {},
   "outputs": [],
   "source": [
    "import random\n",
    "import csv\n",
    "import math\n",
    "import numpy as np\n",
    "import time\n",
    "import codecs"
   ]
  },
  {
   "cell_type": "code",
   "execution_count": 2,
   "metadata": {},
   "outputs": [],
   "source": [
    "# 1 email có rất nhiều thời gian \n",
    "def orderTimestamps(filename):\n",
    "    # Khởi tạo 1 dictionary timestampsDict để lưu trữ thông tin về các timestamps(về số lần xuất hiện của mỗi cạnh)\n",
    "    timestampsDict = {}\n",
    "\n",
    "    # Mở file và tiến hành đọc các byte từ các tệp tin\n",
    "    with open(filename,'rb') as tsvin:\n",
    "        # Đầu tiên, codecs.iterdecode(tsvin, 'utf-8') chuyển đổi dữ liệu từ định dạng byte sang chuỗi sử dụng bảng mã UTF-8. Sau đó, csv.reader() \n",
    "        # dùng để đọc dữ liệu từ chuỗi này dưới dạng các hàng và cột, với delimiter='\\t' chỉ định rằng các giá trị được phân tách bằng tab.\n",
    "        tsvin = csv.reader(codecs.iterdecode(tsvin, 'utf-8'), delimiter='\\t')\n",
    "        # Bỏ qua dòng tiêu đề (dòng đầu tiên của tệp tin)\n",
    "        next(tsvin)\n",
    "        # Duyệt qua từng dòng trong tập dữ liệu \n",
    "        for row in tsvin:\n",
    "            # Lấy giá trị đầu tiên trong hàng (cột thứ 0) và chuyển đổi nó thành số nguyên. Đây là giá trị của srcID.\n",
    "            srcID = int(row[0])\n",
    "            # Lấy giá trị thứ hai trong hàng (cột thứ 1) và chuyển đổi nó thành số nguyên. Đây là giá trị của dstID.\n",
    "            dstID = int(row[1])\n",
    "            # Lấy giá trị thứ tư trong hàng (cột thứ 3) và chuyển đổi nó thành số nguyên. Đây là giá trị của timestamp.\n",
    "            timestamp = int(row[3])\n",
    "            # Tạo một bộ ba (tuple) gồm srcID, dstID, và timestamp, để đại diện cho một cạnh (edge) trong dữ liệu.\n",
    "            edge = (srcID, dstID, timestamp)\n",
    "            # Kiểm tra xem edge đã tồn tại trong timestampsDict hay chưa. Nếu đã tồn tại, ta tăng giá trị tương ứng trong timestampsDict lên 1.\n",
    "            # Nếu edge chưa tồn tại trong timestampsDict, ta thêm edge vào timestampsDict với giá trị ban đầu là 1.\n",
    "            if edge in timestampsDict:\n",
    "                timestampsDict[edge] += 1\n",
    "            else:\n",
    "                timestampsDict[edge] = 1\n",
    "    #  sắp xếp timestampsDict theo thứ tự tăng dần của timestamp. \n",
    "    #  Kết quả được lưu vào sorted_timestampsDict dưới dạng một danh sách các bộ tứ (tuple) gồm timestamp, srcID, dstID, và số lần xuất hiện.\n",
    "    sorted_timestampsDict = sorted( (key[2], key[0], key[1], value) for (key, value) in timestampsDict.items() )\n",
    "    \n",
    "    \n",
    "    return sorted_timestampsDict"
   ]
  },
  {
   "cell_type": "code",
   "execution_count": 7,
   "metadata": {},
   "outputs": [],
   "source": [
    "\n",
    "# Đây là một hàm được sử dụng để tạo ra các cạnh sống (live edges) và thông tin về các nút bị nhiễm trong các đợt bùng phát nhiễm. \n",
    "# Hàm này nhận vào các tham số runs, p_initial_infect, p_infect, n, seed, và debug.\n",
    "# Hàm tạo ra runs đợt bùng phát nhiễm. Mỗi đợt bùng phát được tạo ra như sau:\n",
    "# Tạo danh sách rỗng cur_infected_ids để lưu trữ các nút bị nhiễm trong đợt bùng phát.\n",
    "# Chọn ngẫu nhiên các \"patient zeros\" (nút ban đầu bị nhiễm) và thêm chúng vào cur_infected_ids.\n",
    "# Lặp qua các timestamps từ tệp tin đã được sắp xếp.\n",
    "# Kiểm tra các điều kiện để lây nhiễm từ nút nguồn sang nút đích và thêm nút đích vào cur_infected_ids nếu bị nhiễm.\n",
    "# Cuối cùng, thêm cur_infected_ids vào danh sách lists_infected_nodes và lưu trữ thông tin của đợt bùng phát vào lists_infected_dicts.\n",
    "# Sau khi chạy xong runs lần, hàm trả về lists_infected_nodes và lists_infected_dicts chứa thông tin về các nút bị nhiễm trong các đợt bùng phát nhiễm.\n",
    "# Các tham số của hàm cho phép điều chỉnh số lần chạy, xác suất ban đầu để nút bị nhiễm, xác suất lây nhiễm giữa các nút, số lượng nút trong mạng, hạt giống ngẫu nhiên và thông tin gỡ rối.\n",
    "\n",
    "\"\"\"runs:Tham số này xác định số lần chạy để tạo ra các đợt bùng phát nhiễm.\n",
    "\n",
    "p_initial_infect: Xác suất ban đầu để một nút được chọn là nhiễm.\n",
    "\n",
    "p_infect: Xác suất lây nhiễm từ một nút nhiễm sang một nút chưa nhiễm trong mỗi lượt truyền.\n",
    "\n",
    "n: Số lượng nút trong mạng.\n",
    "\n",
    "seed: Giá trị hạt giống (seed) được sử dụng để khởi tạo bộ sinh số ngẫu nhiên.\n",
    "\n",
    "debug: Tham số này xác định xem có in thông tin gỡ rối (debug) hay không.\n",
    "\n",
    "Dòng random.seed(seed) được sử dụng để khởi tạo bộ sinh số ngẫu nhiên với hạt giống được chỉ định.\n",
    "\n",
    "timestampsOrdered = orderTimestamps('out.dnc-temporalGraph'): Hàm orderTimestamps được gọi để đọc và sắp xếp các timestamps \n",
    "từ tệp tin 'out.dnc-temporalGraph'. Kết quả được lưu vào timestampsOrdered.\n",
    "\n",
    "num_nodes_infect = math.floor(n * p_initial_infect): Tính toán số lượng nút sẽ bị nhiễm ban đầu,\n",
    " dựa trên xác suất p_initial_infect và số lượng nút n.\n",
    "\n",
    "lists_infected_nodes và lists_infected_dicts là các danh sách rỗng được sử dụng để \n",
    "lưu trữ thông tin về các nút bị nhiễm trong các đợt bùng phát.\n",
    "\n",
    "Vòng lặp for run in range(runs): được sử dụng để lặp qua từng lần chạy.\n",
    "\n",
    "Bên trong vòng lặp, danh sách cur_infected_ids và từ điển cur_infected_dict được tạo ra để lưu trữ các nút \n",
    "đã bị nhiễm trong đợt bùng phát hiện tại.\n",
    "\n",
    "Tiếp theo, trong vòng lặp while, chúng ta chọn ngẫu nhiên các \"patient zeros\" (các nút ban đầu bị nhiễm).\n",
    " Cho đến khi số lượng cur_infected_ids đạt đến num_nodes_infect,\n",
    "chúng ta chọn ngẫu nhiên một nút từ 1 đến n và thêm nút đó vào cur_infected_ids và cur_infected_dict.\n",
    "\n",
    "Vòng lặp tiếp theo là vòng lặp for timestamp in timestampsOrdered để lặp qua các timestamps từ tệp tin.\n",
    "\n",
    "Trong vòng lặp, sourceNode và destNode được lấy từ các giá trị trong timestamp để đại diện cho các nút nguồn và đích trong cạnh.\n",
    "\n",
    "Tiếp theo, chúng ta kiểm tra các điều kiện để lây nhiễm từ nút nguồn sang nút đích. \n",
    "Nếu nút nguồn đã bị nhiễm (sourceNode in cur_infected_ids) và nút đích chưa bị nhiễm (destNode not in cur_infected_ids), \n",
    "chúng ta sử dụng xác suất p_infect để xác định xem nút đích có bị nhiễm hay không. \n",
    "Nếu nút đích bị nhiễm, chúng ta thêm nó vào cur_infected_ids và cur_infected_dict.\n",
    "\n",
    "Cuối cùng, danh sách cur_infected_ids và cur_infected_dict của đợt bùng phát hiện tại \n",
    "được thêm vào các danh sách chính lists_infected_nodes và lists_infected_dicts để lưu trữ thông tin về các đợt bùng phát.\n",
    "\n",
    "Sau khi chạy xong runs lần, hàm trả về lists_infected_nodes và lists_infected_dicts \n",
    "chứa thông tin về các nút bị nhiễm trong các đợt bùng phát nhiễm.\"\"\"\n",
    "\n",
    "def createLiveEdges_combined(runs, p_initial_infect, p_infect, n=2029, seed=0, debug=False):\n",
    "    random.seed(seed)\n",
    "    timestampsOrdered = orderTimestamps('out.dnc-temporalGraph')\n",
    "    \n",
    "    \n",
    "    num_nodes_infect = math.floor(n * p_initial_infect)\n",
    "    lists_infected_nodes = [] # list of lists of infected nodes from every run\n",
    "    lists_infected_dicts = []  # for steps\n",
    "     \n",
    "    \n",
    "    for run in range(runs): # go thru runs\n",
    "        if run % 2500 == 0:\n",
    "            print(\"Creating Live Edge #\" + str(run))\n",
    "        \n",
    "        cur_infected_ids = []\n",
    "        cur_infected_dict = {}\n",
    "        \n",
    "        # Mark patient zeros\n",
    "        while len(cur_infected_ids) < num_nodes_infect:\n",
    "            nID = random.randint(1,n) \n",
    "            if nID not in cur_infected_ids:\n",
    "                cur_infected_ids.append(nID)\n",
    "                cur_infected_dict[nID] = 0\n",
    "        \n",
    "        step = 0 \n",
    "        \n",
    "        for timestamp in timestampsOrdered: # cycle thru the timestamps in the e-mails\n",
    "            \n",
    "            sourceNode = timestamp[1]\n",
    "            destNode = timestamp[2]\n",
    "            \n",
    "            # this logic is used to infect neighbors\n",
    "            if sourceNode in cur_infected_ids: # source node is infected, so we can try to infect\n",
    "                if destNode not in cur_infected_ids: # destination node isn't infected, so we can try to infect\n",
    "                    infected = False # flag to track whether infection successfully transmits\n",
    "                    for email in range(timestamp[3]): # since an edge w/ the same timestamp can occur multiple times\n",
    "                        if random.uniform(0, 1) < p_infect: # flip a coin to infect neighbor\n",
    "                            infected = True\n",
    "                            cur_infected_ids.append(destNode)\n",
    "                            cur_infected_dict[destNode] = step + email # timestamp of infection\n",
    "                            break # b/c we do have an infection, so no need to try to keep infecting\n",
    "            step = step + timestamp[3] # increment the step\n",
    "            \n",
    "        lists_infected_nodes.append(cur_infected_ids) \n",
    "        lists_infected_dicts.append(cur_infected_dict)\n",
    "        \n",
    "    return lists_infected_nodes, lists_infected_dicts\n",
    "\n"
   ]
  },
  {
   "cell_type": "code",
   "execution_count": 10,
   "metadata": {},
   "outputs": [],
   "source": [
    "# Thư viện pickle trong Python được sử dụng để thực hiện quá trình \"serialization\"\n",
    "# (ghi đối tượng Python thành một chuỗi byte) và \"deserialization\" (phục hồi đối tượng từ một chuỗi byte).\n",
    "import pickle"
   ]
  },
  {
   "cell_type": "code",
   "execution_count": 18,
   "metadata": {},
   "outputs": [
    {
     "name": "stdout",
     "output_type": "stream",
     "text": [
      "Creating Live Edge #0\n",
      "Creating Live Edge #2500\n",
      "Creating Live Edge #5000\n",
      "Creating Live Edge #7500\n",
      "Creating Live Edge #10000\n",
      "Creating Live Edge #12500\n",
      "Creating Live Edge #15000\n",
      "Creating Live Edge #17500\n"
     ]
    }
   ],
   "source": [
    "\"\"\" Giá trị 20000 cho tham số runs chỉ định rằng chúng ta muốn tạo ra 20000 đợt bùng phát nhiễm.\n",
    "Giá trị 0.005 cho tham số p_initial_infect chỉ định xác suất ban đầu để một nút bị nhiễm trong mỗi đợt bùng phát. \n",
    "Trong trường hợp này, xác suất này được đặt là 0.005, tức là khoảng 0.5%.\n",
    "Giá trị 0.3 cho tham số p_infect chỉ định xác suất lây nhiễm giữa các nút láng giềng.\n",
    "Trong trường hợp này, xác suất này được đặt là 0.3, tức là khoảng 30%.\"\"\"\n",
    "\n",
    "live_edges_20k_point005_point3, live_edges_20k_point005_point3_steps = createLiveEdges_combined(20000, 0.005, 0.3)"
   ]
  },
  {
   "cell_type": "code",
   "execution_count": 19,
   "metadata": {},
   "outputs": [],
   "source": [
    "pickle.dump(live_edges_20k_point005_point3, open(\"live_edges_20k_point005_point3\", \"wb\") )\n",
    "pickle.dump(live_edges_20k_point005_point3_steps, open(\"live_edges_20k_point005_point3_steps\", \"wb\") )\n"
   ]
  },
  {
   "cell_type": "code",
   "execution_count": 12,
   "metadata": {},
   "outputs": [
    {
     "name": "stdout",
     "output_type": "stream",
     "text": [
      "Creating Live Edge #0\n",
      "Creating Live Edge #2500\n",
      "Creating Live Edge #5000\n",
      "Creating Live Edge #7500\n",
      "Creating Live Edge #10000\n",
      "Creating Live Edge #12500\n",
      "Creating Live Edge #15000\n",
      "Creating Live Edge #17500\n"
     ]
    }
   ],
   "source": [
    "live_edges_20k_point001_point3, live_edges_20k_point001_point3_steps = createLiveEdges_combined(20000, 0.001, 0.3)"
   ]
  },
  {
   "cell_type": "code",
   "execution_count": 13,
   "metadata": {},
   "outputs": [],
   "source": [
    "pickle.dump(live_edges_20k_point001_point3, open(\"live_edges_20k_point001_point3\", \"wb\") )\n",
    "pickle.dump(live_edges_20k_point001_point3_steps, open(\"live_edges_20k_point001_point3_steps\", \"wb\") )"
   ]
  },
  {
   "cell_type": "code",
   "execution_count": 14,
   "metadata": {},
   "outputs": [
    {
     "name": "stdout",
     "output_type": "stream",
     "text": [
      "Creating Live Edge #0\n",
      "Creating Live Edge #2500\n",
      "Creating Live Edge #5000\n",
      "Creating Live Edge #7500\n",
      "Creating Live Edge #10000\n",
      "Creating Live Edge #12500\n",
      "Creating Live Edge #15000\n",
      "Creating Live Edge #17500\n"
     ]
    }
   ],
   "source": [
    "live_edges_20k_point001_point5, live_edges_20k_point001_point5_steps = createLiveEdges_combined(20000, 0.001, 0.5)"
   ]
  },
  {
   "cell_type": "code",
   "execution_count": 15,
   "metadata": {},
   "outputs": [],
   "source": [
    "pickle.dump(live_edges_20k_point001_point5, open(\"live_edges_20k_point001_point5\", \"wb\") )\n",
    "pickle.dump(live_edges_20k_point001_point5_steps, open(\"live_edges_20k_point001_point5_steps\", \"wb\") )"
   ]
  },
  {
   "cell_type": "code",
   "execution_count": 16,
   "metadata": {},
   "outputs": [
    {
     "name": "stdout",
     "output_type": "stream",
     "text": [
      "Creating Live Edge #0\n",
      "Creating Live Edge #2500\n",
      "Creating Live Edge #5000\n",
      "Creating Live Edge #7500\n",
      "Creating Live Edge #10000\n",
      "Creating Live Edge #12500\n",
      "Creating Live Edge #15000\n",
      "Creating Live Edge #17500\n"
     ]
    }
   ],
   "source": [
    "live_edges_20k_point005_point5, live_edges_20k_point005_point5_steps = createLiveEdges_combined(20000, 0.005, 0.5)"
   ]
  },
  {
   "cell_type": "code",
   "execution_count": 17,
   "metadata": {},
   "outputs": [],
   "source": [
    "pickle.dump(live_edges_20k_point005_point5, open(\"live_edges_20k_point005_point5\", \"wb\") )\n",
    "pickle.dump(live_edges_20k_point005_point5_steps, open(\"live_edges_20k_point005_point5_steps\", \"wb\") )"
   ]
  },
  {
   "cell_type": "code",
   "execution_count": null,
   "metadata": {},
   "outputs": [],
   "source": []
  }
 ],
 "metadata": {
  "kernelspec": {
   "display_name": "Python 3 (ipykernel)",
   "language": "python",
   "name": "python3"
  },
  "language_info": {
   "codemirror_mode": {
    "name": "ipython",
    "version": 3
   },
   "file_extension": ".py",
   "mimetype": "text/x-python",
   "name": "python",
   "nbconvert_exporter": "python",
   "pygments_lexer": "ipython3",
   "version": "3.8.0"
  }
 },
 "nbformat": 4,
 "nbformat_minor": 2
}
