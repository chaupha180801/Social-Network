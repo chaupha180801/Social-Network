{
 "cells": [
  {
   "cell_type": "code",
   "execution_count": 1,
   "metadata": {},
   "outputs": [],
   "source": [
    "import snap \n",
    "import pandas as pd \n",
    "import numpy as np\n",
    "import matplotlib.pyplot as plt \n",
    "import networkx as nx\n",
    "\n",
    "from matplotlib.pyplot import loglog \n",
    "\n",
    "%matplotlib inline "
   ]
  },
  {
   "cell_type": "code",
   "execution_count": 2,
   "metadata": {},
   "outputs": [
    {
     "name": "stdout",
     "output_type": "stream",
     "text": [
      "6.0.0\n"
     ]
    }
   ],
   "source": [
    "print(snap.Version)"
   ]
  },
  {
   "cell_type": "code",
   "execution_count": 3,
   "metadata": {},
   "outputs": [],
   "source": [
    "df = pd.read_csv('out.dnc-temporalGraph.csv', header=None)"
   ]
  },
  {
   "cell_type": "code",
   "execution_count": 4,
   "metadata": {},
   "outputs": [
    {
     "data": {
      "text/html": [
       "<div>\n",
       "<style scoped>\n",
       "    .dataframe tbody tr th:only-of-type {\n",
       "        vertical-align: middle;\n",
       "    }\n",
       "\n",
       "    .dataframe tbody tr th {\n",
       "        vertical-align: top;\n",
       "    }\n",
       "\n",
       "    .dataframe thead th {\n",
       "        text-align: right;\n",
       "    }\n",
       "</style>\n",
       "<table border=\"1\" class=\"dataframe\">\n",
       "  <thead>\n",
       "    <tr style=\"text-align: right;\">\n",
       "      <th></th>\n",
       "      <th>0</th>\n",
       "      <th>1</th>\n",
       "      <th>2</th>\n",
       "      <th>3</th>\n",
       "    </tr>\n",
       "  </thead>\n",
       "  <tbody>\n",
       "    <tr>\n",
       "      <th>0</th>\n",
       "      <td>419</td>\n",
       "      <td>465</td>\n",
       "      <td>1</td>\n",
       "      <td>1463507482</td>\n",
       "    </tr>\n",
       "    <tr>\n",
       "      <th>1</th>\n",
       "      <td>869</td>\n",
       "      <td>453</td>\n",
       "      <td>1</td>\n",
       "      <td>1462337903</td>\n",
       "    </tr>\n",
       "  </tbody>\n",
       "</table>\n",
       "</div>"
      ],
      "text/plain": [
       "     0    1  2           3\n",
       "0  419  465  1  1463507482\n",
       "1  869  453  1  1462337903"
      ]
     },
     "execution_count": 4,
     "metadata": {},
     "output_type": "execute_result"
    }
   ],
   "source": [
    "df.head(2)"
   ]
  },
  {
   "cell_type": "code",
   "execution_count": 5,
   "metadata": {},
   "outputs": [],
   "source": [
    "df.columns = ['src', 'dst', 'weight', 'timestamp']"
   ]
  },
  {
   "cell_type": "code",
   "execution_count": 6,
   "metadata": {},
   "outputs": [
    {
     "data": {
      "text/html": [
       "<div>\n",
       "<style scoped>\n",
       "    .dataframe tbody tr th:only-of-type {\n",
       "        vertical-align: middle;\n",
       "    }\n",
       "\n",
       "    .dataframe tbody tr th {\n",
       "        vertical-align: top;\n",
       "    }\n",
       "\n",
       "    .dataframe thead th {\n",
       "        text-align: right;\n",
       "    }\n",
       "</style>\n",
       "<table border=\"1\" class=\"dataframe\">\n",
       "  <thead>\n",
       "    <tr style=\"text-align: right;\">\n",
       "      <th></th>\n",
       "      <th>src</th>\n",
       "      <th>dst</th>\n",
       "      <th>weight</th>\n",
       "      <th>timestamp</th>\n",
       "    </tr>\n",
       "  </thead>\n",
       "  <tbody>\n",
       "    <tr>\n",
       "      <th>0</th>\n",
       "      <td>419</td>\n",
       "      <td>465</td>\n",
       "      <td>1</td>\n",
       "      <td>1463507482</td>\n",
       "    </tr>\n",
       "    <tr>\n",
       "      <th>1</th>\n",
       "      <td>869</td>\n",
       "      <td>453</td>\n",
       "      <td>1</td>\n",
       "      <td>1462337903</td>\n",
       "    </tr>\n",
       "  </tbody>\n",
       "</table>\n",
       "</div>"
      ],
      "text/plain": [
       "   src  dst  weight   timestamp\n",
       "0  419  465       1  1463507482\n",
       "1  869  453       1  1462337903"
      ]
     },
     "execution_count": 6,
     "metadata": {},
     "output_type": "execute_result"
    }
   ],
   "source": [
    "df.head(2)"
   ]
  },
  {
   "cell_type": "code",
   "execution_count": 7,
   "metadata": {},
   "outputs": [],
   "source": [
    "def ProcessEdgeRow(row, Graph):\n",
    "    src = int(row['src'])\n",
    "    dst = int(row['dst'])\n",
    "    timestamp = row['timestamp']\n",
    "    \n",
    "    if not Graph.IsNode(src):\n",
    "        Graph.AddNode(src)\n",
    "    \n",
    "    if not Graph.IsNode(dst):\n",
    "        Graph.AddNode(dst)\n",
    "        \n",
    "    if not Graph.IsEdge(src, dst):\n",
    "        EId = Graph.AddEdge(src, dst)   \n",
    "    else:\n",
    "        EId = Graph.GetEI(src, dst) \n",
    "    \n",
    "    Graph.AddIntAttrDatE(EId, timestamp, 'timestamp')\n",
    "        \n",
    "    return\n",
    "\n",
    "        "
   ]
  },
  {
   "cell_type": "code",
   "execution_count": 8,
   "metadata": {},
   "outputs": [],
   "source": [
    "def GenerateDirectedGraph(df):\n",
    "    #TNEANet là một lớp đồ thị có hỗ trợ các thuộc tính được gán cho các cạnh và nút,\n",
    "    Graph = snap.TNEANet.New()\n",
    "    df.apply(ProcessEdgeRow, axis=1, Graph=Graph)\n",
    "\n",
    "    return Graph"
   ]
  },
  {
   "cell_type": "code",
   "execution_count": 9,
   "metadata": {},
   "outputs": [],
   "source": [
    "G = GenerateDirectedGraph(df)"
   ]
  },
  {
   "cell_type": "code",
   "execution_count": 10,
   "metadata": {},
   "outputs": [
    {
     "name": "stdout",
     "output_type": "stream",
     "text": [
      "Nodes:  1891\n",
      "Edges:  5598\n"
     ]
    }
   ],
   "source": [
    "print(\"Nodes: \", G.GetNodes())\n",
    "print(\"Edges: \", G.GetEdges())"
   ]
  },
  {
   "cell_type": "markdown",
   "metadata": {},
   "source": [
    "## Get Raw Statistics \n",
    "\n",
    "    1. Degree Centrality \n",
    "    2. Clustering Coefficient \n",
    "    3. Mean shortest path from each node \n",
    "    4. Betweeness Centralitily \n",
    "    5. Hub and Authority Score "
   ]
  },
  {
   "cell_type": "code",
   "execution_count": 11,
   "metadata": {},
   "outputs": [],
   "source": [
    "# Khởi tạo dictionary NodeAttributes\n",
    "NodeAttributes = {}"
   ]
  },
  {
   "cell_type": "markdown",
   "metadata": {},
   "source": [
    "#### Step 1: Degree Centrality"
   ]
  },
  {
   "cell_type": "code",
   "execution_count": 12,
   "metadata": {},
   "outputs": [],
   "source": [
    "# Tính toán Indegree vs Outdegree\n",
    "InDegV = snap.TIntPrV()\n",
    "OutDegV = snap.TIntPrV()\n",
    "\n",
    "snap.GetNodeOutDegV(G, OutDegV)\n",
    "snap.GetNodeInDegV(G, InDegV)\n",
    "# Lưu trữ các node và giá trị indegree tương ứng với từng node vào list InDegreeList\n",
    "# Lưu trữ các node và giá trị outdegree tương ứng với từng node vào list OutDegreeList\n",
    "InDegreeList = [ (item.GetVal1(), item.GetVal2()) for item in InDegV ]\n",
    "OutDegreeList = [ (item.GetVal1(), item.GetVal2()) for item in OutDegV ]"
   ]
  },
  {
   "cell_type": "code",
   "execution_count": 13,
   "metadata": {},
   "outputs": [],
   "source": [
    "# Sắp xếp list InDegreeList, OutDegreeList\n",
    "InDegreeList.sort(key=lambda x: x[1], reverse=True)\n",
    "OutDegreeList.sort(key=lambda x: x[1], reverse=True)\n",
    "# Tìm giá trị min, max của OutDegree và InDegree\n",
    "minOutDegree = min(OutDegreeList, key = lambda x: x[1])[1]\n",
    "maxOutDegree = max(OutDegreeList, key = lambda x: x[1])[1]\n",
    "minInDegree = min(InDegreeList, key = lambda x: x[1])[1]\n",
    "maxInDegree = max(InDegreeList, key = lambda x: x[1])[1]"
   ]
  },
  {
   "cell_type": "code",
   "execution_count": 14,
   "metadata": {},
   "outputs": [
    {
     "name": "stdout",
     "output_type": "stream",
     "text": [
      "331 0 249 0\n",
      "(1874, 249) (893, 0)\n"
     ]
    }
   ],
   "source": [
    "print(maxOutDegree, minOutDegree, maxInDegree, minInDegree)\n",
    "print(InDegreeList[0], InDegreeList[-1])"
   ]
  },
  {
   "cell_type": "code",
   "execution_count": 15,
   "metadata": {},
   "outputs": [],
   "source": [
    "for (nodeId, Degree) in InDegreeList:\n",
    "    if not NodeAttributes.get(nodeId, None):\n",
    "        NodeAttributes[nodeId] = {}\n",
    "    NodeAttributes[nodeId]['InDegree'] = Degree\n",
    "    normalizedDegree = (float(Degree) - float(minInDegree))/(float(maxInDegree - float(minInDegree)))\n",
    "    NodeAttributes[nodeId]['NormInDegree'] = normalizedDegree\n",
    "\n",
    "for (nodeId, Degree) in OutDegreeList: \n",
    "    NodeAttributes[nodeId]['OutDegree'] = Degree\n",
    "    normalizedDegree = (float(Degree) - float(minOutDegree))/(float(maxOutDegree - float(minOutDegree)))\n",
    "    NodeAttributes[nodeId]['NormOutDegree'] = normalizedDegree"
   ]
  },
  {
   "cell_type": "code",
   "execution_count": 16,
   "metadata": {},
   "outputs": [
    {
     "name": "stdout",
     "output_type": "stream",
     "text": [
      "{'InDegree': 249, 'NormInDegree': 1.0, 'OutDegree': 331, 'NormOutDegree': 1.0}\n",
      "{'InDegree': 0, 'NormInDegree': 0.0, 'OutDegree': 1, 'NormOutDegree': 0.0030211480362537764}\n"
     ]
    }
   ],
   "source": [
    "print(NodeAttributes[1874])\n",
    "print(NodeAttributes[893])"
   ]
  },
  {
   "cell_type": "code",
   "execution_count": 17,
   "metadata": {},
   "outputs": [
    {
     "data": {
      "image/png": "[encoded data removed]",
      "text/plain": [
       "<Figure size 1080x1080 with 1 Axes>"
      ]
     },
     "metadata": {
      "needs_background": "light"
     },
     "output_type": "display_data"
    }
   ],
   "source": [
    "# Degree Distribution \n",
    "\n",
    "OutDegToCntV = snap.TIntPrV()\n",
    "snap.GetOutDegCnt(G, OutDegToCntV)\n",
    "count = 0\n",
    "nodeList = []\n",
    "degreeList = []\n",
    "for item in OutDegToCntV:\n",
    "    (n, d) = (item.GetVal2(), item.GetVal1())\n",
    "    nodeList.append(n)\n",
    "    degreeList.append(d)\n",
    "x = np.array( [ np.log10(item.GetVal1()) for itemm in OutDegToCntV if item.GetVal1() > 0 ] )\n",
    "y = np.array( [ np.log10(item.GetVal2()) for item in OutDegToCntV if item.GetVal2() > 0 ] )\n",
    "# Plot Degree Distribution\n",
    "plt.figure(figsize=(15,15))\n",
    "loglog(degreeList, nodeList, 'bo')\n",
    "plt.title(\"LogLog plot of out-degree distribution\")\n",
    "plt.show()"
   ]
  },
  {
   "cell_type": "markdown",
   "metadata": {},
   "source": [
    "#### Step 2: Clustering Coefficient"
   ]
  },
  {
   "cell_type": "code",
   "execution_count": 18,
   "metadata": {},
   "outputs": [],
   "source": [
    "NIdCCfH = snap.TIntFltH()\n",
    "snap.GetNodeClustCf(G, NIdCCfH)\n",
    "ClusterCoeffList = list()\n",
    "for nodeId in NIdCCfH:\n",
    "    NodeAttributes[nodeId]['ClusterCoeff'] = NIdCCfH[nodeId]\n",
    "    ClusterCoeffList.append((nodeId, NIdCCfH[nodeId]))"
   ]
  },
  {
   "cell_type": "code",
   "execution_count": 19,
   "metadata": {},
   "outputs": [],
   "source": [
    "ClusterCoeffList.sort(key=lambda x: x[1], reverse=True)\n",
    "minClusterCoeff = min(ClusterCoeffList, key=lambda x: x[1])[1]\n",
    "maxClusterCoeff = max(ClusterCoeffList, key=lambda x: x[1])[1]"
   ]
  },
  {
   "cell_type": "code",
   "execution_count": 20,
   "metadata": {},
   "outputs": [
    {
     "name": "stdout",
     "output_type": "stream",
     "text": [
      "(1753, 1.0) 1.0 (1381, 0.0) 0.0\n"
     ]
    }
   ],
   "source": [
    "print(ClusterCoeffList[1], maxClusterCoeff, ClusterCoeffList[-1], minClusterCoeff)"
   ]
  },
  {
   "cell_type": "code",
   "execution_count": 21,
   "metadata": {},
   "outputs": [],
   "source": [
    "NIdCCfH = snap.TIntFltH()\n",
    "snap.GetNodeClustCf(G, NIdCCfH)\n",
    "ClusterCoeffList = list()\n",
    "for nodeId in NIdCCfH:\n",
    "    clusterCoeff = NIdCCfH[nodeId]\n",
    "    normClusterCoeff = (clusterCoeff - minClusterCoeff)/(maxClusterCoeff - minClusterCoeff)\n",
    "    NodeAttributes[nodeId]['NormClusterCoeff'] = normClusterCoeff"
   ]
  },
  {
   "cell_type": "code",
   "execution_count": 22,
   "metadata": {},
   "outputs": [
    {
     "name": "stdout",
     "output_type": "stream",
     "text": [
      "{'InDegree': 3, 'NormInDegree': 0.012048192771084338, 'OutDegree': 0, 'NormOutDegree': 0.0, 'ClusterCoeff': 0.6666666666666666, 'NormClusterCoeff': 0.6666666666666666}\n"
     ]
    }
   ],
   "source": [
    "print(NodeAttributes[2012])"
   ]
  },
  {
   "cell_type": "markdown",
   "metadata": {},
   "source": [
    "#### Step 3: Avergate shortest path length"
   ]
  },
  {
   "cell_type": "code",
   "execution_count": 23,
   "metadata": {},
   "outputs": [],
   "source": [
    "nodeCount = float(G.GetNodes() - 1)\n",
    "avgShortPathLenList = list()\n",
    "for src in G.Nodes():\n",
    "    srcId = src.GetId()\n",
    "    totalShortPathLength = 0 \n",
    "    \n",
    "    for dst in G.Nodes():\n",
    "        dstId = dst.GetId()\n",
    "        if srcId == dstId:\n",
    "            continue\n",
    "        l = snap.GetShortPath(G, srcId, dstId, True)\n",
    "        if l < 0:\n",
    "            continue\n",
    "            \n",
    "        totalShortPathLength += float(l) \n",
    "    NodeAttributes[srcId]['AvgShortPathLen'] = totalShortPathLength/nodeCount\n",
    "    avgShortPathLenList.append((srcId, totalShortPathLength/nodeCount))"
   ]
  },
  {
   "cell_type": "code",
   "execution_count": 24,
   "metadata": {},
   "outputs": [],
   "source": [
    "minAvgShortPathLength = min(avgShortPathLenList, key=lambda x: x[1])[1]\n",
    "maxAvgShortPathLength = max(avgShortPathLenList, key=lambda x: x[1])[1]"
   ]
  },
  {
   "cell_type": "code",
   "execution_count": 25,
   "metadata": {},
   "outputs": [],
   "source": [
    "for (node, spLen) in avgShortPathLenList:\n",
    "    normAvgShortPath = (spLen - minAvgShortPathLength)/(maxAvgShortPathLength - minAvgShortPathLength)\n",
    "    NodeAttributes[node]['normAvgShortPathLen'] = normAvgShortPath"
   ]
  },
  {
   "cell_type": "code",
   "execution_count": 26,
   "metadata": {},
   "outputs": [
    {
     "name": "stdout",
     "output_type": "stream",
     "text": [
      "{'InDegree': 2, 'NormInDegree': 0.008032128514056224, 'OutDegree': 1, 'NormOutDegree': 0.0030211480362537764, 'ClusterCoeff': 0.3333333333333333, 'NormClusterCoeff': 0.3333333333333333, 'AvgShortPathLen': 4.321164021164021, 'normAvgShortPathLen': 1.0}\n"
     ]
    }
   ],
   "source": [
    "print(NodeAttributes[480])"
   ]
  },
  {
   "cell_type": "markdown",
   "metadata": {},
   "source": [
    "#### Step 4: Betweeness Centrality"
   ]
  },
  {
   "cell_type": "code",
   "execution_count": 27,
   "metadata": {},
   "outputs": [],
   "source": [
    "Nodes = snap.TIntFltH()\n",
    "Edges = snap.TIntPrFltH()\n",
    "BetweenessNodeList = list()\n",
    "BetweenessEdgeList = list()\n",
    "\n",
    "snap.GetBetweennessCentr(G, Nodes, Edges, 1.0)\n",
    "for node in Nodes:\n",
    "    NodeAttributes[node]['Betweeness'] = Nodes[node]\n",
    "    BetweenessNodeList.append((node, Nodes[node]))\n",
    "\n",
    "for edge in Edges:\n",
    "    BetweenessEdgeList.append((edge.GetVal1(), edge.GetVal2(), Edges[edge]))\n",
    "\n",
    "BetweenessNodeList.sort(key=lambda x: x[1], reverse=True) \n",
    "BetweenessEdgeList.sort(key=lambda x: x[2], reverse=True)"
   ]
  },
  {
   "cell_type": "code",
   "execution_count": 28,
   "metadata": {},
   "outputs": [
    {
     "name": "stdout",
     "output_type": "stream",
     "text": [
      "(1669, 556845.3564806876) (884, 0.0)\n"
     ]
    }
   ],
   "source": [
    "print(BetweenessNodeList[0], BetweenessNodeList[-1])"
   ]
  },
  {
   "cell_type": "code",
   "execution_count": 29,
   "metadata": {},
   "outputs": [],
   "source": [
    "minBetweeness = BetweenessNodeList[-1][1]\n",
    "maxBetweeness = BetweenessNodeList[0][1]\n",
    "for (node, betweeness) in BetweenessNodeList:\n",
    "    normBetweeness = (betweeness - minBetweeness)/(maxBetweeness - minBetweeness)\n",
    "    NodeAttributes[node]['normBetweeness'] = normBetweeness   "
   ]
  },
  {
   "cell_type": "code",
   "execution_count": 30,
   "metadata": {},
   "outputs": [
    {
     "name": "stdout",
     "output_type": "stream",
     "text": [
      "{'InDegree': 222, 'NormInDegree': 0.891566265060241, 'OutDegree': 242, 'NormOutDegree': 0.7311178247734139, 'ClusterCoeff': 0.0007700181235972993, 'NormClusterCoeff': 0.0007700181235972993, 'AvgShortPathLen': 1.439153439153439, 'normAvgShortPathLen': 0.33304763070895066, 'Betweeness': 556845.3564806876, 'normBetweeness': 1.0}\n",
      "{'InDegree': 1, 'NormInDegree': 0.004016064257028112, 'OutDegree': 0, 'NormOutDegree': 0.0, 'ClusterCoeff': 0.0, 'NormClusterCoeff': 0.0, 'AvgShortPathLen': 0.0, 'normAvgShortPathLen': 0.0, 'Betweeness': 0.0, 'normBetweeness': 0.0}\n"
     ]
    }
   ],
   "source": [
    "print(NodeAttributes[1669])\n",
    "print(NodeAttributes[884])"
   ]
  },
  {
   "cell_type": "markdown",
   "metadata": {},
   "source": [
    "#### Step 5: Get Auth and Hub Score"
   ]
  },
  {
   "cell_type": "code",
   "execution_count": 31,
   "metadata": {},
   "outputs": [],
   "source": [
    "NIdHubH = snap.TIntFltH()\n",
    "NIdAuthH = snap.TIntFltH()\n",
    "snap.GetHits(G, NIdHubH, NIdAuthH)\n",
    "HubNodes = []\n",
    "for nodeId in  NIdHubH:\n",
    "    HubNodes.append((nodeId,  NIdHubH[nodeId]))\n",
    "    NodeAttributes[nodeId]['HubScore'] = NIdHubH[nodeId]\n",
    "    \n",
    "HubNodes.sort(key = lambda x: x[1], reverse=True)\n",
    "\n",
    "AuthNodes = []\n",
    "for nodeId in  NIdAuthH:\n",
    "    AuthNodes.append((nodeId,  NIdAuthH[nodeId])) \n",
    "    NodeAttributes[nodeId]['AuthScore'] = NIdAuthH[nodeId]\n",
    "AuthNodes.sort(key = lambda x: x[1], reverse=True)\n"
   ]
  },
  {
   "cell_type": "code",
   "execution_count": 32,
   "metadata": {},
   "outputs": [
    {
     "name": "stdout",
     "output_type": "stream",
     "text": [
      "(1874, 0.30510831720503034) (893, 0.0)\n",
      "(1874, 0.38410704002084095) (884, 0.0)\n"
     ]
    }
   ],
   "source": [
    "print(AuthNodes[0], AuthNodes[-1])\n",
    "print(HubNodes[0], HubNodes[-1])"
   ]
  },
  {
   "cell_type": "code",
   "execution_count": 33,
   "metadata": {},
   "outputs": [],
   "source": [
    "minAuthNodes = AuthNodes[-1][1]\n",
    "maxAuthNodes = AuthNodes[0][1]\n",
    "minHubNodes = HubNodes[-1][1]\n",
    "maxHubNodes = HubNodes[0][1]"
   ]
  },
  {
   "cell_type": "code",
   "execution_count": 34,
   "metadata": {},
   "outputs": [],
   "source": [
    "for (node, hubScore) in HubNodes:\n",
    "    normHubScore = (hubScore - minHubNodes)/(maxHubNodes - minHubNodes)\n",
    "    NodeAttributes[node]['normHubScore'] = normHubScore\n",
    "    \n",
    "for (node, authScore) in AuthNodes:\n",
    "    normAuthScore = (authScore - minAuthNodes)/(maxAuthNodes - minAuthNodes)\n",
    "    NodeAttributes[node]['normAuthScore'] = normAuthScore"
   ]
  },
  {
   "cell_type": "code",
   "execution_count": 35,
   "metadata": {},
   "outputs": [
    {
     "name": "stdout",
     "output_type": "stream",
     "text": [
      "{'InDegree': 249, 'NormInDegree': 1.0, 'OutDegree': 331, 'NormOutDegree': 1.0, 'ClusterCoeff': 0.0014452513597956258, 'NormClusterCoeff': 0.0014452513597956258, 'AvgShortPathLen': 1.456084656084656, 'normAvgShortPathLen': 0.33696583812905595, 'Betweeness': 495085.4708108281, 'normBetweeness': 0.8890896997683746, 'HubScore': 0.38410704002084095, 'AuthScore': 0.30510831720503034, 'normHubScore': 1.0, 'normAuthScore': 1.0}\n",
      "{'InDegree': 0, 'NormInDegree': 0.0, 'OutDegree': 1, 'NormOutDegree': 0.0030211480362537764, 'ClusterCoeff': 0.0, 'NormClusterCoeff': 0.0, 'AvgShortPathLen': 0.0005291005291005291, 'normAvgShortPathLen': 0.0001224439818782907, 'Betweeness': 0.0, 'normBetweeness': 0.0, 'HubScore': 0.00018503722141871546, 'AuthScore': 0.0, 'normHubScore': 0.00048173348087729835, 'normAuthScore': 0.0}\n"
     ]
    }
   ],
   "source": [
    "print(NodeAttributes[1874])\n",
    "print(NodeAttributes[893])"
   ]
  },
  {
   "cell_type": "markdown",
   "metadata": {},
   "source": [
    "## Automatic Social Hierarchy Detection From Email Network \n",
    "\n",
    "### Steps \n",
    "\n",
    "    1. Compute node's importance on response time for email  \n",
    "    2. Get all Cliques (Algorithm 457)\n",
    "    3. Number of clique each node is part of \n",
    "    4. Raw Clique Score computed using \n",
    "    \n",
    " $$R*2^{n-1}$$\n",
    " \n",
    "    5. Weighted Clique Score (Based on importance of a person) \n",
    "    \n",
    " $$W = t*2^{n-1}$$\n",
    " "
   ]
  },
  {
   "cell_type": "markdown",
   "metadata": {},
   "source": [
    "### Use networkx library for Clique analysis \n",
    "\n",
    "    1. Build a multigraph with edges for each (src, dst, timestamp) entry in the email data set \n",
    "    2. Build undirected graph with edges between nodes only when email count exceeds N=4 between two those nodes \n",
    "    "
   ]
  },
  {
   "cell_type": "code",
   "execution_count": 36,
   "metadata": {},
   "outputs": [],
   "source": [
    "def ProcessNxEdgeRow(row, Graph):\n",
    "    src = row['src']\n",
    "    dst = row['dst']\n",
    "    timestamp = row['timestamp']\n",
    "    \n",
    "    Graph.add_node(src)\n",
    "    Graph.add_node(dst)\n",
    "    Graph.add_edge(src, dst, timestamp=timestamp)\n",
    "        \n",
    "    return\n",
    "        "
   ]
  },
  {
   "cell_type": "code",
   "execution_count": 37,
   "metadata": {},
   "outputs": [],
   "source": [
    "def GenerateDirectedNxGraph(df):\n",
    "    Graph = nx.MultiDiGraph(name=\"DNC Email Network\")\n",
    "    df.apply(ProcessNxEdgeRow, axis=1, Graph=Graph)\n",
    "\n",
    "    return Graph"
   ]
  },
  {
   "cell_type": "code",
   "execution_count": 38,
   "metadata": {},
   "outputs": [],
   "source": [
    "GNx = GenerateDirectedNxGraph(df)"
   ]
  },
  {
   "cell_type": "code",
   "execution_count": 39,
   "metadata": {},
   "outputs": [
    {
     "name": "stdout",
     "output_type": "stream",
     "text": [
      "Networkx Nodes:  1891\n",
      "Networkx Edges:  39264\n"
     ]
    }
   ],
   "source": [
    "print(\"Networkx Nodes: \", GNx.number_of_nodes())\n",
    "print(\"Networkx Edges: \", GNx.number_of_edges())"
   ]
  },
  {
   "cell_type": "markdown",
   "metadata": {},
   "source": [
    "#### Prune all edges with N <=4 emails exchanged\n",
    "As per the paper - consider edges between nodes only if the nodes have exchanged > N messages\n",
    "N is a tunable parameter \n",
    "\n",
    "DNC email has a median of message exchanged = 2 "
   ]
  },
  {
   "cell_type": "code",
   "execution_count": 40,
   "metadata": {},
   "outputs": [],
   "source": [
    "edgeCount = dict()\n",
    "for edge in GNx.edges():\n",
    "    if not edgeCount.get(edge, None):\n",
    "        edgeCount[edge] = 0\n",
    "    edgeCount[edge] += 1      "
   ]
  },
  {
   "cell_type": "code",
   "execution_count": 41,
   "metadata": {},
   "outputs": [],
   "source": [
    "emailDist= [v for k, v in edgeCount.items()]\n",
    "emailDist.sort(reverse=True)"
   ]
  },
  {
   "cell_type": "code",
   "execution_count": 42,
   "metadata": {},
   "outputs": [
    {
     "name": "stdout",
     "output_type": "stream",
     "text": [
      "731 1 2.0 5598\n"
     ]
    }
   ],
   "source": [
    "print(emailDist[0], emailDist[-1], np.median(emailDist), len(emailDist))"
   ]
  },
  {
   "cell_type": "code",
   "execution_count": 43,
   "metadata": {},
   "outputs": [],
   "source": [
    "N = 4\n",
    "pruneList = [ k for k, v in edgeCount.items() if v <= N ]\n",
    "prunedEdgeList = [ k for k, v in edgeCount.items() if v > N ]"
   ]
  },
  {
   "cell_type": "markdown",
   "metadata": {},
   "source": [
    "### Generate undirected graph with edges between nodes with email count > N"
   ]
  },
  {
   "cell_type": "code",
   "execution_count": 44,
   "metadata": {},
   "outputs": [
    {
     "name": "stdout",
     "output_type": "stream",
     "text": [
      "Networkx Nodes:  452\n",
      "Networkx Edges:  1139\n"
     ]
    }
   ],
   "source": [
    "uGNx = nx.Graph()\n",
    "\n",
    "for edge in prunedEdgeList:\n",
    "    (src, dst) = edge\n",
    "    uGNx.add_edge(src, dst)\n",
    "    \n",
    "print(\"Networkx Nodes: \", uGNx.number_of_nodes())\n",
    "print(\"Networkx Edges: \", uGNx.number_of_edges())"
   ]
  },
  {
   "cell_type": "markdown",
   "metadata": {},
   "source": [
    "### Step 1: Compute Nodes importance on email response time "
   ]
  },
  {
   "cell_type": "markdown",
   "metadata": {},
   "source": [
    "### Approach 1: Based on Rowe et. al. paper \n",
    "\n",
    "Use response time to measure importance of a node \n",
    "\n",
    "    1. For each node get all the out bound email timestamps \n",
    "    2. For each email sent - check the response time from the receiver \n",
    "    3. Consider responses within a day for computing time score. \n",
    "    4. Consider response time for nodes that have exchanged at least 100 emails \n",
    "       (fewer emails with high response time can falsely promote node based on time score)\n",
    " "
   ]
  },
  {
   "cell_type": "code",
   "execution_count": 45,
   "metadata": {},
   "outputs": [],
   "source": [
    "temporalMap = dict()\n",
    "for n, nbrs in GNx.adjacency():\n",
    "    temporalMap[n] = {}\n",
    "    for nbr, edict in nbrs.items():\n",
    "        t1 = [d['timestamp'] for d in edict.values()]\n",
    "        t1.sort()\n",
    "        temporalMap[n][nbr] = t1 "
   ]
  },
  {
   "cell_type": "code",
   "execution_count": 46,
   "metadata": {},
   "outputs": [],
   "source": [
    "from datetime import datetime, timezone\n",
    "\n",
    "avgNodeResponse = list()\n",
    "\n",
    "for src, destinations in temporalMap.items():\n",
    "    totalRequestResp = 0\n",
    "    totalResponseTime = 0.0\n",
    "    \n",
    "    for dst, reqTimestamps in destinations.items():\n",
    "        responseTime = None\n",
    "\n",
    "        for req in reqTimestamps:\n",
    "            reqTime = datetime.fromtimestamp(req)\n",
    "\n",
    "            for resp in temporalMap[dst].get(src, list()):\n",
    "                respTime = datetime.fromtimestamp(resp)\n",
    "            \n",
    "                if resp < req:\n",
    "\n",
    "                    continue\n",
    "            \n",
    "                deltaTime = respTime - reqTime\n",
    "            \n",
    "                if deltaTime.total_seconds() > 86400:\n",
    "\n",
    "                    break\n",
    "                \n",
    "                totalRequestResp += 1\n",
    "                totalResponseTime += deltaTime.total_seconds()\n",
    "                break\n",
    "\n",
    "    if totalRequestResp > 0 and totalResponseTime > 0:\n",
    "        avgResponse = totalResponseTime/totalRequestResp\n",
    "    else:\n",
    "        avgResponse = float(7*86400)\n",
    "    timeScore = 1/avgResponse\n",
    "    avgNodeResponse.append((src, timeScore, totalResponseTime, totalRequestResp ))\n",
    "        "
   ]
  },
  {
   "cell_type": "code",
   "execution_count": 47,
   "metadata": {},
   "outputs": [],
   "source": [
    "avgNodeTimeScore = list()\n",
    "\n",
    "#\n",
    "# Ignore response time for email exchanges fewer than 10\n",
    "#\n",
    "for x in avgNodeResponse:\n",
    "    (src, timeScore, totalResponseTime, totalRequestResp) = x\n",
    "    \n",
    "    if totalRequestResp <= 200:\n",
    "        timeScore = 1.0/float(7*86400)\n",
    "        \n",
    "    avgNodeTimeScore.append((src, timeScore, totalResponseTime, totalRequestResp))\n",
    "        \n",
    "avgNodeTimeScore.sort(key=lambda x: x[1], reverse=True)\n"
   ]
  },
  {
   "cell_type": "code",
   "execution_count": 48,
   "metadata": {},
   "outputs": [
    {
     "name": "stdout",
     "output_type": "stream",
     "text": [
      "(884, 1.6534391534391535e-06, 0.0, 0)\n",
      "[(1625, 0.0020221266801294163, 368424.0, 745), (895, 0.00011885108532413246, 1918367.0, 228)]\n"
     ]
    }
   ],
   "source": [
    "print(avgNodeTimeScore[-1])\n",
    "print(avgNodeTimeScore[:2])"
   ]
  },
  {
   "cell_type": "code",
   "execution_count": 49,
   "metadata": {},
   "outputs": [
    {
     "name": "stdout",
     "output_type": "stream",
     "text": [
      "{'InDegree': 7, 'NormInDegree': 0.028112449799196786, 'OutDegree': 10, 'NormOutDegree': 0.030211480362537766, 'ClusterCoeff': 0.05714285714285714, 'NormClusterCoeff': 0.05714285714285714, 'AvgShortPathLen': 1.9407407407407407, 'normAvgShortPathLen': 0.4491245255295702, 'Betweeness': 4076.0655300534095, 'normBetweeness': 0.007319923714214854, 'HubScore': 0.037001447460587755, 'AuthScore': 0.036908751066446865, 'normHubScore': 0.09633108380044303, 'normAuthScore': 0.12096933772423019}\n"
     ]
    }
   ],
   "source": [
    "print(NodeAttributes[1625])"
   ]
  },
  {
   "cell_type": "code",
   "execution_count": 50,
   "metadata": {},
   "outputs": [],
   "source": [
    "normTimeScore = {}\n",
    "minAvgTimeScore = avgNodeTimeScore[-1][1]\n",
    "maxAvgTimeScore = avgNodeTimeScore[0][1]\n",
    "\n",
    "for (node, timeScore, _, _) in avgNodeTimeScore:\n",
    "    normTimeScore[node] = (timeScore - minAvgTimeScore)/(maxAvgTimeScore - minAvgTimeScore)"
   ]
  },
  {
   "cell_type": "code",
   "execution_count": 51,
   "metadata": {},
   "outputs": [
    {
     "data": {
      "text/plain": [
       "1.0"
      ]
     },
     "execution_count": 51,
     "metadata": {},
     "output_type": "execute_result"
    }
   ],
   "source": [
    "normTimeScore[1625]"
   ]
  },
  {
   "cell_type": "code",
   "execution_count": 52,
   "metadata": {},
   "outputs": [],
   "source": [
    "nodeCliqueCount = {}\n",
    "rawCliqueScore = {}\n",
    "weightedCliqueScore = {}\n",
    "\n",
    "for clique in nx.find_cliques(uGNx):\n",
    "    for node in clique:\n",
    "        \n",
    "        if not nodeCliqueCount.get(node, None):\n",
    "            nodeCliqueCount[node] = 0\n",
    "            \n",
    "        if not rawCliqueScore.get(node, None):\n",
    "            rawCliqueScore[node] = 0\n",
    "        \n",
    "        if not weightedCliqueScore.get(node, None):\n",
    "            weightedCliqueScore[node] = 0\n",
    "            \n",
    "        nodeCliqueCount[node] += 1 \n",
    "        \n",
    "        n = len(clique)\n",
    "        \n",
    "        rawCliqueScore[node] += 2**n\n",
    "        \n",
    "        weightedCliqueScore[node] += (2**n)*normTimeScore[node]"
   ]
  },
  {
   "cell_type": "code",
   "execution_count": 53,
   "metadata": {},
   "outputs": [],
   "source": [
    "nodeCliqueList = [ (k, v) for k, v in nodeCliqueCount.items() ]\n",
    "nodeCliqueList.sort(key=lambda x: x[1], reverse=True )"
   ]
  },
  {
   "cell_type": "code",
   "execution_count": 54,
   "metadata": {},
   "outputs": [],
   "source": [
    "rawCliqueList = [ (k, v) for k, v in rawCliqueScore.items() ]\n",
    "rawCliqueList.sort(key=lambda x: x[1], reverse=True )"
   ]
  },
  {
   "cell_type": "code",
   "execution_count": 55,
   "metadata": {},
   "outputs": [],
   "source": [
    "weightedCliqueList = [ (k, v) for k, v in weightedCliqueScore.items() ]\n",
    "weightedCliqueList.sort(key=lambda x: x[1], reverse=True )"
   ]
  },
  {
   "cell_type": "code",
   "execution_count": 56,
   "metadata": {},
   "outputs": [
    {
     "name": "stdout",
     "output_type": "stream",
     "text": [
      "[(1874, 157), (1839, 123), (1669, 104), (999, 79), (1258, 79), (1369, 76), (453, 75), (585, 66), (1144, 57), (1159, 46)]\n",
      "[(1874, 29604), (999, 27636), (1258, 27616), (511, 22656), (1369, 21044), (1974, 18560), (1998, 18416), (585, 17972), (1144, 12248), (1899, 10304)]\n",
      "[(1258, 1133.2113553681543), (1874, 1079.9719124532426), (999, 887.6525051646299), (511, 671.973655462151), (1998, 455.752744276308), (585, 335.7248913932537), (1669, 246.35443082589936), (1440, 223.60144658592768), (1287, 134.03972467188618), (453, 98.8985963334423)]\n"
     ]
    }
   ],
   "source": [
    "print(nodeCliqueList[:10])\n",
    "print(rawCliqueList[:10])\n",
    "print(weightedCliqueList[:10])"
   ]
  },
  {
   "cell_type": "code",
   "execution_count": 57,
   "metadata": {},
   "outputs": [],
   "source": [
    "minNodeCliqueCount = nodeCliqueList[-1][1]\n",
    "maxNodeCliqueCount = nodeCliqueList[0][1]\n",
    "\n",
    "minRawCliqueScore = rawCliqueList[-1][1]\n",
    "maxRawCliqueScore = rawCliqueList[0][1]\n",
    "\n",
    "minWeightedCliqueScore = weightedCliqueList[-1][1]\n",
    "maxWeightedCliqueScore = weightedCliqueList[0][1]"
   ]
  },
  {
   "cell_type": "code",
   "execution_count": 58,
   "metadata": {},
   "outputs": [],
   "source": [
    "for node, score in nodeCliqueList:\n",
    "    NodeAttributes[node]['nodeClique'] = score\n",
    "    NodeAttributes[node]['normNodeClique'] = float(score - minNodeCliqueCount)/float(maxNodeCliqueCount - minNodeCliqueCount)"
   ]
  },
  {
   "cell_type": "code",
   "execution_count": 59,
   "metadata": {},
   "outputs": [],
   "source": [
    "for node, score in rawCliqueList:\n",
    "    NodeAttributes[node]['rawClique'] = score\n",
    "    NodeAttributes[node]['normRawClique'] = float(score - minRawCliqueScore)/float(maxRawCliqueScore - minRawCliqueScore)"
   ]
  },
  {
   "cell_type": "code",
   "execution_count": 60,
   "metadata": {},
   "outputs": [],
   "source": [
    "for node, score in weightedCliqueList:\n",
    "    NodeAttributes[node]['weigthedClique'] = score\n",
    "    NodeAttributes[node]['normWeightedClique'] = float(score - minWeightedCliqueScore)/float(maxWeightedCliqueScore - minWeightedCliqueScore)"
   ]
  },
  {
   "cell_type": "code",
   "execution_count": 61,
   "metadata": {},
   "outputs": [
    {
     "data": {
      "text/plain": [
       "{'InDegree': 249,\n",
       " 'NormInDegree': 1.0,\n",
       " 'OutDegree': 331,\n",
       " 'NormOutDegree': 1.0,\n",
       " 'ClusterCoeff': 0.0014452513597956258,\n",
       " 'NormClusterCoeff': 0.0014452513597956258,\n",
       " 'AvgShortPathLen': 1.456084656084656,\n",
       " 'normAvgShortPathLen': 0.33696583812905595,\n",
       " 'Betweeness': 495085.4708108281,\n",
       " 'normBetweeness': 0.8890896997683746,\n",
       " 'HubScore': 0.38410704002084095,\n",
       " 'AuthScore': 0.30510831720503034,\n",
       " 'normHubScore': 1.0,\n",
       " 'normAuthScore': 1.0,\n",
       " 'nodeClique': 157,\n",
       " 'normNodeClique': 1.0,\n",
       " 'rawClique': 29604,\n",
       " 'normRawClique': 1.0,\n",
       " 'weigthedClique': 1079.9719124532426,\n",
       " 'normWeightedClique': 0.9530189645005671}"
      ]
     },
     "execution_count": 61,
     "metadata": {},
     "output_type": "execute_result"
    }
   ],
   "source": [
    "NodeAttributes[1874]"
   ]
  },
  {
   "cell_type": "code",
   "execution_count": 104,
   "metadata": {},
   "outputs": [],
   "source": [
    "socialscorefeature = list()\n",
    "for node, attributes in NodeAttributes.items():\n",
    "    normNodeClique = attributes.get('normNodeClique')\n",
    "    normRawClique = attributes.get('normRawClique')\n",
    "    normWeightedClique = attributes.get('normWeightedClique')\n",
    "    nodeClique = attributes.get('nodeClique')\n",
    "    rawClique = attributes.get('rawClique')\n",
    "    weigthedClique = attributes.get('weigthedClique')\n",
    "    if (normNodeClique == None):\n",
    "        normNodeClique = 0.0\n",
    "    if (normRawClique == None):\n",
    "        normRawClique = 0.0\n",
    "    if (normWeightedClique == None):\n",
    "        normWeightedClique = 0.0\n",
    "    if (nodeClique == None):\n",
    "        nodeClique = 0.0\n",
    "    if (rawClique == None):\n",
    "        rawClique = 0.0\n",
    "    if (weigthedClique == None):\n",
    "        weigthedClique = 0.0\n",
    "    socialscorefeature.append((node, normNodeClique, normRawClique, normWeightedClique, nodeClique, rawClique, weigthedClique))"
   ]
  },
  {
   "cell_type": "code",
   "execution_count": 108,
   "metadata": {},
   "outputs": [
    {
     "name": "stdout",
     "output_type": "stream",
     "text": [
      "[(1, 0.12179487179487179, 0.003986217147490034, 0.0, 20, 120, 0.0), (2, 0.0, 0.0, 0.0, 0.0, 0.0, 0.0), (3, 0.0, 0.0, 0.0, 0.0, 0.0, 0.0), (4, 0.0, 0.0, 0.0, 0.0, 0.0, 0.0), (5, 0.0, 6.756300249983109e-05, 0.0, 1, 4, 0.0), (6, 0.0, 0.0, 0.0, 0.0, 0.0, 0.0), (7, 0.0, 0.0, 0.0, 0.0, 0.0, 0.0), (9, 0.0, 0.0, 0.0, 0.0, 0.0, 0.0), (10, 0.0, 0.0, 0.0, 0.0, 0.0, 0.0), (11, 0.0, 6.756300249983109e-05, 0.0, 1, 4, 0.0), (12, 0.00641025641025641, 0.0020944530774947637, 0.0, 2, 64, 0.0), (13, 0.0, 0.0, 0.0, 0.0, 0.0, 0.0), (14, 0.0, 6.756300249983109e-05, 0.0, 1, 4, 0.0), (15, 0.0, 0.0, 0.0, 0.0, 0.0, 0.0), (16, 0.0, 0.0, 0.0, 0.0, 0.0, 0.0), (17, 0.0, 6.756300249983109e-05, 0.0, 1, 4, 0.0), (19, 0.0, 0.0, 0.0, 0.0, 0.0, 0.0), (20, 0.0, 0.0, 0.0, 0.0, 0.0, 0.0), (21, 0.019230769230769232, 0.06911695155732721, 0.0, 4, 2048, 0.0), (22, 0.0, 0.0, 0.0, 0.0, 0.0, 0.0), (23, 0.0, 0.0, 0.0, 0.0, 0.0, 0.0), (24, 0.00641025641025641, 0.00033781501249915546, 0.0, 2, 12, 0.0), (25, 0.01282051282051282, 0.0031754611174920613, 0.0, 3, 96, 0.0), (26, 0.0, 6.756300249983109e-05, 0.0, 1, 4, 0.0), (27, 0.0, 0.0, 0.0, 0.0, 0.0, 0.0), (28, 0.0, 0.0, 0.0, 0.0, 0.0, 0.0), (29, 0.0, 0.0, 0.0, 0.0, 0.0, 0.0), (30, 0.0, 0.0, 0.0, 0.0, 0.0, 0.0), (31, 0.00641025641025641, 0.00047294101749881766, 0.0, 2, 16, 0.0), (32, 0.0, 6.756300249983109e-05, 0.0, 1, 4, 0.0), (33, 0.0, 0.0, 0.0, 0.0, 0.0, 0.0), (34, 0.01282051282051282, 0.005877981217485305, 0.0, 3, 176, 0.0), (35, 0.0, 0.0, 0.0, 0.0, 0.0, 0.0), (36, 0.0, 0.0, 0.0, 0.0, 0.0, 0.0), (37, 0.0, 0.0, 0.0, 0.0, 0.0, 0.0), (38, 0.0, 0.0, 0.0, 0.0, 0.0, 0.0), (39, 0.0, 0.0, 0.0, 0.0, 0.0, 0.0), (40, 0.0, 0.0, 0.0, 0.0, 0.0, 0.0), (41, 0.0, 0.0, 0.0, 0.0, 0.0, 0.0), (42, 0.0, 0.0, 0.0, 0.0, 0.0, 0.0), (43, 0.0, 0.0, 0.0, 0.0, 0.0, 0.0), (44, 0.0, 0.0, 0.0, 0.0, 0.0, 0.0), (45, 0.0, 0.00020268900749949328, 0.0, 1, 8, 0.0), (46, 0.0, 0.0, 0.0, 0.0, 0.0, 0.0), (47, 0.0, 0.00047294101749881766, 0.0, 1, 16, 0.0), (48, 0.0, 0.0, 0.0, 0.0, 0.0, 0.0), (49, 0.0, 0.0, 0.0, 0.0, 0.0, 0.0), (50, 0.0, 0.0, 0.0, 0.0, 0.0, 0.0), (51, 0.0, 0.0, 0.0, 0.0, 0.0, 0.0), (52, 0.0, 0.0, 0.0, 0.0, 0.0, 0.0), (53, 0.0, 0.0, 0.0, 0.0, 0.0, 0.0), (54, 0.0, 0.0, 0.0, 0.0, 0.0, 0.0), (55, 0.0, 6.756300249983109e-05, 0.0, 1, 4, 0.0), (56, 0.038461538461538464, 0.02209310181744477, 0.0, 7, 656, 0.0), (57, 0.0, 0.0, 0.0, 0.0, 0.0, 0.0), (58, 0.0, 0.0, 0.0, 0.0, 0.0, 0.0), (59, 0.0, 0.0, 0.0, 0.0, 0.0, 0.0), (60, 0.0, 6.756300249983109e-05, 0.0, 1, 4, 0.0), (61, 0.0, 0.0, 0.0, 0.0, 0.0, 0.0), (63, 0.0, 0.0, 0.0, 0.0, 0.0, 0.0), (64, 0.0, 6.756300249983109e-05, 0.0, 1, 4, 0.0), (65, 0.0, 0.0, 0.0, 0.0, 0.0, 0.0), (66, 0.0, 0.0, 0.0, 0.0, 0.0, 0.0), (67, 0.0, 0.0, 0.0, 0.0, 0.0, 0.0), (68, 0.0, 0.0, 0.0, 0.0, 0.0, 0.0), (69, 0.0, 0.0, 0.0, 0.0, 0.0, 0.0), (71, 0.0, 0.0, 0.0, 0.0, 0.0, 0.0), (72, 0.0, 0.0, 0.0, 0.0, 0.0, 0.0), (73, 0.0, 0.0, 0.0, 0.0, 0.0, 0.0), (74, 0.0, 0.0, 0.0, 0.0, 0.0, 0.0), (75, 0.0, 0.0, 0.0, 0.0, 0.0, 0.0), (76, 0.0, 0.0, 0.0, 0.0, 0.0, 0.0), (77, 0.0, 0.0, 0.0, 0.0, 0.0, 0.0), (78, 0.0, 0.0, 0.0, 0.0, 0.0, 0.0), (79, 0.0, 0.0, 0.0, 0.0, 0.0, 0.0), (80, 0.00641025641025641, 0.00020268900749949328, 0.0, 2, 8, 0.0), (81, 0.0, 0.0, 0.0, 0.0, 0.0, 0.0), (82, 0.0, 0.0, 0.0, 0.0, 0.0, 0.0), (84, 0.01282051282051282, 0.0010134450374974665, 0.0, 3, 32, 0.0), (85, 0.0, 0.0, 0.0, 0.0, 0.0, 0.0), (86, 0.0, 0.0, 0.0, 0.0, 0.0, 0.0), (87, 0.0, 6.756300249983109e-05, 0.0, 1, 4, 0.0), (89, 0.0, 0.0, 0.0, 0.0, 0.0, 0.0), (90, 0.01282051282051282, 0.0007431930274981421, 0.0, 3, 24, 0.0), (91, 0.0, 0.0, 0.0, 0.0, 0.0, 0.0), (92, 0.0, 6.756300249983109e-05, 0.0, 1, 4, 0.0), (93, 0.0, 0.0, 0.0, 0.0, 0.0, 0.0), (94, 0.0, 0.0, 0.0, 0.0, 0.0, 0.0), (95, 0.0, 0.0, 0.0, 0.0, 0.0, 0.0), (96, 0.0, 6.756300249983109e-05, 0.0, 1, 4, 0.0), (97, 0.0, 0.0, 0.0, 0.0, 0.0, 0.0), (98, 0.0, 0.0, 0.0, 0.0, 0.0, 0.0), (99, 0.0, 6.756300249983109e-05, 0.0, 1, 4, 0.0), (101, 0.0, 0.0, 0.0, 0.0, 0.0, 0.0), (102, 0.0, 0.0, 0.0, 0.0, 0.0, 0.0), (103, 0.0, 0.0, 0.0, 0.0, 0.0, 0.0), (104, 0.0, 0.0, 0.0, 0.0, 0.0, 0.0), (105, 0.0, 6.756300249983109e-05, 0.0, 1, 4, 0.0), (106, 0.0, 0.0, 0.0, 0.0, 0.0, 0.0), (107, 0.0, 0.0, 0.0, 0.0, 0.0, 0.0), (108, 0.0, 0.0, 0.0, 0.0, 0.0, 0.0), (109, 0.0, 6.756300249983109e-05, 0.0, 1, 4, 0.0), (110, 0.0, 6.756300249983109e-05, 0.0, 1, 4, 0.0), (111, 0.0, 0.0, 0.0, 0.0, 0.0, 0.0), (112, 0.0, 0.0, 0.0, 0.0, 0.0, 0.0), (113, 0.0, 0.0, 0.0, 0.0, 0.0, 0.0), (114, 0.0, 0.0, 0.0, 0.0, 0.0, 0.0), (115, 0.0, 6.756300249983109e-05, 0.0, 1, 4, 0.0), (116, 0.0, 0.0, 0.0, 0.0, 0.0, 0.0), (117, 0.0, 6.756300249983109e-05, 0.0, 1, 4, 0.0), (118, 0.0, 0.0, 0.0, 0.0, 0.0, 0.0), (119, 0.0, 6.756300249983109e-05, 0.0, 1, 4, 0.0), (120, 0.0, 0.00047294101749881766, 0.0, 1, 16, 0.0), (121, 0.0, 6.756300249983109e-05, 0.0, 1, 4, 0.0), (122, 0.0, 6.756300249983109e-05, 0.0, 1, 4, 0.0), (123, 0.0, 0.0, 0.0, 0.0, 0.0, 0.0), (124, 0.0, 0.0, 0.0, 0.0, 0.0, 0.0), (125, 0.0, 0.0, 0.0, 0.0, 0.0, 0.0), (126, 0.0, 0.0, 0.0, 0.0, 0.0, 0.0), (127, 0.0, 0.0, 0.0, 0.0, 0.0, 0.0), (128, 0.0, 0.0, 0.0, 0.0, 0.0, 0.0), (129, 0.0, 6.756300249983109e-05, 0.0, 1, 4, 0.0), (130, 0.0, 0.0, 0.0, 0.0, 0.0, 0.0), (131, 0.0, 0.0, 0.0, 0.0, 0.0, 0.0), (132, 0.0, 0.0, 0.0, 0.0, 0.0, 0.0), (133, 0.0, 0.0, 0.0, 0.0, 0.0, 0.0), (134, 0.0, 0.0, 0.0, 0.0, 0.0, 0.0), (135, 0.0, 0.0, 0.0, 0.0, 0.0, 0.0), (136, 0.0, 0.0, 0.0, 0.0, 0.0, 0.0), (137, 0.00641025641025641, 0.00020268900749949328, 0.0, 2, 8, 0.0), (139, 0.0, 0.0, 0.0, 0.0, 0.0, 0.0), (140, 0.0, 0.0, 0.0, 0.0, 0.0, 0.0), (141, 0.0, 0.0, 0.0, 0.0, 0.0, 0.0), (142, 0.0, 6.756300249983109e-05, 0.0, 1, 4, 0.0), (143, 0.0, 0.0, 0.0, 0.0, 0.0, 0.0), (144, 0.0, 0.0, 0.0, 0.0, 0.0, 0.0), (145, 0.0, 0.0, 0.0, 0.0, 0.0, 0.0), (146, 0.0, 6.756300249983109e-05, 0.0, 1, 4, 0.0), (147, 0.0, 0.0, 0.0, 0.0, 0.0, 0.0), (148, 0.0, 0.0, 0.0, 0.0, 0.0, 0.0), (149, 0.0, 0.0, 0.0, 0.0, 0.0, 0.0), (150, 0.0, 0.0, 0.0, 0.0, 0.0, 0.0), (151, 0.0, 0.00047294101749881766, 0.0, 1, 16, 0.0), (153, 0.0, 0.00020268900749949328, 0.0, 1, 8, 0.0), (154, 0.0, 0.0, 0.0, 0.0, 0.0, 0.0), (155, 0.038461538461538464, 0.017363691642456592, 0.0, 7, 516, 0.0), (156, 0.0, 0.0, 0.0, 0.0, 0.0, 0.0), (157, 0.0, 0.0, 0.0, 0.0, 0.0, 0.0), (158, 0.0, 0.0, 0.0, 0.0, 0.0, 0.0), (159, 0.0, 0.0, 0.0, 0.0, 0.0, 0.0), (160, 0.0, 0.0, 0.0, 0.0, 0.0, 0.0), (161, 0.0, 0.0, 0.0, 0.0, 0.0, 0.0), (162, 0.0, 0.0, 0.0, 0.0, 0.0, 0.0), (163, 0.0, 0.0, 0.0, 0.0, 0.0, 0.0), (164, 0.0, 6.756300249983109e-05, 0.0, 1, 4, 0.0), (165, 0.0, 0.00047294101749881766, 0.0, 1, 16, 0.0), (166, 0.0, 0.0, 0.0, 0.0, 0.0, 0.0), (167, 0.0, 0.0, 0.0, 0.0, 0.0, 0.0), (168, 0.0, 0.0, 0.0, 0.0, 0.0, 0.0), (171, 0.0, 0.0, 0.0, 0.0, 0.0, 0.0), (173, 0.0, 0.0, 0.0, 0.0, 0.0, 0.0), (174, 0.0, 0.0, 0.0, 0.0, 0.0, 0.0), (175, 0.0, 0.0, 0.0, 0.0, 0.0, 0.0), (176, 0.0, 0.0, 0.0, 0.0, 0.0, 0.0), (177, 0.0, 6.756300249983109e-05, 0.0, 1, 4, 0.0), (178, 0.0, 6.756300249983109e-05, 0.0, 1, 4, 0.0), (179, 0.0, 6.756300249983109e-05, 0.0, 1, 4, 0.0), (180, 0.0, 0.0, 0.0, 0.0, 0.0, 0.0), (181, 0.0, 0.0, 0.0, 0.0, 0.0, 0.0), (182, 0.0, 0.0, 0.0, 0.0, 0.0, 0.0), (183, 0.0, 0.0, 0.0, 0.0, 0.0, 0.0), (184, 0.0, 6.756300249983109e-05, 0.0, 1, 4, 0.0), (185, 0.0, 0.0, 0.0, 0.0, 0.0, 0.0), (186, 0.0, 0.0, 0.0, 0.0, 0.0, 0.0), (187, 0.0, 0.0, 0.0, 0.0, 0.0, 0.0), (188, 0.0, 0.0, 0.0, 0.0, 0.0, 0.0), (189, 0.0, 0.0, 0.0, 0.0, 0.0, 0.0), (190, 0.0, 0.0, 0.0, 0.0, 0.0, 0.0), (191, 0.0, 0.0, 0.0, 0.0, 0.0, 0.0), (192, 0.0, 0.0, 0.0, 0.0, 0.0, 0.0), (193, 0.0, 0.0, 0.0, 0.0, 0.0, 0.0), (194, 0.0, 0.0, 0.0, 0.0, 0.0, 0.0), (195, 0.0, 6.756300249983109e-05, 0.0, 1, 4, 0.0), (196, 0.0, 0.0, 0.0, 0.0, 0.0, 0.0), (197, 0.0, 0.0, 0.0, 0.0, 0.0, 0.0), (199, 0.0, 6.756300249983109e-05, 0.0, 1, 4, 0.0), (200, 0.0, 0.0, 0.0, 0.0, 0.0, 0.0), (201, 0.0, 0.0, 0.0, 0.0, 0.0, 0.0), (202, 0.0, 0.0, 0.0, 0.0, 0.0, 0.0), (203, 0.057692307692307696, 0.010066887372474832, 0.0, 10, 300, 0.0), (204, 0.0, 0.0, 0.0, 0.0, 0.0, 0.0), (205, 0.0, 6.756300249983109e-05, 0.0, 1, 4, 0.0), (206, 0.0, 0.0, 0.0, 0.0, 0.0, 0.0), (207, 0.0, 0.0, 0.0, 0.0, 0.0, 0.0), (208, 0.0, 0.0, 0.0, 0.0, 0.0, 0.0), (209, 0.0, 6.756300249983109e-05, 0.0, 1, 4, 0.0), (210, 0.0, 0.0, 0.0, 0.0, 0.0, 0.0), (211, 0.0, 6.756300249983109e-05, 0.0, 1, 4, 0.0), (212, 0.0, 0.0, 0.0, 0.0, 0.0, 0.0), (213, 0.0, 0.0, 0.0, 0.0, 0.0, 0.0), (214, 0.0, 0.0, 0.0, 0.0, 0.0, 0.0), (216, 0.0, 0.0, 0.0, 0.0, 0.0, 0.0), (217, 0.038461538461538464, 0.1166813053172083, 0.0, 7, 3456, 0.0), (218, 0.0, 0.0, 0.0, 0.0, 0.0, 0.0), (219, 0.0, 0.0, 0.0, 0.0, 0.0, 0.0), (220, 0.0, 6.756300249983109e-05, 0.0, 1, 4, 0.0), (221, 0.0, 0.0, 0.0, 0.0, 0.0, 0.0), (222, 0.0, 0.0, 0.0, 0.0, 0.0, 0.0), (223, 0.0, 6.756300249983109e-05, 0.0, 1, 4, 0.0), (224, 0.0, 0.0, 0.0, 0.0, 0.0, 0.0), (226, 0.0, 0.0, 0.0, 0.0, 0.0, 0.0), (227, 0.0, 6.756300249983109e-05, 0.0, 1, 4, 0.0), (228, 0.0, 6.756300249983109e-05, 0.0, 1, 4, 0.0), (229, 0.00641025641025641, 0.00020268900749949328, 0.0, 2, 8, 0.0), (230, 0.0, 0.0, 0.0, 0.0, 0.0, 0.0), (231, 0.0, 0.0, 0.0, 0.0, 0.0, 0.0), (232, 0.0, 0.0, 0.0, 0.0, 0.0, 0.0), (233, 0.0, 0.0, 0.0, 0.0, 0.0, 0.0), (234, 0.0, 0.0, 0.0, 0.0, 0.0, 0.0), (235, 0.0, 0.0, 0.0, 0.0, 0.0, 0.0), (238, 0.0, 0.0, 0.0, 0.0, 0.0, 0.0), (239, 0.0, 6.756300249983109e-05, 0.0, 1, 4, 0.0), (240, 0.0, 0.0, 0.0, 0.0, 0.0, 0.0), (241, 0.0, 0.0, 0.0, 0.0, 0.0, 0.0), (242, 0.0, 0.0, 0.0, 0.0, 0.0, 0.0), (243, 0.0, 6.756300249983109e-05, 0.0, 1, 4, 0.0), (245, 0.05128205128205128, 0.002905209107492737, 0.0, 9, 88, 0.0), (246, 0.04487179487179487, 0.0011485710424971286, 0.0, 8, 36, 0.0), (247, 0.0, 0.0, 0.0, 0.0, 0.0, 0.0), (248, 0.0, 6.756300249983109e-05, 0.0, 1, 4, 0.0), (249, 0.0, 6.756300249983109e-05, 0.0, 1, 4, 0.0), (250, 0.0, 0.0, 0.0, 0.0, 0.0, 0.0), (251, 0.0, 0.0, 0.0, 0.0, 0.0, 0.0), (252, 0.0, 6.756300249983109e-05, 0.0, 1, 4, 0.0), (253, 0.0, 0.0, 0.0, 0.0, 0.0, 0.0), (254, 0.0, 0.0, 0.0, 0.0, 0.0, 0.0), (255, 0.0, 0.0, 0.0, 0.0, 0.0, 0.0), (256, 0.0, 6.756300249983109e-05, 0.0, 1, 4, 0.0), (257, 0.0, 0.0, 0.0, 0.0, 0.0, 0.0), (259, 0.0, 0.0, 0.0, 0.0, 0.0, 0.0), (260, 0.0, 0.0, 0.0, 0.0, 0.0, 0.0), (261, 0.0, 0.0, 0.0, 0.0, 0.0, 0.0), (262, 0.0, 0.0, 0.0, 0.0, 0.0, 0.0), (263, 0.0, 6.756300249983109e-05, 0.0, 1, 4, 0.0), (264, 0.0, 0.0, 0.0, 0.0, 0.0, 0.0), (265, 0.0, 0.0, 0.0, 0.0, 0.0, 0.0), (266, 0.0, 0.00020268900749949328, 0.0, 1, 8, 0.0), (267, 0.0, 0.0, 0.0, 0.0, 0.0, 0.0), (268, 0.0, 0.0, 0.0, 0.0, 0.0, 0.0), (269, 0.0, 0.0, 0.0, 0.0, 0.0, 0.0), (271, 0.0, 0.0, 0.0, 0.0, 0.0, 0.0), (272, 0.0, 0.00020268900749949328, 0.0, 1, 8, 0.0), (274, 0.0, 0.0, 0.0, 0.0, 0.0, 0.0), (275, 0.0, 0.0, 0.0, 1, 2, 0.0), (276, 0.0, 0.0, 0.0, 0.0, 0.0, 0.0), (277, 0.0, 0.0, 0.0, 0.0, 0.0, 0.0), (278, 0.05128205128205128, 0.010607391392473482, 0.0, 9, 316, 0.0), (279, 0.0, 0.00020268900749949328, 0.0, 1, 8, 0.0), (280, 0.0, 0.0, 0.0, 0.0, 0.0, 0.0), (281, 0.0, 0.0, 0.0, 0.0, 0.0, 0.0), (282, 0.0, 0.0, 0.0, 0.0, 0.0, 0.0), (283, 0.0, 0.0, 0.0, 0.0, 0.0, 0.0), (284, 0.0, 6.756300249983109e-05, 0.0, 1, 4, 0.0), (285, 0.0, 0.0, 0.0, 0.0, 0.0, 0.0), (286, 0.0, 0.0, 0.0, 0.0, 0.0, 0.0), (287, 0.0, 0.0, 0.0, 0.0, 0.0, 0.0), (288, 0.0, 0.0, 0.0, 0.0, 0.0, 0.0), (289, 0.0, 0.0, 0.0, 0.0, 0.0, 0.0), (290, 0.0, 0.0, 0.0, 0.0, 0.0, 0.0), (291, 0.0, 6.756300249983109e-05, 0.0, 1, 4, 0.0), (292, 0.0, 6.756300249983109e-05, 0.0, 1, 4, 0.0), (293, 0.0, 6.756300249983109e-05, 0.0, 1, 4, 0.0), (294, 0.0, 0.0, 0.0, 0.0, 0.0, 0.0), (295, 0.0, 0.0, 0.0, 0.0, 0.0, 0.0), (297, 0.0, 0.0, 0.0, 0.0, 0.0, 0.0), (298, 0.0, 0.0, 0.0, 0.0, 0.0, 0.0), (299, 0.0, 0.0, 0.0, 0.0, 0.0, 0.0), (300, 0.0, 0.0, 0.0, 0.0, 0.0, 0.0), (301, 0.0, 0.0, 0.0, 1, 2, 0.0), (302, 0.0, 0.0, 0.0, 0.0, 0.0, 0.0), (303, 0.0, 0.0, 0.0, 0.0, 0.0, 0.0), (306, 0.0, 6.756300249983109e-05, 0.0, 1, 4, 0.0), (307, 0.0, 0.0, 0.0, 0.0, 0.0, 0.0), (308, 0.0, 0.0, 0.0, 0.0, 0.0, 0.0), (309, 0.0, 0.0, 0.0, 0.0, 0.0, 0.0), (310, 0.0, 0.0, 0.0, 0.0, 0.0, 0.0), (311, 0.0, 0.0, 0.0, 0.0, 0.0, 0.0), (312, 0.0, 6.756300249983109e-05, 0.0, 1, 4, 0.0), (313, 0.0, 0.0, 0.0, 0.0, 0.0, 0.0), (314, 0.0, 0.0, 0.0, 0.0, 0.0, 0.0), (315, 0.0, 6.756300249983109e-05, 0.0, 1, 4, 0.0), (316, 0.0, 6.756300249983109e-05, 0.0, 1, 4, 0.0), (317, 0.0, 0.0, 0.0, 0.0, 0.0, 0.0), (318, 0.0, 0.0, 0.0, 0.0, 0.0, 0.0), (319, 0.0, 6.756300249983109e-05, 0.0, 1, 4, 0.0), (321, 0.0, 0.0, 0.0, 0.0, 0.0, 0.0), (322, 0.0, 0.0, 0.0, 0.0, 0.0, 0.0), (323, 0.0, 0.0, 0.0, 0.0, 0.0, 0.0), (324, 0.0, 0.0, 0.0, 0.0, 0.0, 0.0), (325, 0.0, 0.0, 0.0, 0.0, 0.0, 0.0), (326, 0.0, 0.0, 0.0, 0.0, 0.0, 0.0), (327, 0.0, 0.0, 0.0, 0.0, 0.0, 0.0), (328, 0.0, 0.0, 0.0, 0.0, 0.0, 0.0), (329, 0.10897435897435898, 0.015607053577460983, 0.0, 18, 464, 0.0), (330, 0.0, 0.0, 0.0, 0.0, 0.0, 0.0), (331, 0.0, 0.0, 0.0, 0.0, 0.0, 0.0), (332, 0.0, 0.0, 0.0, 0.0, 0.0, 0.0), (333, 0.0, 0.0, 0.0, 0.0, 0.0, 0.0), (334, 0.0, 0.0, 0.0, 0.0, 0.0, 0.0), (335, 0.0, 0.0, 0.0, 0.0, 0.0, 0.0), (337, 0.0, 0.0, 0.0, 0.0, 0.0, 0.0), (338, 0.0, 0.0, 0.0, 0.0, 0.0, 0.0), (339, 0.0, 6.756300249983109e-05, 0.0, 1, 4, 0.0), (340, 0.0, 0.0, 0.0, 0.0, 0.0, 0.0), (341, 0.019230769230769232, 0.0006080670224984799, 0.0, 4, 20, 0.0), (342, 0.0, 0.0, 0.0, 0.0, 0.0, 0.0), (343, 0.0, 0.0, 0.0, 0.0, 0.0, 0.0), (344, 0.0, 6.756300249983109e-05, 0.0, 1, 4, 0.0), (345, 0.0, 6.756300249983109e-05, 0.0, 1, 4, 0.0), (346, 0.0, 6.756300249983109e-05, 0.0, 1, 4, 0.0), (347, 0.0, 0.0, 0.0, 0.0, 0.0, 0.0), (348, 0.0, 0.0, 0.0, 0.0, 0.0, 0.0), (350, 0.057692307692307696, 0.005472603202486319, 0.0, 10, 164, 0.0), (351, 0.0, 0.0, 0.0, 0.0, 0.0, 0.0), (352, 0.0, 6.756300249983109e-05, 0.0, 1, 4, 0.0), (353, 0.0, 6.756300249983109e-05, 0.0, 1, 4, 0.0), (354, 0.0, 0.0, 0.0, 0.0, 0.0, 0.0), (355, 0.0, 0.0, 0.0, 0.0, 0.0, 0.0), (356, 0.0, 0.0, 0.0, 0.0, 0.0, 0.0), (357, 0.0, 0.0, 0.0, 0.0, 0.0, 0.0), (358, 0.0, 6.756300249983109e-05, 0.0, 1, 4, 0.0), (359, 0.01282051282051282, 0.0026349570974934125, 0.0, 3, 80, 0.0), (360, 0.0, 0.0, 0.0, 0.0, 0.0, 0.0), (361, 0.0, 0.0, 0.0, 0.0, 0.0, 0.0), (362, 0.0, 0.00047294101749881766, 0.0, 1, 16, 0.0), (363, 0.019230769230769232, 0.00047294101749881766, 0.0, 4, 16, 0.0), (364, 0.0, 0.0, 0.0, 0.0, 0.0, 0.0), (365, 0.0, 0.0, 0.0, 0.0, 0.0, 0.0), (366, 0.0, 6.756300249983109e-05, 0.0, 1, 4, 0.0), (367, 0.00641025641025641, 0.00020268900749949328, 0.0, 2, 8, 0.0), (368, 0.0, 0.0, 0.0, 0.0, 0.0, 0.0), (369, 0.0, 6.756300249983109e-05, 0.0, 1, 4, 0.0), (370, 0.0, 0.0, 0.0, 0.0, 0.0, 0.0), (371, 0.0, 0.0, 0.0, 0.0, 0.0, 0.0), (372, 0.0, 0.0, 0.0, 0.0, 0.0, 0.0), (373, 0.0, 0.0, 0.0, 0.0, 0.0, 0.0), (374, 0.0, 0.0, 0.0, 0.0, 0.0, 0.0), (375, 0.0, 6.756300249983109e-05, 0.0, 1, 4, 0.0), (376, 0.0, 0.0, 0.0, 0.0, 0.0, 0.0), (377, 0.0, 0.0, 0.0, 0.0, 0.0, 0.0), (378, 0.0, 0.0, 0.0, 0.0, 0.0, 0.0), (379, 0.0, 0.0, 0.0, 0.0, 0.0, 0.0), (380, 0.0, 0.0, 0.0, 0.0, 0.0, 0.0), (381, 0.0, 0.0, 0.0, 0.0, 0.0, 0.0), (382, 0.0, 0.0, 0.0, 0.0, 0.0, 0.0), (383, 0.0, 0.00020268900749949328, 0.0, 1, 8, 0.0), (384, 0.0, 0.0, 0.0, 0.0, 0.0, 0.0), (385, 0.0, 6.756300249983109e-05, 0.0, 1, 4, 0.0), (386, 0.0, 6.756300249983109e-05, 0.0, 1, 4, 0.0), (387, 0.0, 0.0, 0.0, 0.0, 0.0, 0.0), (388, 0.0, 0.0, 0.0, 0.0, 0.0, 0.0), (389, 0.0, 0.0, 0.0, 0.0, 0.0, 0.0), (390, 0.0, 0.0, 0.0, 0.0, 0.0, 0.0), (391, 0.0, 0.0, 0.0, 0.0, 0.0, 0.0), (392, 0.0, 0.0, 0.0, 0.0, 0.0, 0.0), (393, 0.0, 0.0, 0.0, 0.0, 0.0, 0.0), (394, 0.0, 0.0, 0.0, 0.0, 0.0, 0.0), (395, 0.0, 0.0, 0.0, 0.0, 0.0, 0.0), (396, 0.0, 0.0, 0.0, 0.0, 0.0, 0.0), (397, 0.0, 0.0, 0.0, 0.0, 0.0, 0.0), (399, 0.0, 0.0, 0.0, 0.0, 0.0, 0.0), (400, 0.0, 0.0, 0.0, 0.0, 0.0, 0.0), (402, 0.0, 0.0, 0.0, 0.0, 0.0, 0.0), (403, 0.01282051282051282, 0.0006080670224984799, 0.0, 3, 20, 0.0), (404, 0.0, 0.0, 0.0, 0.0, 0.0, 0.0), (405, 0.0, 0.0, 0.0, 0.0, 0.0, 0.0), (406, 0.0, 0.0, 0.0, 0.0, 0.0, 0.0), (407, 0.0, 0.0, 0.0, 0.0, 0.0, 0.0), (410, 0.01282051282051282, 0.00047294101749881766, 0.0, 3, 16, 0.0), (411, 0.057692307692307696, 0.22910614147692723, 0.0, 10, 6784, 0.0), (412, 0.05128205128205128, 0.012093777447469766, 0.0, 9, 360, 0.0), (413, 0.0, 0.0, 0.0, 0.0, 0.0, 0.0), (414, 0.0, 0.0, 0.0, 0.0, 0.0, 0.0), (415, 0.0, 0.0, 0.0, 0.0, 0.0, 0.0), (416, 0.0, 0.0, 0.0, 0.0, 0.0, 0.0), (417, 0.0, 0.0, 0.0, 0.0, 0.0, 0.0), (418, 0.0, 0.0, 0.0, 0.0, 0.0, 0.0), (419, 0.0, 0.00020268900749949328, 0.0, 1, 8, 0.0), (420, 0.0, 0.00020268900749949328, 0.0, 1, 8, 0.0), (421, 0.0, 6.756300249983109e-05, 0.0, 1, 4, 0.0), (422, 0.0, 0.0, 0.0, 0.0, 0.0, 0.0), (423, 0.0, 6.756300249983109e-05, 0.0, 1, 4, 0.0), (424, 0.0, 0.0, 0.0, 0.0, 0.0, 0.0), (425, 0.0, 0.0, 0.0, 0.0, 0.0, 0.0), (426, 0.0, 0.0, 0.0, 0.0, 0.0, 0.0), (428, 0.0, 0.0, 0.0, 0.0, 0.0, 0.0), (429, 0.00641025641025641, 0.00020268900749949328, 0.0, 2, 8, 0.0), (430, 0.0, 0.00020268900749949328, 0.0, 1, 8, 0.0), (431, 0.0, 0.0, 0.0, 0.0, 0.0, 0.0), (432, 0.0, 0.0, 0.0, 0.0, 0.0, 0.0), (433, 0.0, 0.0, 0.0, 0.0, 0.0, 0.0), (434, 0.0, 0.00020268900749949328, 0.0, 1, 8, 0.0), (435, 0.0, 0.0, 0.0, 0.0, 0.0, 0.0), (436, 0.0, 0.0, 0.0, 0.0, 0.0, 0.0), (437, 0.0, 0.0, 0.0, 0.0, 0.0, 0.0), (438, 0.0, 0.0, 0.0, 0.0, 0.0, 0.0), (440, 0.0, 0.0, 0.0, 0.0, 0.0, 0.0), (441, 0.0, 0.0, 0.0, 0.0, 0.0, 0.0), (442, 0.0, 0.0, 0.0, 0.0, 0.0, 0.0), (443, 0.0, 0.0, 0.0, 0.0, 0.0, 0.0), (444, 0.0, 6.756300249983109e-05, 0.0, 1, 4, 0.0), (446, 0.0, 0.0, 0.0, 0.0, 0.0, 0.0), (447, 0.0, 0.0, 0.0, 0.0, 0.0, 0.0), (448, 0.0, 0.0, 0.0, 0.0, 0.0, 0.0), (449, 0.00641025641025641, 0.00020268900749949328, 0.0, 2, 8, 0.0), (450, 0.0, 0.0, 0.0, 0.0, 0.0, 0.0), (451, 0.0, 0.0, 0.0, 0.0, 0.0, 0.0), (453, 0.47435897435897434, 0.10249307479224377, 0.08727286032296458, 75, 3036, 98.8985963334423), (454, 0.0, 0.0, 0.0, 0.0, 0.0, 0.0), (455, 0.0, 0.0, 0.0, 0.0, 0.0, 0.0), (456, 0.0, 0.0, 0.0, 0.0, 0.0, 0.0), (457, 0.0, 0.0010134450374974665, 0.0, 1, 32, 0.0), (458, 0.0, 0.0, 0.0, 0.0, 0.0, 0.0), (459, 0.0, 0.0, 0.0, 0.0, 0.0, 0.0), (460, 0.0, 0.0, 0.0, 0.0, 0.0, 0.0), (461, 0.0, 0.0, 0.0, 0.0, 0.0, 0.0), (462, 0.0, 0.0, 0.0, 0.0, 0.0, 0.0), (463, 0.0, 0.0, 0.0, 0.0, 0.0, 0.0), (464, 0.0, 0.0, 0.0, 0.0, 0.0, 0.0), (465, 0.01282051282051282, 0.0053374771974866566, 0.0, 3, 160, 0.0), (466, 0.0, 6.756300249983109e-05, 0.0, 1, 4, 0.0), (467, 0.0, 0.0, 0.0, 0.0, 0.0, 0.0), (468, 0.0, 0.0, 0.0, 0.0, 0.0, 0.0), (469, 0.0, 0.0, 0.0, 0.0, 0.0, 0.0), (470, 0.0, 0.0, 0.0, 0.0, 0.0, 0.0), (471, 0.0, 0.0, 0.0, 0.0, 0.0, 0.0), (472, 0.0, 0.0, 0.0, 0.0, 0.0, 0.0), (473, 0.0, 0.0, 0.0, 0.0, 0.0, 0.0), (474, 0.0, 0.0, 0.0, 0.0, 0.0, 0.0), (475, 0.0, 0.0, 0.0, 0.0, 0.0, 0.0), (476, 0.00641025641025641, 0.00047294101749881766, 0.0, 2, 16, 0.0), (477, 0.0, 0.0, 0.0, 0.0, 0.0, 0.0), (478, 0.0, 0.0, 0.0, 0.0, 0.0, 0.0), (479, 0.019230769230769232, 0.0020944530774947637, 0.0, 4, 64, 0.0), (480, 0.0, 0.0, 0.0, 0.0, 0.0, 0.0), (481, 0.0, 0.0, 0.0, 0.0, 0.0, 0.0), (482, 0.0, 0.0, 0.0, 0.0, 0.0, 0.0), (483, 0.0, 0.0, 0.0, 0.0, 0.0, 0.0), (484, 0.0, 0.0, 0.0, 0.0, 0.0, 0.0), (485, 0.0, 0.0, 0.0, 0.0, 0.0, 0.0), (486, 0.0, 6.756300249983109e-05, 0.0, 1, 4, 0.0), (487, 0.0, 0.0, 0.0, 0.0, 0.0, 0.0), (488, 0.0, 0.0, 0.0, 0.0, 0.0, 0.0), (489, 0.0, 0.0, 0.0, 0.0, 0.0, 0.0), (490, 0.0, 0.0, 0.0, 0.0, 0.0, 0.0), (492, 0.0, 6.756300249983109e-05, 0.0, 1, 4, 0.0), (493, 0.0, 0.0, 0.0, 0.0, 0.0, 0.0), (494, 0.0, 0.0, 0.0, 0.0, 0.0, 0.0), (495, 0.0, 0.0, 0.0, 0.0, 0.0, 0.0), (496, 0.0, 0.0, 0.0, 0.0, 0.0, 0.0), (497, 0.0, 0.0, 0.0, 0.0, 0.0, 0.0), (498, 0.03205128205128205, 0.0007431930274981421, 0.0, 6, 24, 0.0), (499, 0.0, 0.0, 0.0, 0.0, 0.0, 0.0), (500, 0.0, 0.0, 0.0, 0.0, 0.0, 0.0), (501, 0.0, 0.0, 0.0, 0.0, 0.0, 0.0), (502, 0.0, 0.0, 0.0, 0.0, 0.0, 0.0), (504, 0.0, 0.0, 0.0, 0.0, 0.0, 0.0), (505, 0.0, 0.0, 0.0, 0.0, 0.0, 0.0), (506, 0.0, 0.0, 0.0, 0.0, 0.0, 0.0), (507, 0.0, 0.0, 0.0, 0.0, 0.0, 0.0), (508, 0.0, 0.0, 0.0, 0.0, 0.0, 0.0), (509, 0.0, 0.0, 0.0, 0.0, 0.0, 0.0), (510, 0.0, 0.0, 0.0, 0.0, 0.0, 0.0), (511, 0.23717948717948717, 0.7652861293155868, 0.5929817525026849, 38, 22656, 671.973655462151), (513, 0.0, 6.756300249983109e-05, 0.0, 1, 4, 0.0), (514, 0.0, 0.0, 0.0, 0.0, 0.0, 0.0), (515, 0.0, 0.0, 0.0, 0.0, 0.0, 0.0), (516, 0.0, 0.0, 0.0, 0.0, 0.0, 0.0), (517, 0.0, 0.0, 0.0, 0.0, 0.0, 0.0), (518, 0.0, 0.0, 0.0, 0.0, 0.0, 0.0), (519, 0.0, 0.0, 0.0, 0.0, 0.0, 0.0), (520, 0.00641025641025641, 0.00020268900749949328, 0.0, 2, 8, 0.0), (521, 0.0, 6.756300249983109e-05, 0.0, 1, 4, 0.0), (522, 0.0, 0.0, 0.0, 0.0, 0.0, 0.0), (523, 0.0, 0.0, 0.0, 0.0, 0.0, 0.0), (524, 0.0, 0.0, 0.0, 0.0, 0.0, 0.0), (525, 0.0, 0.0, 0.0, 0.0, 0.0, 0.0), (526, 0.0, 0.0, 0.0, 0.0, 0.0, 0.0), (527, 0.0, 0.0, 0.0, 0.0, 0.0, 0.0), (529, 0.0, 0.0, 0.0, 0.0, 0.0, 0.0), (530, 0.0, 0.0, 0.0, 0.0, 0.0, 0.0), (531, 0.0, 0.0, 0.0, 0.0, 0.0, 0.0), (532, 0.0, 0.0, 0.0, 0.0, 0.0, 0.0), (533, 0.0, 0.0, 0.0, 0.0, 0.0, 0.0), (534, 0.0, 0.0, 0.0, 0.0, 0.0, 0.0), (535, 0.0, 0.00020268900749949328, 0.0, 1, 8, 0.0), (536, 0.00641025641025641, 0.0012836970474967907, 0.0, 2, 40, 0.0), (537, 0.0, 0.0, 0.0, 0.0, 0.0, 0.0), (539, 0.02564102564102564, 0.0011485710424971286, 0.0, 5, 36, 0.0), (540, 0.0, 0.0, 0.0, 0.0, 0.0, 0.0), (541, 0.0, 0.0, 0.0, 0.0, 0.0, 0.0), (542, 0.0, 6.756300249983109e-05, 0.0, 1, 4, 0.0), (544, 0.0, 0.0, 0.0, 0.0, 0.0, 0.0), (545, 0.0, 0.0, 0.0, 0.0, 0.0, 0.0), (546, 0.0, 0.0, 0.0, 0.0, 0.0, 0.0), (547, 0.04487179487179487, 0.0010134450374974665, 0.0, 8, 32, 0.0), (548, 0.0, 0.0, 0.0, 0.0, 0.0, 0.0), (549, 0.0, 6.756300249983109e-05, 0.0, 1, 4, 0.0), (551, 0.0, 0.0, 0.0, 0.0, 0.0, 0.0), (552, 0.0, 0.0, 0.0, 0.0, 0.0, 0.0), (553, 0.0, 6.756300249983109e-05, 0.0, 1, 4, 0.0), (554, 0.0, 0.0, 0.0, 0.0, 0.0, 0.0), (555, 0.0, 0.0, 0.0, 0.0, 0.0, 0.0), (556, 0.0, 0.00020268900749949328, 0.0, 1, 8, 0.0), (557, 0.0, 0.0, 0.0, 0.0, 0.0, 0.0), (558, 0.0, 0.00047294101749881766, 0.0, 1, 16, 0.0), (559, 0.0, 0.0, 0.0, 0.0, 0.0, 0.0), (560, 0.0, 0.0, 0.0, 0.0, 0.0, 0.0), (561, 0.0, 0.0, 0.0, 0.0, 0.0, 0.0), (562, 0.0, 0.0, 0.0, 0.0, 0.0, 0.0), (563, 0.0, 0.0, 0.0, 0.0, 0.0, 0.0), (564, 0.0, 0.0, 0.0, 0.0, 0.0, 0.0), (565, 0.0, 0.0, 0.0, 0.0, 0.0, 0.0), (566, 0.0, 0.0, 0.0, 0.0, 0.0, 0.0), (567, 0.0, 0.0, 0.0, 0.0, 0.0, 0.0), (568, 0.0, 0.0, 0.0, 0.0, 0.0, 0.0), (569, 0.0, 6.756300249983109e-05, 0.0, 1, 4, 0.0), (570, 0.0, 0.0, 0.0, 0.0, 0.0, 0.0), (571, 0.0, 0.0, 0.0, 0.0, 0.0, 0.0), (572, 0.00641025641025641, 0.00020268900749949328, 0.0, 2, 8, 0.0), (573, 0.0, 0.0, 0.0, 0.0, 0.0, 0.0), (574, 0.0, 0.00020268900749949328, 0.0, 1, 8, 0.0), (575, 0.0, 0.0, 0.0, 0.0, 0.0, 0.0), (576, 0.0, 0.0, 0.0, 0.0, 0.0, 0.0), (577, 0.0, 0.0, 0.0, 0.0, 0.0, 0.0), (578, 0.0, 0.0, 0.0, 0.0, 0.0, 0.0), (579, 0.0, 0.0, 0.0, 0.0, 0.0, 0.0), (580, 0.0, 6.756300249983109e-05, 0.0, 1, 4, 0.0), (581, 0.0, 0.0, 0.0, 0.0, 0.0, 0.0), (582, 0.0, 0.0, 0.0, 0.0, 0.0, 0.0), (583, 0.0, 0.0, 0.0, 0.0, 0.0, 0.0), (584, 0.0, 0.0, 0.0, 0.0, 0.0, 0.0), (585, 0.4166666666666667, 0.6070535774609823, 0.2962597310756601, 66, 17972, 335.7248913932537), (586, 0.0, 0.0, 0.0, 0.0, 0.0, 0.0), (587, 0.0, 0.0, 0.0, 0.0, 0.0, 0.0), (588, 0.0, 0.0, 0.0, 0.0, 0.0, 0.0), (589, 0.0, 0.0, 0.0, 0.0, 0.0, 0.0), (590, 0.0, 0.0, 0.0, 0.0, 0.0, 0.0), (591, 0.0, 0.0, 0.0, 0.0, 0.0, 0.0), (592, 0.0, 0.0, 0.0, 0.0, 0.0, 0.0), (593, 0.0, 0.0, 0.0, 0.0, 0.0, 0.0), (594, 0.0, 0.0, 0.0, 0.0, 0.0, 0.0), (595, 0.0, 0.0, 0.0, 0.0, 0.0, 0.0), (596, 0.0, 0.0, 0.0, 0.0, 0.0, 0.0), (597, 0.0, 0.0, 0.0, 0.0, 0.0, 0.0), (598, 0.0, 0.0, 0.0, 0.0, 0.0, 0.0), (599, 0.0, 0.0, 0.0, 1, 2, 0.0), (600, 0.0, 0.0, 0.0, 0.0, 0.0, 0.0), (601, 0.0, 0.0, 0.0, 0.0, 0.0, 0.0), (602, 0.0, 0.0, 0.0, 0.0, 0.0, 0.0), (603, 0.0, 0.0, 0.0, 0.0, 0.0, 0.0), (604, 0.0, 6.756300249983109e-05, 0.0, 1, 4, 0.0), (605, 0.0, 0.00020268900749949328, 0.0, 1, 8, 0.0), (607, 0.0, 0.0, 0.0, 0.0, 0.0, 0.0), (608, 0.0, 0.0, 0.0, 0.0, 0.0, 0.0), (609, 0.0, 0.0, 0.0, 0.0, 0.0, 0.0), (610, 0.0, 0.0, 0.0, 0.0, 0.0, 0.0), (611, 0.0, 0.0, 0.0, 0.0, 0.0, 0.0), (612, 0.0, 6.756300249983109e-05, 0.0, 1, 4, 0.0), (613, 0.0, 0.0, 0.0, 0.0, 0.0, 0.0), (614, 0.0, 0.0, 0.0, 0.0, 0.0, 0.0), (615, 0.0, 0.0, 0.0, 0.0, 0.0, 0.0), (616, 0.0, 0.0, 0.0, 0.0, 0.0, 0.0), (617, 0.0, 0.0, 0.0, 0.0, 0.0, 0.0), (618, 0.0, 0.0, 0.0, 0.0, 0.0, 0.0), (620, 0.0, 0.0010134450374974665, 0.0, 1, 32, 0.0), (621, 0.0, 0.0, 0.0, 0.0, 0.0, 0.0), (622, 0.0, 0.0, 0.0, 1, 2, 0.0), (623, 0.0, 0.0, 0.0, 0.0, 0.0, 0.0), (624, 0.0, 6.756300249983109e-05, 0.0, 1, 4, 0.0), (625, 0.0, 0.0, 0.0, 0.0, 0.0, 0.0), (626, 0.0, 0.0, 0.0, 0.0, 0.0, 0.0), (627, 0.0, 0.0, 0.0, 0.0, 0.0, 0.0), (628, 0.0, 6.756300249983109e-05, 0.0, 1, 4, 0.0), (629, 0.0, 0.0, 0.0, 0.0, 0.0, 0.0), (630, 0.00641025641025641, 0.004256469157489359, 0.0, 2, 128, 0.0), (631, 0.0, 0.0, 0.0, 0.0, 0.0, 0.0), (632, 0.0, 0.0, 0.0, 0.0, 0.0, 0.0), (633, 0.0, 0.0, 0.0, 0.0, 0.0, 0.0), (634, 0.0, 6.756300249983109e-05, 0.0, 1, 4, 0.0), (635, 0.0, 0.0, 0.0, 0.0, 0.0, 0.0), (636, 0.0, 0.0, 0.0, 0.0, 0.0, 0.0), (638, 0.0, 0.0, 0.0, 0.0, 0.0, 0.0), (639, 0.0, 0.0, 0.0, 0.0, 0.0, 0.0), (641, 0.0, 6.756300249983109e-05, 0.0, 1, 4, 0.0), (642, 0.0, 0.0, 0.0, 0.0, 0.0, 0.0), (643, 0.0, 0.0, 0.0, 0.0, 0.0, 0.0), (644, 0.0, 6.756300249983109e-05, 0.0, 1, 4, 0.0), (645, 0.0, 0.0, 0.0, 0.0, 0.0, 0.0), (646, 0.0, 0.0, 0.0, 0.0, 0.0, 0.0), (647, 0.0, 0.0, 0.0, 0.0, 0.0, 0.0), (648, 0.0, 0.0, 0.0, 0.0, 0.0, 0.0), (649, 0.0, 0.0, 0.0, 0.0, 0.0, 0.0), (650, 0.0, 0.0, 0.0, 0.0, 0.0, 0.0), (651, 0.0, 0.0, 0.0, 0.0, 0.0, 0.0), (652, 0.0, 0.0, 0.0, 0.0, 0.0, 0.0), (653, 0.0, 6.756300249983109e-05, 0.0, 1, 4, 0.0), (654, 0.0, 6.756300249983109e-05, 0.0, 1, 4, 0.0), (655, 0.0, 0.0, 0.0, 0.0, 0.0, 0.0), (656, 0.0, 0.00020268900749949328, 0.0, 1, 8, 0.0), (658, 0.0, 0.0, 0.0, 1, 2, 0.0), (659, 0.0, 6.756300249983109e-05, 0.0, 1, 4, 0.0), (660, 0.0, 0.0, 0.0, 0.0, 0.0, 0.0), (662, 0.0, 0.0, 0.0, 0.0, 0.0, 0.0), (664, 0.0, 0.0, 0.0, 0.0, 0.0, 0.0), (665, 0.0, 0.0, 0.0, 0.0, 0.0, 0.0), (666, 0.0, 6.756300249983109e-05, 0.0, 1, 4, 0.0), (667, 0.0, 0.0, 0.0, 0.0, 0.0, 0.0), (668, 0.0, 6.756300249983109e-05, 0.0, 1, 4, 0.0), (669, 0.0, 0.0, 0.0, 0.0, 0.0, 0.0), (670, 0.0, 0.0, 0.0, 0.0, 0.0, 0.0), (671, 0.0, 0.0, 0.0, 0.0, 0.0, 0.0), (672, 0.0, 0.0, 0.0, 0.0, 0.0, 0.0), (673, 0.0, 0.0, 0.0, 0.0, 0.0, 0.0), (674, 0.0, 0.0, 0.0, 0.0, 0.0, 0.0), (675, 0.0, 0.0, 0.0, 0.0, 0.0, 0.0), (676, 0.0, 0.0, 0.0, 0.0, 0.0, 0.0), (678, 0.0, 0.0, 0.0, 0.0, 0.0, 0.0), (679, 0.0, 6.756300249983109e-05, 0.0, 1, 4, 0.0), (682, 0.0, 0.0, 0.0, 0.0, 0.0, 0.0), (683, 0.0, 0.0, 0.0, 0.0, 0.0, 0.0), (685, 0.0, 0.0, 0.0, 0.0, 0.0, 0.0), (686, 0.0, 0.0, 0.0, 0.0, 0.0, 0.0), (687, 0.0, 0.0, 0.0, 0.0, 0.0, 0.0), (689, 0.00641025641025641, 0.00020268900749949328, 0.0, 2, 8, 0.0), (690, 0.0, 0.0010134450374974665, 0.0, 1, 32, 0.0), (691, 0.1282051282051282, 0.07965677994730086, 0.0, 21, 2360, 0.0), (692, 0.0, 0.0, 0.0, 0.0, 0.0, 0.0), (693, 0.0, 0.0, 0.0, 0.0, 0.0, 0.0), (694, 0.0, 0.0, 0.0, 0.0, 0.0, 0.0), (695, 0.0, 0.0, 0.0, 0.0, 0.0, 0.0), (696, 0.0, 0.0, 0.0, 0.0, 0.0, 0.0), (697, 0.0, 6.756300249983109e-05, 0.0, 1, 4, 0.0), (698, 0.0, 0.0, 0.0, 0.0, 0.0, 0.0), (699, 0.0, 0.0, 0.0, 0.0, 0.0, 0.0), (700, 0.0, 0.0, 0.0, 0.0, 0.0, 0.0), (701, 0.0, 0.0, 0.0, 0.0, 0.0, 0.0), (702, 0.057692307692307696, 0.039389230457401524, 0.0, 10, 1168, 0.0), (703, 0.0, 0.0, 0.0, 0.0, 0.0, 0.0), (704, 0.0, 6.756300249983109e-05, 0.0, 1, 4, 0.0), (705, 0.0, 6.756300249983109e-05, 0.0, 1, 4, 0.0), (706, 0.0, 0.0, 0.0, 0.0, 0.0, 0.0), (707, 0.0, 0.0, 0.0, 0.0, 0.0, 0.0), (708, 0.0, 0.0, 0.0, 0.0, 0.0, 0.0), (709, 0.0, 0.0, 0.0, 0.0, 0.0, 0.0), (710, 0.0, 0.0, 0.0, 0.0, 0.0, 0.0), (711, 0.0, 0.0, 0.0, 0.0, 0.0, 0.0), (712, 0.0, 0.0, 0.0, 0.0, 0.0, 0.0), (713, 0.10897435897435898, 0.02925478008242686, 0.0, 18, 868, 0.0), (714, 0.0, 0.0, 0.0, 0.0, 0.0, 0.0), (716, 0.0, 0.0, 0.0, 0.0, 0.0, 0.0), (717, 0.0, 0.0, 0.0, 0.0, 0.0, 0.0), (718, 0.0, 6.756300249983109e-05, 0.0, 1, 4, 0.0), (719, 0.0, 0.0, 0.0, 0.0, 0.0, 0.0), (720, 0.0, 0.0, 0.0, 0.0, 0.0, 0.0), (721, 0.0, 0.0, 0.0, 0.0, 0.0, 0.0), (722, 0.0, 0.0, 0.0, 0.0, 0.0, 0.0), (723, 0.0, 0.00047294101749881766, 0.0, 1, 16, 0.0), (724, 0.0, 0.0, 0.0, 0.0, 0.0, 0.0), (725, 0.0, 0.0, 0.0, 0.0, 0.0, 0.0), (726, 0.0, 0.0, 0.0, 0.0, 0.0, 0.0), (727, 0.0, 0.0, 0.0, 0.0, 0.0, 0.0), (728, 0.0, 0.00020268900749949328, 0.0, 1, 8, 0.0), (729, 0.0, 0.0, 0.0, 0.0, 0.0, 0.0), (730, 0.0, 0.00047294101749881766, 0.0, 1, 16, 0.0), (731, 0.0, 0.0, 0.0, 0.0, 0.0, 0.0), (732, 0.0, 6.756300249983109e-05, 0.0, 1, 4, 0.0), (733, 0.0, 0.0, 0.0, 0.0, 0.0, 0.0), (734, 0.0, 0.0, 0.0, 0.0, 0.0, 0.0), (735, 0.0, 0.0, 0.0, 0.0, 0.0, 0.0), (736, 0.0, 0.0, 0.0, 0.0, 0.0, 0.0), (737, 0.02564102564102564, 0.0006080670224984799, 0.0, 5, 20, 0.0), (738, 0.0, 6.756300249983109e-05, 0.0, 1, 4, 0.0), (739, 0.0, 0.0, 0.0, 0.0, 0.0, 0.0), (740, 0.0, 6.756300249983109e-05, 0.0, 1, 4, 0.0), (741, 0.0, 0.0, 0.0, 0.0, 0.0, 0.0), (742, 0.0, 0.0, 0.0, 0.0, 0.0, 0.0), (745, 0.0, 0.0, 0.0, 0.0, 0.0, 0.0), (746, 0.0, 0.0, 0.0, 0.0, 0.0, 0.0), (747, 0.0, 6.756300249983109e-05, 0.0, 1, 4, 0.0), (749, 0.0, 0.0, 0.0, 0.0, 0.0, 0.0), (750, 0.0, 0.0, 0.0, 0.0, 0.0, 0.0), (751, 0.0, 0.0, 0.0, 0.0, 0.0, 0.0), (752, 0.0, 0.0, 0.0, 0.0, 0.0, 0.0), (753, 0.0, 0.0, 0.0, 0.0, 0.0, 0.0), (754, 0.0, 0.0, 0.0, 0.0, 0.0, 0.0), (755, 0.0, 0.0, 0.0, 0.0, 0.0, 0.0), (756, 0.0, 0.0, 0.0, 0.0, 0.0, 0.0), (757, 0.0, 0.0, 0.0, 0.0, 0.0, 0.0), (758, 0.0, 0.0, 0.0, 0.0, 0.0, 0.0), (759, 0.0, 0.0, 0.0, 0.0, 0.0, 0.0), (760, 0.0, 6.756300249983109e-05, 0.0, 1, 4, 0.0), (761, 0.0, 0.0, 0.0, 0.0, 0.0, 0.0), (762, 0.0, 0.0, 0.0, 0.0, 0.0, 0.0), (763, 0.0, 0.0, 0.0, 0.0, 0.0, 0.0), (764, 0.0, 6.756300249983109e-05, 0.0, 1, 4, 0.0), (765, 0.0, 0.0, 0.0, 0.0, 0.0, 0.0), (767, 0.0, 0.0, 0.0, 0.0, 0.0, 0.0), (768, 0.0, 0.0, 0.0, 0.0, 0.0, 0.0), (769, 0.0, 0.0, 0.0, 0.0, 0.0, 0.0), (770, 0.0, 0.0, 0.0, 0.0, 0.0, 0.0), (771, 0.0, 0.0, 0.0, 0.0, 0.0, 0.0), (774, 0.0, 0.0, 0.0, 0.0, 0.0, 0.0), (776, 0.0, 0.0, 0.0, 0.0, 0.0, 0.0), (777, 0.0, 0.0, 0.0, 0.0, 0.0, 0.0), (778, 0.0, 0.0, 0.0, 0.0, 0.0, 0.0), (780, 0.0, 0.0, 0.0, 0.0, 0.0, 0.0), (782, 0.0, 0.0, 0.0, 0.0, 0.0, 0.0), (783, 0.0, 0.0, 0.0, 0.0, 0.0, 0.0), (784, 0.0, 0.0, 0.0, 0.0, 0.0, 0.0), (785, 0.0, 0.0, 0.0, 0.0, 0.0, 0.0), (786, 0.0, 0.0, 0.0, 0.0, 0.0, 0.0), (787, 0.0, 0.0, 0.0, 0.0, 0.0, 0.0), (788, 0.0, 0.0, 0.0, 0.0, 0.0, 0.0), (789, 0.0, 0.0, 0.0, 0.0, 0.0, 0.0), (790, 0.0, 0.0, 0.0, 0.0, 0.0, 0.0), (791, 0.0, 0.0, 0.0, 0.0, 0.0, 0.0), (793, 0.0, 6.756300249983109e-05, 0.0, 1, 4, 0.0), (794, 0.00641025641025641, 0.00020268900749949328, 0.0, 2, 8, 0.0), (795, 0.0, 0.0, 0.0, 0.0, 0.0, 0.0), (796, 0.0, 6.756300249983109e-05, 0.0, 1, 4, 0.0), (797, 0.0, 0.0, 0.0, 0.0, 0.0, 0.0), (798, 0.01282051282051282, 0.00047294101749881766, 0.0, 3, 16, 0.0), (799, 0.0, 0.0, 0.0, 0.0, 0.0, 0.0), (800, 0.0, 0.0, 0.0, 0.0, 0.0, 0.0), (801, 0.0, 0.0, 0.0, 0.0, 0.0, 0.0), (802, 0.0, 0.0, 0.0, 0.0, 0.0, 0.0), (803, 0.0, 6.756300249983109e-05, 0.0, 1, 4, 0.0), (804, 0.0, 0.0, 0.0, 0.0, 0.0, 0.0), (805, 0.0, 6.756300249983109e-05, 0.0, 1, 4, 0.0), (806, 0.0, 6.756300249983109e-05, 0.0, 1, 4, 0.0), (807, 0.0, 0.0, 0.0, 0.0, 0.0, 0.0), (808, 0.0, 0.0, 0.0, 0.0, 0.0, 0.0), (810, 0.0, 0.0, 0.0, 0.0, 0.0, 0.0), (811, 0.0, 0.0, 0.0, 0.0, 0.0, 0.0), (812, 0.0, 0.0, 0.0, 0.0, 0.0, 0.0), (813, 0.0, 0.0, 0.0, 0.0, 0.0, 0.0), (814, 0.0, 0.0, 0.0, 0.0, 0.0, 0.0), (815, 0.0, 0.0, 0.0, 0.0, 0.0, 0.0), (816, 0.0, 0.0, 0.0, 0.0, 0.0, 0.0), (817, 0.00641025641025641, 0.0045267211674886836, 0.0, 2, 136, 0.0), (818, 0.0, 0.0, 0.0, 0.0, 0.0, 0.0), (819, 0.0, 6.756300249983109e-05, 0.0, 1, 4, 0.0), (820, 0.0, 0.0, 0.0, 0.0, 0.0, 0.0), (821, 0.0, 0.0, 0.0, 0.0, 0.0, 0.0), (822, 0.0, 0.0, 0.0, 0.0, 0.0, 0.0), (823, 0.0, 0.0, 0.0, 0.0, 0.0, 0.0), (824, 0.0, 0.0, 0.0, 0.0, 0.0, 0.0), (825, 0.0, 0.0, 0.0, 0.0, 0.0, 0.0), (826, 0.0, 0.0, 0.0, 0.0, 0.0, 0.0), (827, 0.0, 0.00020268900749949328, 0.0, 1, 8, 0.0), (828, 0.0, 0.0, 0.0, 0.0, 0.0, 0.0), (829, 0.04487179487179487, 0.004121343152489697, 0.0, 8, 124, 0.0), (831, 0.0, 0.0, 0.0, 0.0, 0.0, 0.0), (832, 0.0, 0.0, 0.0, 0.0, 0.0, 0.0), (833, 0.0, 0.00020268900749949328, 0.0, 1, 8, 0.0), (834, 0.0, 0.0, 0.0, 0.0, 0.0, 0.0), (835, 0.0, 0.0, 0.0, 0.0, 0.0, 0.0), (836, 0.0, 0.0, 0.0, 0.0, 0.0, 0.0), (838, 0.0, 6.756300249983109e-05, 0.0, 1, 4, 0.0), (839, 0.0, 0.0, 0.0, 0.0, 0.0, 0.0), (840, 0.0, 0.0, 0.0, 0.0, 0.0, 0.0), (841, 0.04487179487179487, 0.0080399972974799, 0.0, 8, 240, 0.0), (844, 0.0, 0.0, 0.0, 0.0, 0.0, 0.0), (845, 0.0, 0.0, 0.0, 0.0, 0.0, 0.0), (846, 0.0, 0.0, 0.0, 0.0, 0.0, 0.0), (847, 0.0, 0.0, 0.0, 0.0, 0.0, 0.0), (848, 0.0, 0.0, 0.0, 0.0, 0.0, 0.0), (849, 0.0, 0.0, 0.0, 0.0, 0.0, 0.0), (850, 0.0, 0.0, 0.0, 0.0, 0.0, 0.0), (851, 0.0, 0.0, 0.0, 0.0, 0.0, 0.0), (852, 0.11538461538461539, 0.14843591649212892, 0.0, 19, 4396, 0.0), (853, 0.0, 6.756300249983109e-05, 0.0, 1, 4, 0.0), (854, 0.0, 0.0, 0.0, 0.0, 0.0, 0.0), (855, 0.0, 0.0, 0.0, 0.0, 0.0, 0.0), (856, 0.0, 0.0, 0.0, 0.0, 0.0, 0.0), (857, 0.0, 0.0, 0.0, 0.0, 0.0, 0.0), (858, 0.0, 0.0, 0.0, 0.0, 0.0, 0.0), (859, 0.0, 0.0, 0.0, 0.0, 0.0, 0.0), (860, 0.0, 0.0, 0.0, 0.0, 0.0, 0.0), (861, 0.0, 0.0, 0.0, 0.0, 0.0, 0.0), (862, 0.0, 0.0, 0.0, 0.0, 0.0, 0.0), (863, 0.019230769230769232, 0.0010134450374974665, 0.0, 4, 32, 0.0), (864, 0.0, 0.0, 0.0, 0.0, 0.0, 0.0), (866, 0.0, 0.0, 0.0, 0.0, 0.0, 0.0), (867, 0.0, 6.756300249983109e-05, 0.0, 1, 4, 0.0), (868, 0.0, 6.756300249983109e-05, 0.0, 1, 4, 0.0), (869, 0.08333333333333333, 0.04641578271738396, 0.04178272427064299, 14, 1376, 47.34865760170921), (870, 0.0, 6.756300249983109e-05, 0.0, 1, 4, 0.0), (872, 0.0, 6.756300249983109e-05, 0.0, 1, 4, 0.0), (873, 0.0, 0.0, 0.0, 0.0, 0.0, 0.0), (874, 0.0, 0.0, 0.0, 0.0, 0.0, 0.0), (876, 0.0, 0.0, 0.0, 0.0, 0.0, 0.0), (877, 0.0, 0.0, 0.0, 0.0, 0.0, 0.0), (878, 0.0, 0.0, 0.0, 0.0, 0.0, 0.0), (879, 0.0, 0.0, 0.0, 0.0, 0.0, 0.0), (881, 0.0, 0.0, 0.0, 0.0, 0.0, 0.0), (882, 0.05128205128205128, 0.0018242010674954395, 0.0, 9, 56, 0.0), (883, 0.0, 0.0, 0.0, 0.0, 0.0, 0.0), (884, 0.0, 0.0, 0.0, 0.0, 0.0, 0.0), (885, 0.0, 0.0, 0.0, 0.0, 0.0, 0.0), (886, 0.0, 0.0, 0.0, 0.0, 0.0, 0.0), (887, 0.0, 0.0, 0.0, 0.0, 0.0, 0.0), (888, 0.0, 0.0, 0.0, 0.0, 0.0, 0.0), (889, 0.0, 0.0, 0.0, 0.0, 0.0, 0.0), (890, 0.0, 0.00020268900749949328, 0.0, 1, 8, 0.0), (891, 0.0, 0.0, 0.0, 0.0, 0.0, 0.0), (892, 0.0, 6.756300249983109e-05, 0.0, 1, 4, 0.0), (893, 0.0, 0.0, 0.0, 0.0, 0.0, 0.0), (894, 0.0, 0.0, 0.0, 0.0, 0.0, 0.0), (895, 0.10897435897435898, 0.047902168772380245, 0.07268473525101335, 18, 1420, 82.3671673483763), (896, 0.0, 0.0, 0.0, 0.0, 0.0, 0.0), (897, 0.0, 6.756300249983109e-05, 0.0, 1, 4, 0.0), (898, 0.03205128205128205, 0.0007431930274981421, 0.0, 6, 24, 0.0), (899, 0.0, 0.0, 0.0, 0.0, 0.0, 0.0), (900, 0.0, 0.0, 0.0, 0.0, 0.0, 0.0), (901, 0.0, 0.0, 0.0, 0.0, 0.0, 0.0), (902, 0.0, 6.756300249983109e-05, 0.0, 1, 4, 0.0), (903, 0.00641025641025641, 0.0007431930274981421, 0.0, 2, 24, 0.0), (904, 0.00641025641025641, 0.00047294101749881766, 0.0, 2, 16, 0.0), (905, 0.0, 0.0, 0.0, 0.0, 0.0, 0.0), (906, 0.0, 0.0, 0.0, 0.0, 0.0, 0.0), (907, 0.0, 6.756300249983109e-05, 0.0, 1, 4, 0.0), (908, 0.0, 0.0, 0.0, 0.0, 0.0, 0.0), (909, 0.0, 0.0, 0.0, 0.0, 0.0, 0.0), (910, 0.0, 0.0, 0.0, 0.0, 0.0, 0.0), (911, 0.0, 6.756300249983109e-05, 0.0, 1, 4, 0.0), (914, 0.0, 0.0, 0.0, 0.0, 0.0, 0.0), (915, 0.0, 0.0, 0.0, 0.0, 0.0, 0.0), (916, 0.0, 6.756300249983109e-05, 0.0, 1, 4, 0.0), (917, 0.0, 0.0, 0.0, 0.0, 0.0, 0.0), (918, 0.0, 6.756300249983109e-05, 0.0, 1, 4, 0.0), (919, 0.0, 0.0, 0.0, 0.0, 0.0, 0.0), (920, 0.0, 0.0, 0.0, 0.0, 0.0, 0.0), (921, 0.0, 0.0, 0.0, 0.0, 0.0, 0.0), (922, 0.0, 0.0, 0.0, 0.0, 0.0, 0.0), (923, 0.0, 0.0, 0.0, 0.0, 0.0, 0.0), (924, 0.0, 0.0, 0.0, 0.0, 0.0, 0.0), (925, 0.0, 0.0, 0.0, 0.0, 0.0, 0.0), (927, 0.0, 0.0, 0.0, 0.0, 0.0, 0.0), (928, 0.0, 6.756300249983109e-05, 0.0, 1, 4, 0.0), (929, 0.0, 0.0, 0.0, 0.0, 0.0, 0.0), (930, 0.0, 0.0, 0.0, 0.0, 0.0, 0.0), (931, 0.0, 0.0, 0.0, 0.0, 0.0, 0.0), (932, 0.0, 0.0, 0.0, 0.0, 0.0, 0.0), (933, 0.0, 0.0, 0.0, 0.0, 0.0, 0.0), (934, 0.0, 0.0, 0.0, 0.0, 0.0, 0.0), (935, 0.0, 0.0, 0.0, 0.0, 0.0, 0.0), (936, 0.0, 0.0, 0.0, 0.0, 0.0, 0.0), (938, 0.0, 6.756300249983109e-05, 0.0, 1, 4, 0.0), (939, 0.01282051282051282, 0.0007431930274981421, 0.0, 3, 24, 0.0), (940, 0.0, 0.0, 0.0, 0.0, 0.0, 0.0), (942, 0.0, 0.0, 0.0, 0.0, 0.0, 0.0), (943, 0.038461538461538464, 0.006553611242483616, 0.0, 7, 196, 0.0), (944, 0.0, 0.0, 0.0, 0.0, 0.0, 0.0), (945, 0.0, 0.0, 0.0, 0.0, 0.0, 0.0), (946, 0.0, 0.0, 0.0, 0.0, 0.0, 0.0), (947, 0.0, 0.0, 0.0, 0.0, 0.0, 0.0), (948, 0.0, 0.0, 0.0, 0.0, 0.0, 0.0), (949, 0.0, 0.0, 0.0, 0.0, 0.0, 0.0), (950, 0.0, 0.0, 0.0, 0.0, 0.0, 0.0), (951, 0.0, 0.0, 0.0, 0.0, 0.0, 0.0), (952, 0.0, 0.0, 0.0, 0.0, 0.0, 0.0), (953, 0.0, 0.0, 0.0, 0.0, 0.0, 0.0), (954, 0.0, 0.0, 0.0, 0.0, 0.0, 0.0), (955, 0.0, 0.0, 0.0, 0.0, 0.0, 0.0), (956, 0.0, 6.756300249983109e-05, 0.0, 1, 4, 0.0), (957, 0.0, 0.0, 0.0, 0.0, 0.0, 0.0), (958, 0.0, 0.0, 0.0, 0.0, 0.0, 0.0), (959, 0.0, 0.0, 0.0, 0.0, 0.0, 0.0), (960, 0.0, 0.0, 0.0, 0.0, 0.0, 0.0), (961, 0.0, 0.0, 0.0, 0.0, 0.0, 0.0), (962, 0.0, 0.0, 0.0, 0.0, 0.0, 0.0), (963, 0.0, 6.756300249983109e-05, 0.0, 1, 4, 0.0), (964, 0.0, 0.0, 0.0, 0.0, 0.0, 0.0), (965, 0.0, 6.756300249983109e-05, 0.0, 1, 4, 0.0), (966, 0.0, 0.0, 0.0, 0.0, 0.0, 0.0), (967, 0.0, 0.0, 0.0, 0.0, 0.0, 0.0), (968, 0.0, 0.0, 0.0, 0.0, 0.0, 0.0), (969, 0.0, 6.756300249983109e-05, 0.0, 1, 4, 0.0), (970, 0.0, 0.0, 0.0, 0.0, 0.0, 0.0), (971, 0.0, 0.0, 0.0, 0.0, 0.0, 0.0), (973, 0.0, 6.756300249983109e-05, 0.0, 1, 4, 0.0), (974, 0.0, 0.0, 0.0, 0.0, 0.0, 0.0), (975, 0.0, 0.0, 0.0, 0.0, 0.0, 0.0), (976, 0.0, 0.0, 0.0, 0.0, 0.0, 0.0), (977, 0.0, 0.0, 0.0, 0.0, 0.0, 0.0), (978, 0.0, 6.756300249983109e-05, 0.0, 1, 4, 0.0), (979, 0.0, 0.0, 0.0, 0.0, 0.0, 0.0), (980, 0.0, 0.00020268900749949328, 0.0, 1, 8, 0.0), (981, 0.0, 0.0, 0.0, 0.0, 0.0, 0.0), (983, 0.0, 0.0, 0.0, 0.0, 0.0, 0.0), (984, 0.0, 0.0, 0.0, 0.0, 0.0, 0.0), (985, 0.0, 0.0, 0.0, 0.0, 0.0, 0.0), (987, 0.00641025641025641, 0.00020268900749949328, 0.0, 2, 8, 0.0), (988, 0.0, 0.0, 0.0, 0.0, 0.0, 0.0), (989, 0.0, 0.0, 0.0, 0.0, 0.0, 0.0), (990, 0.0, 0.0, 0.0, 0.0, 0.0, 0.0), (991, 0.0, 6.756300249983109e-05, 0.0, 1, 4, 0.0), (992, 0.0, 0.0, 0.0, 0.0, 0.0, 0.0), (993, 0.057692307692307696, 0.0033105871224917236, 0.0026389448670808384, 10, 100, 2.9904822895665104), (994, 0.0, 0.0, 0.0, 0.0, 0.0, 0.0), (995, 0.0, 6.756300249983109e-05, 0.0, 1, 4, 0.0), (996, 0.0, 0.0, 0.0, 0.0, 0.0, 0.0), (997, 0.0, 0.0, 0.0, 0.0, 0.0, 0.0), (998, 0.0, 0.00047294101749881766, 0.0, 1, 16, 0.0), (999, 0.5, 0.9335180055401662, 0.7833071041511511, 79, 27636, 887.6525051646299), (1000, 0.0, 0.0, 0.0, 0.0, 0.0, 0.0), (1002, 0.0, 0.0, 0.0, 0.0, 0.0, 0.0), (1003, 0.0, 0.0, 0.0, 0.0, 0.0, 0.0), (1004, 0.0, 6.756300249983109e-05, 0.0, 1, 4, 0.0), (1005, 0.0, 0.0, 0.0, 0.0, 0.0, 0.0), (1006, 0.0, 0.0, 0.0, 0.0, 0.0, 0.0), (1007, 0.0, 0.0, 0.0, 0.0, 0.0, 0.0), (1008, 0.0, 0.0, 0.0, 0.0, 0.0, 0.0), (1009, 0.0, 0.0, 0.0, 0.0, 0.0, 0.0), (1010, 0.0, 0.0, 0.0, 0.0, 0.0, 0.0), (1011, 0.00641025641025641, 0.00020268900749949328, 0.0, 2, 8, 0.0), (1012, 0.0, 0.0, 0.0, 0.0, 0.0, 0.0), (1013, 0.0, 0.0, 0.0, 0.0, 0.0, 0.0), (1014, 0.0, 0.0, 0.0, 0.0, 0.0, 0.0), (1015, 0.0, 0.0, 0.0, 0.0, 0.0, 0.0), (1016, 0.0, 0.0, 0.0, 0.0, 0.0, 0.0), (1017, 0.0, 0.0, 0.0, 0.0, 0.0, 0.0), (1018, 0.0, 6.756300249983109e-05, 0.0, 1, 4, 0.0), (1019, 0.0, 0.00047294101749881766, 0.0, 1, 16, 0.0), (1020, 0.0, 0.0, 0.0, 0.0, 0.0, 0.0), (1021, 0.0, 0.0, 0.0, 1, 2, 0.0), (1022, 0.0, 0.0, 0.0, 0.0, 0.0, 0.0), (1023, 0.0, 6.756300249983109e-05, 0.0, 1, 4, 0.0), (1024, 0.0, 0.0, 0.0, 0.0, 0.0, 0.0), (1025, 0.0, 0.0, 0.0, 0.0, 0.0, 0.0), (1027, 0.0, 0.0, 0.0, 0.0, 0.0, 0.0), (1028, 0.0, 0.0, 0.0, 0.0, 0.0, 0.0), (1029, 0.0, 0.0, 0.0, 0.0, 0.0, 0.0), (1030, 0.0, 0.0, 0.0, 0.0, 0.0, 0.0), (1031, 0.0, 0.0, 0.0, 0.0, 0.0, 0.0), (1032, 0.0, 0.0, 0.0, 0.0, 0.0, 0.0), (1033, 0.0, 0.0, 0.0, 0.0, 0.0, 0.0), (1034, 0.0, 0.0, 0.0, 0.0, 0.0, 0.0), (1035, 0.0, 0.0, 0.0, 0.0, 0.0, 0.0), (1036, 0.0, 0.0, 0.0, 0.0, 0.0, 0.0), (1037, 0.1282051282051282, 0.006688737247483278, 0.0, 21, 200, 0.0), (1038, 0.0, 0.0, 0.0, 0.0, 0.0, 0.0), (1039, 0.0, 0.0, 0.0, 0.0, 0.0, 0.0), (1040, 0.0, 0.0, 0.0, 0.0, 0.0, 0.0), (1041, 0.0, 0.0, 0.0, 0.0, 0.0, 0.0), (1042, 0.0, 0.0, 0.0, 0.0, 0.0, 0.0), (1043, 0.0, 0.0, 0.0, 0.0, 0.0, 0.0), (1044, 0.0, 0.0, 0.0, 0.0, 0.0, 0.0), (1045, 0.0, 6.756300249983109e-05, 0.0, 1, 4, 0.0), (1046, 0.0, 0.0, 0.0, 0.0, 0.0, 0.0), (1047, 0.0, 0.0, 0.0, 0.0, 0.0, 0.0), (1048, 0.0, 0.0, 0.0, 0.0, 0.0, 0.0), (1049, 0.0, 0.0, 0.0, 0.0, 0.0, 0.0), (1050, 0.0, 0.0, 0.0, 0.0, 0.0, 0.0), (1051, 0.0, 0.0, 0.0, 0.0, 0.0, 0.0), (1052, 0.0, 6.756300249983109e-05, 0.0, 1, 4, 0.0), (1053, 0.0, 0.0, 0.0, 0.0, 0.0, 0.0), (1054, 0.0, 0.0, 0.0, 0.0, 0.0, 0.0), (1055, 0.0, 0.0, 0.0, 0.0, 0.0, 0.0), (1056, 0.0, 0.0, 0.0, 0.0, 0.0, 0.0), (1057, 0.0, 0.0, 0.0, 0.0, 0.0, 0.0), (1058, 0.0, 0.00020268900749949328, 0.0, 1, 8, 0.0), (1059, 0.0, 0.0, 0.0, 0.0, 0.0, 0.0), (1060, 0.0, 0.0, 0.0, 0.0, 0.0, 0.0), (1061, 0.0, 0.0, 0.0, 0.0, 0.0, 0.0), (1062, 0.0, 0.0, 0.0, 0.0, 0.0, 0.0), (1063, 0.0, 0.0, 0.0, 0.0, 0.0, 0.0), (1064, 0.0, 0.0, 0.0, 0.0, 0.0, 0.0), (1065, 0.0, 0.0, 0.0, 0.0, 0.0, 0.0), (1066, 0.0, 0.0, 0.0, 0.0, 0.0, 0.0), (1067, 0.0, 0.0, 0.0, 0.0, 0.0, 0.0), (1068, 0.0, 0.0, 0.0, 0.0, 0.0, 0.0), (1069, 0.0, 0.0, 0.0, 0.0, 0.0, 0.0), (1070, 0.0, 6.756300249983109e-05, 0.0, 1, 4, 0.0), (1071, 0.0, 0.0, 0.0, 0.0, 0.0, 0.0), (1072, 0.0, 0.0, 0.0, 0.0, 0.0, 0.0), (1073, 0.0, 6.756300249983109e-05, 0.0, 1, 4, 0.0), (1075, 0.0, 0.0, 0.0, 0.0, 0.0, 0.0), (1076, 0.0, 0.0, 0.0, 0.0, 0.0, 0.0), (1077, 0.0, 0.0, 0.0, 0.0, 0.0, 0.0), (1078, 0.0, 0.0, 0.0, 0.0, 0.0, 0.0), (1079, 0.0, 0.0, 0.0, 0.0, 0.0, 0.0), (1080, 0.0, 0.00020268900749949328, 0.0, 1, 8, 0.0), (1081, 0.0, 6.756300249983109e-05, 0.0, 1, 4, 0.0), (1082, 0.0, 0.0, 0.0, 0.0, 0.0, 0.0), (1083, 0.0, 0.0, 0.0, 0.0, 0.0, 0.0), (1084, 0.0, 0.0, 0.0, 0.0, 0.0, 0.0), (1085, 0.0, 0.0, 0.0, 0.0, 0.0, 0.0), (1086, 0.0, 0.0, 0.0, 0.0, 0.0, 0.0), (1087, 0.0, 0.0, 0.0, 0.0, 0.0, 0.0), (1088, 0.0, 0.0, 0.0, 0.0, 0.0, 0.0), (1089, 0.0, 0.0, 0.0, 0.0, 0.0, 0.0), (1090, 0.0, 0.0, 0.0, 0.0, 0.0, 0.0), (1091, 0.0, 0.00020268900749949328, 0.0, 1, 8, 0.0), (1092, 0.0, 0.0, 0.0, 0.0, 0.0, 0.0), (1093, 0.0, 0.0, 0.0, 0.0, 0.0, 0.0), (1094, 0.0, 0.0, 0.0, 0.0, 0.0, 0.0), (1095, 0.0, 0.0, 0.0, 0.0, 0.0, 0.0), (1096, 0.0, 0.0, 0.0, 0.0, 0.0, 0.0), (1097, 0.0, 0.0, 0.0, 0.0, 0.0, 0.0), (1098, 0.0, 0.0, 0.0, 0.0, 0.0, 0.0), (1100, 0.0, 0.0, 0.0, 0.0, 0.0, 0.0), (1101, 0.0, 0.0, 0.0, 0.0, 0.0, 0.0), (1102, 0.0, 0.0, 0.0, 0.0, 0.0, 0.0), (1103, 0.0, 0.0, 0.0, 0.0, 0.0, 0.0), (1104, 0.0, 0.0, 0.0, 0.0, 0.0, 0.0), (1105, 0.0, 0.0, 0.0, 0.0, 0.0, 0.0), (1106, 0.0, 0.0, 0.0, 0.0, 0.0, 0.0), (1107, 0.0, 0.0, 0.0, 0.0, 0.0, 0.0), (1108, 0.0, 0.0, 0.0, 0.0, 0.0, 0.0), (1109, 0.0, 0.0, 0.0, 0.0, 0.0, 0.0), (1110, 0.0, 0.0, 0.0, 0.0, 0.0, 0.0), (1111, 0.0, 0.0, 0.0, 0.0, 0.0, 0.0), (1112, 0.0, 0.0, 0.0, 0.0, 0.0, 0.0), (1113, 0.0, 0.0, 0.0, 0.0, 0.0, 0.0), (1114, 0.0, 0.0, 0.0, 0.0, 0.0, 0.0), (1115, 0.0, 0.0, 0.0, 0.0, 0.0, 0.0), (1116, 0.0, 6.756300249983109e-05, 0.0, 1, 4, 0.0), (1117, 0.0, 0.0, 0.0, 0.0, 0.0, 0.0), (1118, 0.0, 0.0, 0.0, 0.0, 0.0, 0.0), (1120, 0.09615384615384616, 0.021822849807445442, 0.0, 16, 648, 0.0), (1121, 0.0, 0.0, 0.0, 0.0, 0.0, 0.0), (1122, 0.0, 0.0, 0.0, 0.0, 0.0, 0.0), (1123, 0.0, 0.0, 0.0, 0.0, 0.0, 0.0), (1124, 0.0, 0.0, 0.0, 0.0, 0.0, 0.0), (1125, 0.0, 0.0, 0.0, 0.0, 0.0, 0.0), (1126, 0.0, 0.0, 0.0, 0.0, 0.0, 0.0), (1127, 0.0, 0.0, 0.0, 0.0, 0.0, 0.0), (1128, 0.0, 0.0, 0.0, 0.0, 0.0, 0.0), (1129, 0.0, 0.0, 0.0, 0.0, 0.0, 0.0), (1130, 0.0, 0.0, 0.0, 0.0, 0.0, 0.0), (1131, 0.0, 0.0, 0.0, 0.0, 0.0, 0.0), (1132, 0.0, 0.0, 0.0, 0.0, 0.0, 0.0), (1133, 0.0, 0.0, 0.0, 0.0, 0.0, 0.0), (1134, 0.0, 0.0, 0.0, 0.0, 0.0, 0.0), (1135, 0.0, 6.756300249983109e-05, 0.0, 1, 4, 0.0), (1136, 0.0, 0.0, 0.0, 0.0, 0.0, 0.0), (1137, 0.0, 0.0, 0.0, 0.0, 0.0, 0.0), (1139, 0.0, 0.0, 0.0, 0.0, 0.0, 0.0), (1140, 0.0, 0.0, 0.0, 0.0, 0.0, 0.0), (1141, 0.0, 0.0, 0.0, 0.0, 0.0, 0.0), (1142, 0.0, 0.0, 0.0, 0.0, 0.0, 0.0), (1143, 0.0, 0.0, 0.0, 0.0, 0.0, 0.0), (1144, 0.358974358974359, 0.41368826430646577, 0.0, 57, 12248, 0.0), (1145, 0.0, 0.0, 0.0, 0.0, 0.0, 0.0), (1146, 0.0, 0.0, 0.0, 0.0, 0.0, 0.0), (1147, 0.0, 0.0, 0.0, 0.0, 0.0, 0.0), (1148, 0.0, 0.0, 0.0, 0.0, 0.0, 0.0), (1149, 0.0, 0.0, 0.0, 0.0, 0.0, 0.0), (1150, 0.0, 0.0, 0.0, 0.0, 0.0, 0.0), (1151, 0.02564102564102564, 0.004796973177488007, 0.0, 5, 144, 0.0), (1152, 0.0, 0.0, 0.0, 0.0, 0.0, 0.0), (1153, 0.0, 0.0, 0.0, 0.0, 0.0, 0.0), (1154, 0.0, 0.0, 0.0, 0.0, 0.0, 0.0), (1155, 0.0, 0.0, 0.0, 0.0, 0.0, 0.0), (1156, 0.0, 0.0, 0.0, 0.0, 0.0, 0.0), (1157, 0.0, 6.756300249983109e-05, 0.0, 1, 4, 0.0), (1158, 0.0, 6.756300249983109e-05, 0.0, 1, 4, 0.0), (1159, 0.28846153846153844, 0.03155192216742112, 0.0, 46, 936, 0.0), (1160, 0.0, 0.0, 0.0, 0.0, 0.0, 0.0), (1161, 0.0, 0.0, 0.0, 0.0, 0.0, 0.0), (1162, 0.0, 0.0, 0.0, 0.0, 0.0, 0.0), (1163, 0.0, 0.0, 0.0, 0.0, 0.0, 0.0), (1164, 0.0, 6.756300249983109e-05, 0.0, 1, 4, 0.0), (1166, 0.0, 0.0, 0.0, 0.0, 0.0, 0.0), (1167, 0.0, 0.0, 0.0, 0.0, 0.0, 0.0), (1169, 0.0, 0.0, 0.0, 0.0, 0.0, 0.0), (1170, 0.0, 0.0, 0.0, 0.0, 0.0, 0.0), (1171, 0.0, 0.0, 0.0, 0.0, 0.0, 0.0), (1172, 0.0, 0.0, 0.0, 0.0, 0.0, 0.0), (1173, 0.0, 0.0, 0.0, 0.0, 0.0, 0.0), (1174, 0.0, 0.0, 0.0, 0.0, 0.0, 0.0), (1175, 0.0, 0.0, 0.0, 0.0, 0.0, 0.0), (1176, 0.0, 0.0, 0.0, 0.0, 0.0, 0.0), (1177, 0.0, 0.0, 0.0, 0.0, 0.0, 0.0), (1178, 0.0, 0.0, 0.0, 0.0, 0.0, 0.0), (1179, 0.00641025641025641, 0.00033781501249915546, 0.0, 2, 12, 0.0), (1180, 0.0, 0.0, 0.0, 0.0, 0.0, 0.0), (1181, 0.0, 6.756300249983109e-05, 0.0, 1, 4, 0.0), (1182, 0.0, 0.0, 0.0, 0.0, 0.0, 0.0), (1183, 0.0, 0.0, 0.0, 0.0, 0.0, 0.0), (1184, 0.0, 0.0, 0.0, 0.0, 0.0, 0.0), (1185, 0.0, 0.0, 0.0, 0.0, 0.0, 0.0), (1186, 0.0, 0.0, 0.0, 0.0, 0.0, 0.0), (1187, 0.0, 6.756300249983109e-05, 0.0, 1, 4, 0.0), (1188, 0.0, 0.0, 0.0, 0.0, 0.0, 0.0), (1189, 0.0, 6.756300249983109e-05, 0.0, 1, 4, 0.0), (1190, 0.0, 0.0, 0.0, 0.0, 0.0, 0.0), (1191, 0.0, 6.756300249983109e-05, 0.0, 1, 4, 0.0), (1192, 0.0, 6.756300249983109e-05, 0.0, 1, 4, 0.0), (1193, 0.0, 0.0, 0.0, 0.0, 0.0, 0.0), (1194, 0.0, 0.00020268900749949328, 0.0, 1, 8, 0.0), (1195, 0.0, 6.756300249983109e-05, 0.0, 1, 4, 0.0), (1197, 0.0, 0.0, 0.0, 0.0, 0.0, 0.0), (1198, 0.05128205128205128, 0.007769745287480576, 0.0, 9, 232, 0.0), (1199, 0.0, 0.0, 0.0, 0.0, 0.0, 0.0), (1200, 0.0, 0.0, 0.0, 0.0, 0.0, 0.0), (1201, 0.0, 0.0, 0.0, 0.0, 0.0, 0.0), (1202, 0.0, 0.0, 0.0, 0.0, 0.0, 0.0), (1203, 0.0, 0.0, 0.0, 0.0, 0.0, 0.0), (1204, 0.0, 0.0, 0.0, 0.0, 0.0, 0.0), (1205, 0.0, 0.0, 0.0, 0.0, 0.0, 0.0), (1206, 0.0, 0.0, 0.0, 0.0, 0.0, 0.0), (1207, 0.0, 0.0, 0.0, 0.0, 0.0, 0.0), (1208, 0.0, 0.0, 0.0, 0.0, 0.0, 0.0), (1209, 0.0, 0.0, 0.0, 0.0, 0.0, 0.0), (1212, 0.0, 0.0, 0.0, 0.0, 0.0, 0.0), (1213, 0.0, 0.0, 0.0, 0.0, 0.0, 0.0), (1214, 0.0, 0.00020268900749949328, 0.0, 1, 8, 0.0), (1215, 0.0, 0.0, 0.0, 0.0, 0.0, 0.0), (1216, 0.0, 6.756300249983109e-05, 0.0, 1, 4, 0.0), (1218, 0.0, 0.0, 0.0, 0.0, 0.0, 0.0), (1219, 0.0, 0.0, 0.0, 0.0, 0.0, 0.0), (1220, 0.0, 0.0, 0.0, 1, 2, 0.0), (1221, 0.0, 0.0, 0.0, 0.0, 0.0, 0.0), (1222, 0.0, 6.756300249983109e-05, 0.0, 1, 4, 0.0), (1223, 0.0, 0.0, 0.0, 0.0, 0.0, 0.0), (1224, 0.0, 0.0, 0.0, 0.0, 0.0, 0.0), (1225, 0.0, 6.756300249983109e-05, 0.0, 1, 4, 0.0), (1226, 0.0, 0.0, 0.0, 0.0, 0.0, 0.0), (1227, 0.0, 0.0, 0.0, 0.0, 0.0, 0.0), (1228, 0.0, 0.0, 0.0, 0.0, 0.0, 0.0), (1229, 0.0, 0.0, 0.0, 0.0, 0.0, 0.0), (1231, 0.0, 0.0, 0.0, 0.0, 0.0, 0.0), (1232, 0.0, 0.0, 0.0, 0.0, 0.0, 0.0), (1233, 0.0, 0.0, 0.0, 0.0, 0.0, 0.0), (1234, 0.0, 0.00020268900749949328, 0.0, 1, 8, 0.0), (1235, 0.0, 6.756300249983109e-05, 0.0, 1, 4, 0.0), (1236, 0.0, 0.0, 0.0, 0.0, 0.0, 0.0), (1237, 0.0, 0.0, 0.0, 0.0, 0.0, 0.0), (1238, 0.0, 0.0, 0.0, 0.0, 0.0, 0.0), (1239, 0.0, 6.756300249983109e-05, 0.0, 1, 4, 0.0), (1241, 0.0, 0.00047294101749881766, 0.0, 1, 16, 0.0), (1242, 0.0, 0.0, 0.0, 0.0, 0.0, 0.0), (1243, 0.0, 0.0, 0.0, 0.0, 0.0, 0.0), (1244, 0.0, 0.0, 0.0, 0.0, 0.0, 0.0), (1245, 0.0, 0.0, 0.0, 0.0, 0.0, 0.0), (1246, 0.0, 6.756300249983109e-05, 0.0, 1, 4, 0.0), (1247, 0.0, 0.0, 0.0, 0.0, 0.0, 0.0), (1248, 0.0, 0.0, 0.0, 0.0, 0.0, 0.0), (1250, 0.0, 0.0, 0.0, 0.0, 0.0, 0.0), (1251, 0.0, 0.0, 0.0, 0.0, 0.0, 0.0), (1252, 0.0, 0.0, 0.0, 0.0, 0.0, 0.0), (1253, 0.0, 0.0, 0.0, 0.0, 0.0, 0.0), (1254, 0.0, 0.0, 0.0, 0.0, 0.0, 0.0), (1255, 0.0, 0.0, 0.0, 0.0, 0.0, 0.0), (1256, 0.0, 0.0, 0.0, 0.0, 0.0, 0.0), (1257, 0.0, 0.0, 0.0, 0.0, 0.0, 0.0), (1258, 0.5, 0.9328423755151679, 1.0, 79, 27616, 1133.2113553681543), (1259, 0.0, 0.0, 0.0, 0.0, 0.0, 0.0), (1260, 0.0, 6.756300249983109e-05, 0.0, 1, 4, 0.0), (1261, 0.0, 0.0, 0.0, 0.0, 0.0, 0.0), (1262, 0.0, 0.0, 0.0, 0.0, 0.0, 0.0), (1263, 0.0, 0.0, 0.0, 0.0, 0.0, 0.0), (1264, 0.0, 0.0, 0.0, 0.0, 0.0, 0.0), (1265, 0.0, 0.0, 0.0, 0.0, 0.0, 0.0), (1266, 0.0, 0.0, 0.0, 0.0, 0.0, 0.0), (1267, 0.0, 6.756300249983109e-05, 0.0, 1, 4, 0.0), (1268, 0.0, 0.0, 0.0, 0.0, 0.0, 0.0), (1269, 0.01282051282051282, 0.0026349570974934125, 0.0, 3, 80, 0.0), (1270, 0.0, 0.0, 0.0, 0.0, 0.0, 0.0), (1271, 0.0, 0.0, 0.0, 0.0, 0.0, 0.0), (1272, 0.0, 6.756300249983109e-05, 0.0, 1, 4, 0.0), (1273, 0.0, 0.0, 0.0, 0.0, 0.0, 0.0), (1274, 0.0, 0.0, 0.0, 0.0, 0.0, 0.0), (1275, 0.0, 0.0, 0.0, 0.0, 0.0, 0.0), (1276, 0.0, 0.0, 0.0, 0.0, 0.0, 0.0), (1277, 0.08333333333333333, 0.06317140733734207, 0.0, 14, 1872, 0.0), (1278, 0.09615384615384616, 0.16802918721707993, 0.0, 16, 4976, 0.0), (1279, 0.0, 0.0, 0.0, 0.0, 0.0, 0.0), (1280, 0.0, 0.0, 0.0, 0.0, 0.0, 0.0), (1281, 0.0, 0.0, 0.0, 0.0, 0.0, 0.0), (1282, 0.0, 0.0, 0.0, 0.0, 0.0, 0.0), (1283, 0.0, 0.0, 0.0, 0.0, 0.0, 0.0), (1284, 0.0, 0.0, 0.0, 0.0, 0.0, 0.0), (1285, 0.0, 0.0, 0.0, 0.0, 0.0, 0.0), (1286, 0.0, 0.0, 0.0, 0.0, 0.0, 0.0), (1287, 0.28205128205128205, 0.10154719275724614, 0.11828307582422677, 45, 3008, 134.03972467188618), (1288, 0.0, 0.0, 0.0, 0.0, 0.0, 0.0), (1289, 0.0, 0.0, 0.0, 0.0, 0.0, 0.0), (1290, 0.0, 0.0, 0.0, 0.0, 0.0, 0.0), (1291, 0.01282051282051282, 0.0007431930274981421, 0.0, 3, 24, 0.0), (1292, 0.0, 0.0, 0.0, 0.0, 0.0, 0.0), (1293, 0.0, 0.0, 0.0, 0.0, 0.0, 0.0), (1295, 0.0, 0.0, 0.0, 0.0, 0.0, 0.0), (1296, 0.0, 0.0, 0.0, 0.0, 0.0, 0.0), (1297, 0.0, 0.0, 0.0, 0.0, 0.0, 0.0), (1299, 0.0, 0.0, 0.0, 0.0, 0.0, 0.0), (1300, 0.0, 0.0, 0.0, 0.0, 0.0, 0.0), (1301, 0.0, 0.0, 0.0, 0.0, 0.0, 0.0), (1302, 0.0, 6.756300249983109e-05, 0.0, 1, 4, 0.0), (1303, 0.0, 0.0, 0.0, 0.0, 0.0, 0.0), (1304, 0.0, 0.0, 0.0, 0.0, 0.0, 0.0), (1305, 0.0, 0.0, 0.0, 0.0, 0.0, 0.0), (1306, 0.00641025641025641, 0.00033781501249915546, 0.0, 2, 12, 0.0), (1307, 0.0, 0.0, 0.0, 0.0, 0.0, 0.0), (1308, 0.0, 6.756300249983109e-05, 0.0, 1, 4, 0.0), (1309, 0.0, 0.00047294101749881766, 0.0, 1, 16, 0.0), (1310, 0.0, 0.0, 0.0, 0.0, 0.0, 0.0), (1311, 0.0, 0.0, 0.0, 0.0, 0.0, 0.0), (1312, 0.0, 0.0, 0.0, 0.0, 0.0, 0.0), (1313, 0.0, 0.0, 0.0, 0.0, 0.0, 0.0), (1315, 0.0, 0.0, 0.0, 0.0, 0.0, 0.0), (1316, 0.0, 0.0, 0.0, 0.0, 0.0, 0.0), (1317, 0.0, 0.0, 0.0, 0.0, 0.0, 0.0), (1318, 0.0, 0.0, 0.0, 0.0, 0.0, 0.0), (1319, 0.0, 0.0, 0.0, 0.0, 0.0, 0.0), (1320, 0.0, 0.0, 0.0, 0.0, 0.0, 0.0), (1321, 0.0, 0.0, 0.0, 0.0, 0.0, 0.0), (1322, 0.0, 0.0, 0.0, 0.0, 0.0, 0.0), (1323, 0.038461538461538464, 0.012228903452469428, 0.0, 7, 364, 0.0), (1324, 0.0, 0.0, 0.0, 0.0, 0.0, 0.0), (1325, 0.0, 0.0, 0.0, 0.0, 0.0, 0.0), (1326, 0.0, 0.0, 0.0, 0.0, 0.0, 0.0), (1328, 0.05128205128205128, 0.001959327072495102, 0.0, 9, 60, 0.0), (1329, 0.0, 0.0, 0.0, 0.0, 0.0, 0.0), (1330, 0.0, 0.0, 0.0, 0.0, 0.0, 0.0), (1331, 0.0, 0.0, 0.0, 0.0, 0.0, 0.0), (1332, 0.0, 0.0, 0.0, 0.0, 0.0, 0.0), (1333, 0.0, 0.0, 0.0, 0.0, 0.0, 0.0), (1334, 0.0, 0.0, 0.0, 0.0, 0.0, 0.0), (1335, 0.0, 0.0, 0.0, 0.0, 0.0, 0.0), (1336, 0.0, 0.0, 0.0, 0.0, 0.0, 0.0), (1337, 0.0, 0.0, 0.0, 0.0, 0.0, 0.0), (1338, 0.0, 0.0, 0.0, 0.0, 0.0, 0.0), (1339, 0.019230769230769232, 0.00047294101749881766, 0.0, 4, 16, 0.0), (1340, 0.0, 0.0, 0.0, 0.0, 0.0, 0.0), (1341, 0.0, 0.0, 0.0, 0.0, 0.0, 0.0), (1342, 0.0, 0.0, 0.0, 0.0, 0.0, 0.0), (1343, 0.0, 0.0, 0.0, 0.0, 0.0, 0.0), (1345, 0.0, 0.0, 0.0, 0.0, 0.0, 0.0), (1346, 0.0, 0.0, 0.0, 0.0, 0.0, 0.0), (1347, 0.0, 0.0, 0.0, 0.0, 0.0, 0.0), (1348, 0.0, 0.0, 0.0, 0.0, 0.0, 0.0), (1349, 0.0, 0.0, 0.0, 0.0, 0.0, 0.0), (1350, 0.0, 6.756300249983109e-05, 0.0, 1, 4, 0.0), (1352, 0.0, 0.0, 0.0, 0.0, 0.0, 0.0), (1353, 0.0, 0.0, 0.0, 0.0, 0.0, 0.0), (1354, 0.0, 0.0, 0.0, 0.0, 0.0, 0.0), (1356, 0.0, 0.0, 0.0, 0.0, 0.0, 0.0), (1357, 0.0, 0.0, 0.0, 0.0, 0.0, 0.0), (1358, 0.00641025641025641, 0.00020268900749949328, 0.0, 2, 8, 0.0), (1359, 0.0, 0.0, 0.0, 0.0, 0.0, 0.0), (1360, 0.0, 0.0, 0.0, 0.0, 0.0, 0.0), (1361, 0.0, 0.0, 0.0, 0.0, 0.0, 0.0), (1362, 0.0, 0.0, 0.0, 0.0, 0.0, 0.0), (1363, 0.0, 0.0, 0.0, 0.0, 0.0, 0.0), (1365, 0.0, 0.0, 0.0, 0.0, 0.0, 0.0), (1366, 0.0, 0.0, 0.0, 0.0, 0.0, 0.0), (1367, 0.0, 0.0, 0.0, 0.0, 0.0, 0.0), (1368, 0.0, 0.0, 0.0, 0.0, 0.0, 0.0), (1369, 0.4807692307692308, 0.710830349300723, 0.0, 76, 21044, 0.0), (1370, 0.0, 0.0, 0.0, 0.0, 0.0, 0.0), (1371, 0.0, 0.0, 0.0, 0.0, 0.0, 0.0), (1372, 0.0, 0.0, 0.0, 0.0, 0.0, 0.0), (1373, 0.0, 0.0, 0.0, 0.0, 0.0, 0.0), (1374, 0.0, 6.756300249983109e-05, 0.0, 1, 4, 0.0), (1375, 0.0, 0.0, 0.0, 0.0, 0.0, 0.0), (1376, 0.0, 0.0, 0.0, 0.0, 0.0, 0.0), (1377, 0.057692307692307696, 0.0018242010674954395, 0.0, 10, 56, 0.0), (1378, 0.0, 0.0, 0.0, 0.0, 0.0, 0.0), (1379, 0.0, 0.0, 0.0, 0.0, 0.0, 0.0), (1380, 0.01282051282051282, 0.0007431930274981421, 0.0, 3, 24, 0.0), (1381, 0.0, 0.0, 0.0, 0.0, 0.0, 0.0), (1382, 0.0, 6.756300249983109e-05, 0.0, 1, 4, 0.0), (1383, 0.0, 0.0, 0.0, 0.0, 0.0, 0.0), (1384, 0.0, 6.756300249983109e-05, 0.0, 1, 4, 0.0), (1385, 0.0, 6.756300249983109e-05, 0.0, 1, 4, 0.0), (1386, 0.0, 0.0, 0.0, 0.0, 0.0, 0.0), (1387, 0.0, 0.0, 0.0, 0.0, 0.0, 0.0), (1388, 0.0, 0.0, 0.0, 0.0, 0.0, 0.0), (1389, 0.0, 0.0, 0.0, 0.0, 0.0, 0.0), (1390, 0.0, 0.0, 0.0, 0.0, 0.0, 0.0), (1391, 0.0, 0.0, 0.0, 0.0, 0.0, 0.0), (1392, 0.0, 0.0, 0.0, 0.0, 0.0, 0.0), (1393, 0.00641025641025641, 0.0007431930274981421, 0.0, 2, 24, 0.0), (1394, 0.0, 6.756300249983109e-05, 0.0, 1, 4, 0.0), (1395, 0.0, 0.0, 0.0, 0.0, 0.0, 0.0), (1396, 0.0, 0.0, 0.0, 0.0, 0.0, 0.0), (1398, 0.0, 6.756300249983109e-05, 0.0, 1, 4, 0.0), (1399, 0.0, 0.0, 0.0, 0.0, 0.0, 0.0), (1400, 0.0, 0.0, 0.0, 0.0, 0.0, 0.0), (1401, 0.0, 0.0, 0.0, 0.0, 0.0, 0.0), (1402, 0.0, 6.756300249983109e-05, 0.0, 1, 4, 0.0), (1403, 0.0, 0.0, 0.0, 0.0, 0.0, 0.0), (1404, 0.0, 0.0, 0.0, 0.0, 0.0, 0.0), (1405, 0.0, 0.0, 0.0, 0.0, 0.0, 0.0), (1407, 0.0, 0.0, 0.0, 0.0, 0.0, 0.0), (1408, 0.0, 0.0, 0.0, 0.0, 0.0, 0.0), (1409, 0.0, 0.0, 0.0, 0.0, 0.0, 0.0), (1410, 0.0, 6.756300249983109e-05, 0.0, 1, 4, 0.0), (1412, 0.0, 0.0, 0.0, 0.0, 0.0, 0.0), (1413, 0.0, 0.0, 0.0, 0.0, 0.0, 0.0), (1414, 0.0, 0.0, 0.0, 0.0, 0.0, 0.0), (1415, 0.0, 0.0, 0.0, 1, 2, 0.0), (1416, 0.0, 0.0, 0.0, 0.0, 0.0, 0.0), (1417, 0.0, 0.0, 0.0, 0.0, 0.0, 0.0), (1418, 0.0, 0.0, 0.0, 0.0, 0.0, 0.0), (1419, 0.0, 0.0, 0.0, 0.0, 0.0, 0.0), (1420, 0.0, 0.0, 0.0, 0.0, 0.0, 0.0), (1421, 0.0, 0.0, 0.0, 0.0, 0.0, 0.0), (1422, 0.0, 0.0, 0.0, 0.0, 0.0, 0.0), (1423, 0.0, 0.0, 0.0, 0.0, 0.0, 0.0), (1424, 0.0, 6.756300249983109e-05, 0.0, 1, 4, 0.0), (1425, 0.0, 0.0, 0.0, 0.0, 0.0, 0.0), (1426, 0.0, 6.756300249983109e-05, 0.0, 1, 4, 0.0), (1428, 0.0, 0.0, 0.0, 0.0, 0.0, 0.0), (1430, 0.0, 0.00047294101749881766, 0.0, 1, 16, 0.0), (1431, 0.0, 6.756300249983109e-05, 0.0, 1, 4, 0.0), (1432, 0.0, 0.0, 0.0, 0.0, 0.0, 0.0), (1433, 0.0, 0.0, 0.0, 0.0, 0.0, 0.0), (1434, 0.0, 6.756300249983109e-05, 0.0, 1, 4, 0.0), (1435, 0.0, 6.756300249983109e-05, 0.0, 1, 4, 0.0), (1436, 0.0, 0.0, 0.0, 0.0, 0.0, 0.0), (1437, 0.0, 0.0, 0.0, 0.0, 0.0, 0.0), (1438, 0.0, 0.0, 0.0, 0.0, 0.0, 0.0), (1439, 0.0, 0.0, 0.0, 0.0, 0.0, 0.0), (1440, 0.20512820512820512, 0.25977974461185055, 0.19731663076503916, 33, 7692, 223.60144658592768), (1441, 0.00641025641025641, 0.00020268900749949328, 0.0, 2, 8, 0.0), (1443, 0.0, 0.0, 0.0, 0.0, 0.0, 0.0), (1444, 0.00641025641025641, 0.00020268900749949328, 0.0, 2, 8, 0.0), (1445, 0.0, 0.0, 0.0, 0.0, 0.0, 0.0), (1446, 0.0, 0.0, 0.0, 0.0, 0.0, 0.0), (1447, 0.0, 0.0, 0.0, 0.0, 0.0, 0.0), (1448, 0.0, 6.756300249983109e-05, 0.0, 1, 4, 0.0), (1449, 0.0, 0.0, 0.0, 0.0, 0.0, 0.0), (1450, 0.0, 0.0, 0.0, 0.0, 0.0, 0.0), (1451, 0.0, 6.756300249983109e-05, 0.0, 1, 4, 0.0), (1452, 0.0, 0.0, 0.0, 0.0, 0.0, 0.0), (1453, 0.0, 0.00020268900749949328, 0.0, 1, 8, 0.0), (1454, 0.0, 0.0, 0.0, 0.0, 0.0, 0.0), (1455, 0.0, 0.0, 0.0, 0.0, 0.0, 0.0), (1456, 0.0, 0.0, 0.0, 0.0, 0.0, 0.0), (1457, 0.0, 0.0, 0.0, 0.0, 0.0, 0.0), (1458, 0.0, 0.0, 0.0, 0.0, 0.0, 0.0), (1459, 0.0, 0.0, 0.0, 0.0, 0.0, 0.0), (1460, 0.0, 0.0, 0.0, 0.0, 0.0, 0.0), (1461, 0.0, 0.0, 0.0, 0.0, 0.0, 0.0), (1462, 0.0, 0.0, 0.0, 0.0, 0.0, 0.0), (1463, 0.0, 0.0, 0.0, 0.0, 0.0, 0.0), (1464, 0.0, 0.0, 0.0, 0.0, 0.0, 0.0), (1465, 0.0, 0.00020268900749949328, 0.0, 1, 8, 0.0), (1466, 0.0, 0.0, 0.0, 0.0, 0.0, 0.0), (1467, 0.0, 0.00020268900749949328, 0.0, 1, 8, 0.0), (1468, 0.0, 0.0, 0.0, 0.0, 0.0, 0.0), (1469, 0.0, 0.0, 0.0, 0.0, 0.0, 0.0), (1470, 0.0, 0.0, 0.0, 0.0, 0.0, 0.0), (1471, 0.0, 0.0, 0.0, 0.0, 0.0, 0.0), (1472, 0.0, 0.0, 0.0, 0.0, 0.0, 0.0), (1473, 0.0, 0.0, 0.0, 0.0, 0.0, 0.0), (1475, 0.0, 0.0, 0.0, 0.0, 0.0, 0.0), (1476, 0.0, 0.0, 0.0, 0.0, 0.0, 0.0), (1477, 0.0, 0.0, 0.0, 0.0, 0.0, 0.0), (1478, 0.0, 0.0, 0.0, 0.0, 0.0, 0.0), (1479, 0.0, 6.756300249983109e-05, 0.0, 1, 4, 0.0), (1480, 0.0, 6.756300249983109e-05, 0.0, 1, 4, 0.0), (1481, 0.0, 0.0, 0.0, 0.0, 0.0, 0.0), (1482, 0.0, 0.0, 0.0, 0.0, 0.0, 0.0), (1484, 0.0, 0.0, 0.0, 0.0, 0.0, 0.0), (1485, 0.0, 0.0, 0.0, 0.0, 0.0, 0.0), (1486, 0.0, 6.756300249983109e-05, 0.0, 1, 4, 0.0), (1487, 0.0, 0.0, 0.0, 0.0, 0.0, 0.0), (1488, 0.0, 0.0, 0.0, 0.0, 0.0, 0.0), (1490, 0.0, 6.756300249983109e-05, 0.0, 1, 4, 0.0), (1491, 0.0, 0.0, 0.0, 0.0, 0.0, 0.0), (1492, 0.0, 0.0, 0.0, 0.0, 0.0, 0.0), (1493, 0.0, 0.0, 0.0, 0.0, 0.0, 0.0), (1494, 0.0, 0.0, 0.0, 0.0, 0.0, 0.0), (1495, 0.0, 0.0, 0.0, 0.0, 0.0, 0.0), (1496, 0.0, 0.0, 0.0, 0.0, 0.0, 0.0), (1497, 0.0, 6.756300249983109e-05, 0.0, 1, 4, 0.0), (1498, 0.0, 0.0, 0.0, 0.0, 0.0, 0.0), (1499, 0.0, 0.0, 0.0, 0.0, 0.0, 0.0), (1500, 0.0, 6.756300249983109e-05, 0.0, 1, 4, 0.0), (1501, 0.01282051282051282, 0.006958989257482603, 0.0, 3, 208, 0.0), (1502, 0.0, 0.0, 0.0, 0.0, 0.0, 0.0), (1503, 0.0, 0.0, 0.0, 0.0, 0.0, 0.0), (1504, 0.0, 0.0, 0.0, 1, 2, 0.0), (1505, 0.0, 0.00020268900749949328, 0.0, 1, 8, 0.0), (1506, 0.0, 0.0, 0.0, 0.0, 0.0, 0.0), (1507, 0.0, 0.0, 0.0, 0.0, 0.0, 0.0), (1508, 0.0, 0.0, 0.0, 0.0, 0.0, 0.0), (1509, 0.0, 0.0, 0.0, 0.0, 0.0, 0.0), (1510, 0.03205128205128205, 0.005472603202486319, 0.0, 6, 164, 0.0), (1511, 0.0, 0.0, 0.0, 0.0, 0.0, 0.0), (1512, 0.0, 0.0, 0.0, 0.0, 0.0, 0.0), (1513, 0.0, 0.0, 0.0, 0.0, 0.0, 0.0), (1514, 0.0, 6.756300249983109e-05, 0.0, 1, 4, 0.0), (1515, 0.0, 0.0, 0.0, 0.0, 0.0, 0.0), (1516, 0.0, 0.0, 0.0, 0.0, 0.0, 0.0), (1517, 0.0, 0.0, 0.0, 0.0, 0.0, 0.0), (1518, 0.0, 0.0, 0.0, 0.0, 0.0, 0.0), (1519, 0.0, 0.0, 0.0, 0.0, 0.0, 0.0), (1520, 0.00641025641025641, 0.00020268900749949328, 0.0, 2, 8, 0.0), (1521, 0.0, 0.0, 0.0, 0.0, 0.0, 0.0), (1522, 0.08333333333333333, 0.2831565434767921, 0.0, 14, 8384, 0.0), (1523, 0.0, 0.0, 0.0, 0.0, 0.0, 0.0), (1524, 0.0, 0.0, 0.0, 0.0, 0.0, 0.0), (1525, 0.0, 0.0, 0.0, 0.0, 0.0, 0.0), (1526, 0.0, 0.0, 0.0, 0.0, 0.0, 0.0), (1527, 0.0, 0.0, 0.0, 0.0, 0.0, 0.0), (1528, 0.0, 0.0, 0.0, 0.0, 0.0, 0.0), (1529, 0.0, 0.0, 0.0, 0.0, 0.0, 0.0), (1530, 0.0, 0.0, 0.0, 0.0, 0.0, 0.0), (1531, 0.0, 0.0, 0.0, 0.0, 0.0, 0.0), (1532, 0.0, 0.0, 0.0, 0.0, 0.0, 0.0), (1533, 0.0, 0.0, 0.0, 0.0, 0.0, 0.0), (1534, 0.0, 0.0, 0.0, 0.0, 0.0, 0.0), (1535, 0.0, 0.0, 0.0, 0.0, 0.0, 0.0), (1536, 0.0, 0.0010134450374974665, 0.0, 1, 32, 0.0), (1538, 0.0, 0.0, 0.0, 0.0, 0.0, 0.0), (1539, 0.0, 0.0, 0.0, 0.0, 0.0, 0.0), (1541, 0.0, 6.756300249983109e-05, 0.0, 1, 4, 0.0), (1543, 0.0, 0.0, 0.0, 0.0, 0.0, 0.0), (1544, 0.0, 0.0, 0.0, 0.0, 0.0, 0.0), (1545, 0.0, 0.0, 0.0, 0.0, 0.0, 0.0), (1547, 0.0, 0.0, 0.0, 0.0, 0.0, 0.0), (1548, 0.0, 0.0, 0.0, 0.0, 0.0, 0.0), (1549, 0.0, 0.0, 0.0, 0.0, 0.0, 0.0), (1550, 0.07692307692307693, 0.013985541517465037, 0.0, 13, 416, 0.0), (1551, 0.0, 0.0, 0.0, 0.0, 0.0, 0.0), (1552, 0.0, 0.0, 0.0, 0.0, 0.0, 0.0), (1553, 0.0, 0.0, 0.0, 0.0, 0.0, 0.0), (1554, 0.0, 0.0, 0.0, 0.0, 0.0, 0.0), (1555, 0.0, 0.0, 0.0, 0.0, 0.0, 0.0), (1556, 0.0, 0.0, 0.0, 0.0, 0.0, 0.0), (1557, 0.0, 0.0, 0.0, 0.0, 0.0, 0.0), (1558, 0.0, 0.0, 0.0, 0.0, 0.0, 0.0), (1559, 0.0, 0.0, 0.0, 0.0, 0.0, 0.0), (1560, 0.0, 0.0, 0.0, 0.0, 0.0, 0.0), (1561, 0.0, 0.0, 0.0, 0.0, 0.0, 0.0), (1562, 0.0, 0.0, 0.0, 0.0, 0.0, 0.0), (1563, 0.00641025641025641, 0.00047294101749881766, 0.0, 2, 16, 0.0), (1564, 0.0, 0.0, 0.0, 0.0, 0.0, 0.0), (1565, 0.0, 0.0, 0.0, 0.0, 0.0, 0.0), (1566, 0.0, 0.0, 0.0, 0.0, 0.0, 0.0), (1567, 0.0, 0.0, 0.0, 0.0, 0.0, 0.0), (1568, 0.0, 0.0, 0.0, 0.0, 0.0, 0.0), (1569, 0.0, 0.0, 0.0, 0.0, 0.0, 0.0), (1570, 0.0, 0.0, 0.0, 0.0, 0.0, 0.0), (1571, 0.0, 0.0, 0.0, 0.0, 0.0, 0.0), (1572, 0.0, 0.0, 0.0, 0.0, 0.0, 0.0), (1573, 0.0, 0.0, 0.0, 0.0, 0.0, 0.0), (1574, 0.0, 0.0, 0.0, 0.0, 0.0, 0.0), (1575, 0.0, 6.756300249983109e-05, 0.0, 1, 4, 0.0), (1576, 0.02564102564102564, 0.018309573677454227, 0.0, 5, 544, 0.0), (1577, 0.0, 0.0, 0.0, 0.0, 0.0, 0.0), (1578, 0.00641025641025641, 0.00047294101749881766, 0.0, 2, 16, 0.0), (1579, 0.0, 0.0, 0.0, 0.0, 0.0, 0.0), (1580, 0.08974358974358974, 0.08614282818728464, 0.0, 15, 2552, 0.0), (1581, 0.0, 0.0, 0.0, 0.0, 0.0, 0.0), (1582, 0.0, 6.756300249983109e-05, 0.0, 1, 4, 0.0), (1583, 0.0, 0.0, 0.0, 0.0, 0.0, 0.0), (1584, 0.0, 0.0, 0.0, 0.0, 0.0, 0.0), (1586, 0.10897435897435898, 0.0734409837173164, 0.0, 18, 2176, 0.0), (1587, 0.02564102564102564, 0.003986217147490034, 0.0, 5, 120, 0.0), (1588, 0.0, 0.0, 0.0, 0.0, 0.0, 0.0), (1589, 0.0, 0.0, 0.0, 0.0, 0.0, 0.0), (1590, 0.0, 0.0, 0.0, 0.0, 0.0, 0.0), (1591, 0.0, 0.0, 0.0, 0.0, 0.0, 0.0), (1592, 0.0, 0.0, 0.0, 0.0, 0.0, 0.0), (1593, 0.0, 0.0, 0.0, 0.0, 0.0, 0.0), (1594, 0.00641025641025641, 0.00033781501249915546, 0.0, 2, 12, 0.0), (1595, 0.0, 6.756300249983109e-05, 0.0, 1, 4, 0.0), (1596, 0.0, 0.0, 0.0, 0.0, 0.0, 0.0), (1597, 0.0, 0.0, 0.0, 0.0, 0.0, 0.0), (1598, 0.0, 0.0, 0.0, 0.0, 0.0, 0.0), (1599, 0.0, 0.0, 0.0, 0.0, 0.0, 0.0), (1600, 0.0, 0.0, 0.0, 0.0, 0.0, 0.0), (1601, 0.0, 6.756300249983109e-05, 0.0, 1, 4, 0.0), (1602, 0.0, 0.0, 0.0, 0.0, 0.0, 0.0), (1604, 0.0, 0.0, 0.0, 0.0, 0.0, 0.0), (1605, 0.0, 0.0, 0.0, 0.0, 0.0, 0.0), (1606, 0.0, 0.0, 0.0, 0.0, 0.0, 0.0), (1607, 0.0, 0.0, 0.0, 0.0, 0.0, 0.0), (1608, 0.0, 0.0, 0.0, 0.0, 0.0, 0.0), (1609, 0.0, 0.0, 0.0, 0.0, 0.0, 0.0), (1610, 0.0, 0.0, 0.0, 0.0, 0.0, 0.0), (1611, 0.0, 0.0, 0.0, 0.0, 0.0, 0.0), (1612, 0.0, 0.0, 0.0, 0.0, 0.0, 0.0), (1613, 0.0, 0.0, 0.0, 0.0, 0.0, 0.0), (1614, 0.0, 0.0, 0.0, 0.0, 0.0, 0.0), (1615, 0.0, 0.0, 0.0, 0.0, 0.0, 0.0), (1616, 0.0, 0.0, 0.0, 0.0, 0.0, 0.0), (1617, 0.0, 6.756300249983109e-05, 0.0, 1, 4, 0.0), (1618, 0.02564102564102564, 0.0006080670224984799, 0.0, 5, 20, 0.0), (1619, 0.02564102564102564, 0.010742517397473143, 0.0, 5, 320, 0.0), (1620, 0.0, 0.0, 0.0, 0.0, 0.0, 0.0), (1621, 0.0, 0.0, 0.0, 0.0, 0.0, 0.0), (1622, 0.0, 0.0, 0.0, 0.0, 0.0, 0.0), (1623, 0.0, 0.0, 0.0, 0.0, 0.0, 0.0), (1624, 0.0, 0.0, 0.0, 0.0, 0.0, 0.0), (1625, 0.0, 0.00047294101749881766, 0.014119166671076967, 1, 16, 16.0), (1626, 0.0, 0.0, 0.0, 1, 2, 0.0), (1627, 0.0, 0.0, 0.0, 0.0, 0.0, 0.0), (1628, 0.0, 6.756300249983109e-05, 0.0, 1, 4, 0.0), (1629, 0.01282051282051282, 0.00371596513749071, 0.0, 3, 112, 0.0), (1630, 0.0, 0.0, 0.0, 0.0, 0.0, 0.0), (1631, 0.0, 0.0, 0.0, 0.0, 0.0, 0.0), (1632, 0.0, 0.0, 0.0, 0.0, 0.0, 0.0), (1633, 0.0, 0.0, 0.0, 0.0, 0.0, 0.0), (1634, 0.0, 0.0, 0.0, 0.0, 0.0, 0.0), (1636, 0.0, 0.0, 0.0, 0.0, 0.0, 0.0), (1637, 0.0, 0.0, 0.0, 0.0, 0.0, 0.0), (1638, 0.0, 0.0, 0.0, 0.0, 0.0, 0.0), (1639, 0.0, 0.0, 0.0, 0.0, 0.0, 0.0), (1641, 0.0, 6.756300249983109e-05, 0.0, 1, 4, 0.0), (1642, 0.0, 0.0, 0.0, 0.0, 0.0, 0.0), (1643, 0.0, 6.756300249983109e-05, 0.0, 1, 4, 0.0), (1644, 0.0, 0.0, 0.0, 0.0, 0.0, 0.0), (1645, 0.0, 0.0, 0.0, 0.0, 0.0, 0.0), (1646, 0.0, 0.0, 0.0, 0.0, 0.0, 0.0), (1647, 0.0, 0.0, 0.0, 0.0, 0.0, 0.0), (1648, 0.0, 0.0, 0.0, 0.0, 0.0, 0.0), (1649, 0.0, 0.0, 0.0, 0.0, 0.0, 0.0), (1650, 0.0, 0.0, 0.0, 0.0, 0.0, 0.0), (1651, 0.0, 0.0, 0.0, 0.0, 0.0, 0.0), (1652, 0.0, 6.756300249983109e-05, 0.0, 1, 4, 0.0), (1653, 0.0, 0.0, 0.0, 0.0, 0.0, 0.0), (1654, 0.0, 0.0, 0.0, 0.0, 0.0, 0.0), (1655, 0.0, 6.756300249983109e-05, 0.0, 1, 4, 0.0), (1656, 0.0, 0.0, 0.0, 0.0, 0.0, 0.0), (1658, 0.0, 0.0, 0.0, 0.0, 0.0, 0.0), (1659, 0.0, 0.0, 0.0, 0.0, 0.0, 0.0), (1661, 0.0, 0.0, 0.0, 0.0, 0.0, 0.0), (1662, 0.0, 0.0, 0.0, 0.0, 0.0, 0.0), (1663, 0.0, 6.756300249983109e-05, 0.0, 1, 4, 0.0), (1664, 0.0, 0.0, 0.0, 0.0, 0.0, 0.0), (1665, 0.0, 0.0, 0.0, 0.0, 0.0, 0.0), (1666, 0.0, 0.0, 0.0, 0.0, 0.0, 0.0), (1667, 0.0, 0.0, 0.0, 0.0, 0.0, 0.0), (1668, 0.0, 0.0, 0.0, 0.0, 0.0, 0.0), (1669, 0.6602564102564102, 0.15005742855212487, 0.2173949543118234, 104, 4444, 246.35443082589936), (1670, 0.00641025641025641, 0.0020944530774947637, 0.0, 2, 64, 0.0), (1671, 0.0, 0.0, 0.0, 0.0, 0.0, 0.0), (1672, 0.0, 0.0, 0.0, 0.0, 0.0, 0.0), (1673, 0.0, 0.0, 0.0, 0.0, 0.0, 0.0), (1674, 0.0, 0.00020268900749949328, 0.0, 1, 8, 0.0), (1675, 0.0, 0.0, 0.0, 0.0, 0.0, 0.0), (1676, 0.0, 0.0, 0.0, 0.0, 0.0, 0.0), (1677, 0.0, 0.0, 0.0, 0.0, 0.0, 0.0), (1678, 0.0, 0.0, 0.0, 0.0, 0.0, 0.0), (1679, 0.0, 0.0, 0.0, 0.0, 0.0, 0.0), (1680, 0.0, 6.756300249983109e-05, 0.0, 1, 4, 0.0), (1681, 0.0, 0.0, 0.0, 0.0, 0.0, 0.0), (1682, 0.0, 0.0, 0.0, 0.0, 0.0, 0.0), (1683, 0.0, 0.0, 0.0, 0.0, 0.0, 0.0), (1684, 0.0, 0.0, 0.0, 0.0, 0.0, 0.0), (1685, 0.0, 0.0, 0.0, 0.0, 0.0, 0.0), (1687, 0.0, 0.0, 0.0, 0.0, 0.0, 0.0), (1688, 0.0, 0.0, 0.0, 0.0, 0.0, 0.0), (1689, 0.00641025641025641, 0.00020268900749949328, 0.0, 2, 8, 0.0), (1690, 0.0, 6.756300249983109e-05, 0.0, 1, 4, 0.0), (1691, 0.0, 0.0, 0.0, 0.0, 0.0, 0.0), (1693, 0.0, 0.0, 0.0, 0.0, 0.0, 0.0), (1694, 0.0, 6.756300249983109e-05, 0.0, 1, 4, 0.0), (1695, 0.0, 0.0, 0.0, 0.0, 0.0, 0.0), (1696, 0.0, 0.0, 0.0, 0.0, 0.0, 0.0), (1697, 0.0, 0.0, 0.0, 0.0, 0.0, 0.0), (1698, 0.00641025641025641, 0.00033781501249915546, 0.0, 2, 12, 0.0), (1699, 0.0, 0.0, 0.0, 0.0, 0.0, 0.0), (1700, 0.0, 0.0, 0.0, 0.0, 0.0, 0.0), (1701, 0.019230769230769232, 0.00047294101749881766, 0.0, 4, 16, 0.0), (1702, 0.0, 0.0, 0.0, 0.0, 0.0, 0.0), (1703, 0.0, 0.0, 0.0, 0.0, 0.0, 0.0), (1704, 0.0, 0.0, 0.0, 0.0, 0.0, 0.0), (1705, 0.0, 0.0, 0.0, 0.0, 0.0, 0.0), (1706, 0.17307692307692307, 0.00682386325248294, 0.0, 28, 204, 0.0), (1707, 0.0, 0.0, 0.0, 0.0, 0.0, 0.0), (1709, 0.0, 0.0, 0.0, 0.0, 0.0, 0.0), (1710, 0.0, 0.0, 0.0, 0.0, 0.0, 0.0), (1711, 0.0, 0.0, 0.0, 0.0, 0.0, 0.0), (1712, 0.0, 0.0, 0.0, 0.0, 0.0, 0.0), (1713, 0.0, 0.0, 0.0, 0.0, 0.0, 0.0), (1714, 0.0, 0.0, 0.0, 0.0, 0.0, 0.0), (1715, 0.0, 0.0, 0.0, 0.0, 0.0, 0.0), (1716, 0.0, 0.0, 0.0, 0.0, 0.0, 0.0), (1717, 0.0, 0.0, 0.0, 0.0, 0.0, 0.0), (1718, 0.0, 6.756300249983109e-05, 0.0, 1, 4, 0.0), (1719, 0.0, 0.0, 0.0, 0.0, 0.0, 0.0), (1720, 0.0, 6.756300249983109e-05, 0.0, 1, 4, 0.0), (1721, 0.0, 0.0, 0.0, 0.0, 0.0, 0.0), (1722, 0.0, 0.0, 0.0, 0.0, 0.0, 0.0), (1723, 0.0, 0.0, 0.0, 0.0, 0.0, 0.0), (1724, 0.0, 0.0, 0.0, 0.0, 0.0, 0.0), (1725, 0.0, 0.0, 0.0, 0.0, 0.0, 0.0), (1726, 0.0, 0.0, 0.0, 0.0, 0.0, 0.0), (1727, 0.0, 0.0, 0.0, 0.0, 0.0, 0.0), (1728, 0.0, 6.756300249983109e-05, 0.0, 1, 4, 0.0), (1729, 0.0, 0.0, 0.0, 0.0, 0.0, 0.0), (1730, 0.0, 0.0, 0.0, 0.0, 0.0, 0.0), (1731, 0.0, 0.0, 0.0, 0.0, 0.0, 0.0), (1732, 0.0, 6.756300249983109e-05, 0.0, 1, 4, 0.0), (1734, 0.0, 0.0, 0.0, 0.0, 0.0, 0.0), (1735, 0.0, 0.0, 0.0, 0.0, 0.0, 0.0), (1736, 0.0, 0.0, 0.0, 0.0, 0.0, 0.0), (1737, 0.0, 6.756300249983109e-05, 0.0, 1, 4, 0.0), (1738, 0.0, 0.0, 0.0, 0.0, 0.0, 0.0), (1739, 0.0, 0.0, 0.0, 0.0, 0.0, 0.0), (1740, 0.0, 0.0, 0.0, 0.0, 0.0, 0.0), (1741, 0.0, 0.0, 0.0, 0.0, 0.0, 0.0), (1742, 0.0, 0.0, 0.0, 0.0, 0.0, 0.0), (1743, 0.0, 6.756300249983109e-05, 0.0, 1, 4, 0.0), (1744, 0.0, 0.0, 0.0, 0.0, 0.0, 0.0), (1745, 0.0, 0.0, 0.0, 0.0, 0.0, 0.0), (1746, 0.0, 0.0, 0.0, 0.0, 0.0, 0.0), (1747, 0.0, 0.0, 0.0, 0.0, 0.0, 0.0), (1748, 0.00641025641025641, 0.00020268900749949328, 0.0, 2, 8, 0.0), (1749, 0.0, 6.756300249983109e-05, 0.0, 1, 4, 0.0), (1750, 0.0, 0.0, 0.0, 0.0, 0.0, 0.0), (1751, 0.019230769230769232, 0.0080399972974799, 0.0, 4, 240, 0.0), (1752, 0.0, 0.0, 0.0, 0.0, 0.0, 0.0), (1753, 0.0, 0.0, 0.0, 0.0, 0.0, 0.0), (1754, 0.0, 0.0, 0.0, 0.0, 0.0, 0.0), (1755, 0.0, 0.0, 0.0, 0.0, 0.0, 0.0), (1756, 0.0, 0.0, 0.0, 0.0, 0.0, 0.0), (1757, 0.0, 0.0, 0.0, 0.0, 0.0, 0.0), (1758, 0.0, 6.756300249983109e-05, 0.0, 1, 4, 0.0), (1759, 0.0, 0.0, 0.0, 0.0, 0.0, 0.0), (1760, 0.0, 0.0, 0.0, 0.0, 0.0, 0.0), (1761, 0.0, 0.0, 0.0, 0.0, 0.0, 0.0), (1762, 0.0, 0.0, 0.0, 0.0, 0.0, 0.0), (1763, 0.0, 0.0, 0.0, 0.0, 0.0, 0.0), (1764, 0.0, 0.0, 0.0, 0.0, 0.0, 0.0), (1765, 0.0, 0.0, 0.0, 0.0, 0.0, 0.0), (1766, 0.0, 0.0, 0.0, 0.0, 0.0, 0.0), (1767, 0.00641025641025641, 0.0010134450374974665, 0.0, 2, 32, 0.0), (1768, 0.1346153846153846, 0.021417471792446456, 0.0, 22, 636, 0.0), (1769, 0.0, 0.0, 0.0, 0.0, 0.0, 0.0), (1770, 0.01282051282051282, 0.0007431930274981421, 0.0, 3, 24, 0.0), (1772, 0.0, 0.0, 0.0, 0.0, 0.0, 0.0), (1773, 0.0, 0.0, 0.0, 0.0, 0.0, 0.0), (1774, 0.0, 0.0, 0.0, 0.0, 0.0, 0.0), (1775, 0.0, 0.0, 0.0, 0.0, 0.0, 0.0), (1776, 0.0, 0.0, 0.0, 0.0, 0.0, 0.0), (1777, 0.0, 0.0, 0.0, 0.0, 0.0, 0.0), (1778, 0.0, 0.0, 0.0, 0.0, 0.0, 0.0), (1780, 0.0, 0.00020268900749949328, 0.0, 1, 8, 0.0), (1781, 0.0, 0.0, 0.0, 0.0, 0.0, 0.0), (1782, 0.01282051282051282, 0.0007431930274981421, 0.0, 3, 24, 0.0), (1783, 0.0, 0.0, 0.0, 0.0, 0.0, 0.0), (1784, 0.0, 0.0, 0.0, 0.0, 0.0, 0.0), (1785, 0.0, 0.0, 0.0, 0.0, 0.0, 0.0), (1786, 0.0, 0.0, 0.0, 0.0, 0.0, 0.0), (1788, 0.0, 0.0, 0.0, 0.0, 0.0, 0.0), (1789, 0.0, 0.0, 0.0, 0.0, 0.0, 0.0), (1790, 0.0, 0.0, 0.0, 0.0, 0.0, 0.0), (1791, 0.0, 0.0, 0.0, 0.0, 0.0, 0.0), (1792, 0.03205128205128205, 0.011823525437470441, 0.0, 6, 352, 0.0), (1793, 0.0, 0.0, 0.0, 0.0, 0.0, 0.0), (1794, 0.0, 0.0, 0.0, 0.0, 0.0, 0.0), (1795, 0.0, 0.0, 0.0, 0.0, 0.0, 0.0), (1796, 0.0, 0.0, 0.0, 0.0, 0.0, 0.0), (1797, 0.0, 6.756300249983109e-05, 0.0, 1, 4, 0.0), (1798, 0.0, 6.756300249983109e-05, 0.0, 1, 4, 0.0), (1799, 0.0, 0.0, 0.0, 0.0, 0.0, 0.0), (1800, 0.0, 6.756300249983109e-05, 0.0, 1, 4, 0.0), (1801, 0.0, 0.0, 0.0, 0.0, 0.0, 0.0), (1802, 0.0, 0.0, 0.0, 0.0, 0.0, 0.0), (1803, 0.0, 0.0, 0.0, 0.0, 0.0, 0.0), (1804, 0.0, 0.0, 0.0, 0.0, 0.0, 0.0), (1805, 0.0, 0.0, 0.0, 0.0, 0.0, 0.0), (1806, 0.0, 0.0, 0.0, 0.0, 0.0, 0.0), (1807, 0.0, 0.0, 0.0, 0.0, 0.0, 0.0), (1808, 0.0, 0.0, 0.0, 0.0, 0.0, 0.0), (1809, 0.0, 6.756300249983109e-05, 0.0, 1, 4, 0.0), (1810, 0.0, 0.0, 0.0, 0.0, 0.0, 0.0), (1811, 0.0, 0.0, 0.0, 0.0, 0.0, 0.0), (1812, 0.0, 0.0, 0.0, 0.0, 0.0, 0.0), (1813, 0.00641025641025641, 0.00047294101749881766, 0.0, 2, 16, 0.0), (1814, 0.0, 6.756300249983109e-05, 0.0, 1, 4, 0.0), (1815, 0.0, 0.0, 0.0, 0.0, 0.0, 0.0), (1816, 0.0, 6.756300249983109e-05, 0.0, 1, 4, 0.0), (1817, 0.0, 0.0, 0.0, 0.0, 0.0, 0.0), (1818, 0.0, 6.756300249983109e-05, 0.0, 1, 4, 0.0), (1819, 0.0, 0.0, 0.0, 0.0, 0.0, 0.0), (1820, 0.0, 0.0, 0.0, 0.0, 0.0, 0.0), (1821, 0.0, 0.0, 0.0, 0.0, 0.0, 0.0), (1822, 0.0, 0.0, 0.0, 0.0, 0.0, 0.0), (1823, 0.0, 0.0, 0.0, 0.0, 0.0, 0.0), (1824, 0.0, 0.0, 0.0, 0.0, 0.0, 0.0), (1825, 0.0, 6.756300249983109e-05, 0.0, 1, 4, 0.0), (1826, 0.0, 6.756300249983109e-05, 0.0, 1, 4, 0.0), (1827, 0.0, 0.0, 0.0, 0.0, 0.0, 0.0), (1828, 0.0, 0.0, 0.0, 0.0, 0.0, 0.0), (1829, 0.0, 0.0, 0.0, 0.0, 0.0, 0.0), (1830, 0.0, 6.756300249983109e-05, 0.0, 1, 4, 0.0), (1831, 0.0, 0.0, 0.0, 0.0, 0.0, 0.0), (1832, 0.0, 0.0, 0.0, 0.0, 0.0, 0.0), (1833, 0.038461538461538464, 0.01614755759745963, 0.0, 7, 480, 0.0), (1834, 0.0, 0.0, 0.0, 0.0, 0.0, 0.0), (1835, 0.0, 0.0, 0.0, 0.0, 0.0, 0.0), (1836, 0.0, 0.0, 0.0, 0.0, 0.0, 0.0), (1838, 0.0, 0.0, 0.0, 0.0, 0.0, 0.0), (1839, 0.782051282051282, 0.17856901560705357, 0.07075916642296363, 123, 5288, 80.18509088688741), (1840, 0.0, 0.0, 0.0, 0.0, 0.0, 0.0), (1841, 0.0, 0.0, 0.0, 0.0, 0.0, 0.0), (1842, 0.0, 0.0, 0.0, 0.0, 0.0, 0.0), (1843, 0.0, 0.0, 0.0, 0.0, 0.0, 0.0), (1844, 0.019230769230769232, 0.003986217147490034, 0.0, 4, 120, 0.0), (1845, 0.0, 6.756300249983109e-05, 0.0, 1, 4, 0.0), (1846, 0.0, 0.0, 0.0, 0.0, 0.0, 0.0), (1847, 0.0, 0.0, 0.0, 0.0, 0.0, 0.0), (1848, 0.0, 0.0, 0.0, 0.0, 0.0, 0.0), (1849, 0.0, 6.756300249983109e-05, 0.0, 1, 4, 0.0), (1850, 0.0, 0.0, 0.0, 0.0, 0.0, 0.0), (1851, 0.0, 0.0, 0.0, 0.0, 0.0, 0.0), (1852, 0.0, 0.0, 0.0, 0.0, 0.0, 0.0), (1853, 0.0, 0.0, 0.0, 0.0, 0.0, 0.0), (1854, 0.0, 6.756300249983109e-05, 0.0, 1, 4, 0.0), (1855, 0.0, 0.0, 0.0, 0.0, 0.0, 0.0), (1856, 0.0, 0.0, 0.0, 0.0, 0.0, 0.0), (1857, 0.0, 6.756300249983109e-05, 0.0, 1, 4, 0.0), (1858, 0.0, 6.756300249983109e-05, 0.0, 1, 4, 0.0), (1859, 0.0, 0.0, 0.0, 0.0, 0.0, 0.0), (1860, 0.0, 0.0, 0.0, 0.0, 0.0, 0.0), (1861, 0.0, 0.0, 0.0, 0.0, 0.0, 0.0), (1862, 0.0, 0.0, 0.0, 0.0, 0.0, 0.0), (1863, 0.0, 0.0, 0.0, 0.0, 0.0, 0.0), (1865, 0.0, 0.0, 0.0, 0.0, 0.0, 0.0), (1866, 0.0, 0.0, 0.0, 0.0, 0.0, 0.0), (1867, 0.0, 0.0, 0.0, 0.0, 0.0, 0.0), (1868, 0.0, 0.0, 0.0, 0.0, 0.0, 0.0), (1869, 0.0, 0.0, 0.0, 0.0, 0.0, 0.0), (1870, 0.0, 0.0, 0.0, 1, 2, 0.0), (1871, 0.0, 0.0, 0.0, 0.0, 0.0, 0.0), (1872, 0.0, 0.0, 0.0, 0.0, 0.0, 0.0), (1873, 0.0, 0.0, 0.0, 0.0, 0.0, 0.0), (1874, 1.0, 1.0, 0.9530189645005671, 157, 29604, 1079.9719124532426), (1875, 0.0, 0.0, 0.0, 0.0, 0.0, 0.0), (1876, 0.03205128205128205, 0.003986217147490034, 0.0, 6, 120, 0.0), (1877, 0.0, 0.0, 0.0, 0.0, 0.0, 0.0), (1878, 0.019230769230769232, 0.003445713127491386, 0.0, 4, 104, 0.0), (1879, 0.0, 0.0, 0.0, 0.0, 0.0, 0.0), (1880, 0.00641025641025641, 0.00020268900749949328, 0.0, 2, 8, 0.0), (1881, 0.00641025641025641, 0.00047294101749881766, 0.0, 2, 16, 0.0), (1882, 0.00641025641025641, 0.00047294101749881766, 0.0, 2, 16, 0.0), (1883, 0.0, 0.0, 0.0, 0.0, 0.0, 0.0), (1884, 0.0, 0.0, 0.0, 0.0, 0.0, 0.0), (1885, 0.0, 0.0, 0.0, 0.0, 0.0, 0.0), (1886, 0.0, 0.0, 0.0, 0.0, 0.0, 0.0), (1887, 0.0, 0.0, 0.0, 0.0, 0.0, 0.0), (1889, 0.0, 6.756300249983109e-05, 0.0, 1, 4, 0.0), (1890, 0.0, 0.0, 0.0, 0.0, 0.0, 0.0), (1891, 0.0, 0.0, 0.0, 0.0, 0.0, 0.0), (1892, 0.0, 0.0, 0.0, 0.0, 0.0, 0.0), (1893, 0.0, 0.0, 0.0, 0.0, 0.0, 0.0), (1894, 0.07051282051282051, 0.166407675157084, 0.0, 12, 4928, 0.0), (1895, 0.0, 0.0, 0.0, 0.0, 0.0, 0.0), (1896, 0.0, 0.0, 0.0, 0.0, 0.0, 0.0), (1897, 0.0, 0.0, 0.0, 0.0, 0.0, 0.0), (1898, 0.0, 0.0, 0.0, 0.0, 0.0, 0.0), (1899, 0.0641025641025641, 0.34801702587662997, 0.0, 11, 10304, 0.0), (1900, 0.0, 0.0, 0.0, 0.0, 0.0, 0.0), (1901, 0.0, 0.0, 0.0, 0.0, 0.0, 0.0), (1902, 0.0, 0.0, 0.0, 0.0, 0.0, 0.0), (1903, 0.0, 6.756300249983109e-05, 0.0, 1, 4, 0.0), (1904, 0.0, 0.0, 0.0, 0.0, 0.0, 0.0), (1905, 0.0, 0.0, 0.0, 0.0, 0.0, 0.0), (1906, 0.07051282051282051, 0.00493209918248767, 0.0, 12, 148, 0.0), (1907, 0.0, 0.0, 0.0, 0.0, 0.0, 0.0), (1908, 0.0, 0.0, 0.0, 0.0, 0.0, 0.0), (1909, 0.0, 0.0, 0.0, 0.0, 0.0, 0.0), (1910, 0.0, 0.0, 0.0, 0.0, 0.0, 0.0), (1911, 0.00641025641025641, 0.00020268900749949328, 0.0, 2, 8, 0.0), (1912, 0.0, 0.00020268900749949328, 0.0, 1, 8, 0.0), (1913, 0.0, 0.0, 0.0, 0.0, 0.0, 0.0), (1914, 0.0, 6.756300249983109e-05, 0.0, 1, 4, 0.0), (1915, 0.0, 0.0, 0.0, 0.0, 0.0, 0.0), (1916, 0.0, 0.0, 0.0, 0.0, 0.0, 0.0), (1917, 0.0, 0.0, 0.0, 0.0, 0.0, 0.0), (1918, 0.0, 6.756300249983109e-05, 0.0, 1, 4, 0.0), (1919, 0.0, 0.0, 0.0, 0.0, 0.0, 0.0), (1920, 0.0, 0.0, 0.0, 0.0, 0.0, 0.0), (1921, 0.0, 0.0, 0.0, 0.0, 0.0, 0.0), (1922, 0.0, 0.0, 0.0, 0.0, 0.0, 0.0), (1923, 0.0, 0.0, 0.0, 0.0, 0.0, 0.0), (1925, 0.0, 0.0, 0.0, 0.0, 0.0, 0.0), (1926, 0.0, 0.0, 0.0, 0.0, 0.0, 0.0), (1927, 0.0, 6.756300249983109e-05, 0.0, 1, 4, 0.0), (1928, 0.0, 0.0, 0.0, 0.0, 0.0, 0.0), (1929, 0.0, 0.0, 0.0, 0.0, 0.0, 0.0), (1930, 0.0, 6.756300249983109e-05, 0.0, 1, 4, 0.0), (1931, 0.0, 0.0, 0.0, 0.0, 0.0, 0.0), (1932, 0.0, 6.756300249983109e-05, 0.0, 1, 4, 0.0), (1933, 0.0, 0.0, 0.0, 0.0, 0.0, 0.0), (1934, 0.0, 0.0, 0.0, 0.0, 0.0, 0.0), (1935, 0.0, 0.0, 0.0, 0.0, 0.0, 0.0), (1936, 0.0, 0.0, 0.0, 0.0, 0.0, 0.0), (1937, 0.0, 0.0, 0.0, 0.0, 0.0, 0.0), (1938, 0.0, 0.0, 0.0, 0.0, 0.0, 0.0), (1939, 0.0, 0.0, 0.0, 0.0, 0.0, 0.0), (1940, 0.0, 0.0, 0.0, 0.0, 0.0, 0.0), (1941, 0.0, 0.0, 0.0, 0.0, 0.0, 0.0), (1942, 0.00641025641025641, 0.0020944530774947637, 0.0, 2, 64, 0.0), (1943, 0.0, 0.0, 0.0, 0.0, 0.0, 0.0), (1944, 0.0, 0.0, 0.0, 0.0, 0.0, 0.0), (1945, 0.0, 0.0, 0.0, 0.0, 0.0, 0.0), (1946, 0.0, 0.0, 0.0, 0.0, 0.0, 0.0), (1948, 0.0, 0.0, 0.0, 0.0, 0.0, 0.0), (1950, 0.0, 0.0, 0.0, 0.0, 0.0, 0.0), (1951, 0.0, 0.0, 0.0, 0.0, 0.0, 0.0), (1952, 0.04487179487179487, 0.0012836970474967907, 0.0, 8, 40, 0.0), (1953, 0.0, 6.756300249983109e-05, 0.0, 1, 4, 0.0), (1954, 0.0, 0.0, 0.0, 0.0, 0.0, 0.0), (1955, 0.0, 6.756300249983109e-05, 0.0, 1, 4, 0.0), (1956, 0.0, 0.00020268900749949328, 0.0, 1, 8, 0.0), (1957, 0.01282051282051282, 0.00033781501249915546, 0.0, 3, 12, 0.0), (1958, 0.0, 0.0, 0.0, 0.0, 0.0, 0.0), (1959, 0.0, 0.0, 0.0, 0.0, 0.0, 0.0), (1960, 0.0, 0.0, 0.0, 0.0, 0.0, 0.0), (1961, 0.0, 0.0, 0.0, 0.0, 0.0, 0.0), (1962, 0.0, 6.756300249983109e-05, 0.0, 1, 4, 0.0), (1963, 0.09615384615384616, 0.3285588811566786, 0.0, 16, 9728, 0.0), (1964, 0.0, 0.0, 0.0, 0.0, 0.0, 0.0), (1965, 0.0, 0.0, 0.0, 0.0, 0.0, 0.0), (1966, 0.00641025641025641, 0.00020268900749949328, 0.0, 2, 8, 0.0), (1967, 0.0, 0.0, 0.0, 0.0, 0.0, 0.0), (1968, 0.0, 0.0, 0.0, 0.0, 0.0, 0.0), (1969, 0.0, 6.756300249983109e-05, 0.0, 1, 4, 0.0), (1970, 0.0, 0.0, 0.0, 0.0, 0.0, 0.0), (1971, 0.0, 0.0, 0.0, 0.0, 0.0, 0.0), (1972, 0.0, 0.0, 0.0, 0.0, 0.0, 0.0), (1973, 0.0, 0.0, 0.0, 0.0, 0.0, 0.0), (1974, 0.1346153846153846, 0.6269171001959327, 0.0, 22, 18560, 0.0), (1975, 0.0, 0.0, 0.0, 0.0, 0.0, 0.0), (1976, 0.0, 0.00020268900749949328, 0.0, 1, 8, 0.0), (1977, 0.0, 0.0, 0.0, 0.0, 0.0, 0.0), (1978, 0.0, 0.0, 0.0, 0.0, 0.0, 0.0), (1979, 0.0, 0.0, 0.0, 0.0, 0.0, 0.0), (1981, 0.0, 6.756300249983109e-05, 0.0, 1, 4, 0.0), (1982, 0.0, 0.0, 0.0, 0.0, 0.0, 0.0), (1983, 0.0, 6.756300249983109e-05, 0.0, 1, 4, 0.0), (1984, 0.0, 0.0, 0.0, 0.0, 0.0, 0.0), (1985, 0.0, 0.0, 0.0, 0.0, 0.0, 0.0), (1986, 0.0, 0.0, 0.0, 0.0, 0.0, 0.0), (1987, 0.10897435897435898, 0.023849739882440376, 0.0, 18, 708, 0.0), (1988, 0.0, 0.0, 0.0, 0.0, 0.0, 0.0), (1989, 0.0, 0.0, 0.0, 1, 2, 0.0), (1990, 0.0, 0.0, 0.0, 0.0, 0.0, 0.0), (1991, 0.0, 0.0, 0.0, 0.0, 0.0, 0.0), (1992, 0.01282051282051282, 0.001553949057496115, 0.0, 3, 48, 0.0), (1993, 0.0, 0.0, 0.0, 0.0, 0.0, 0.0), (1994, 0.0, 6.756300249983109e-05, 0.0, 1, 4, 0.0), (1995, 0.0, 6.756300249983109e-05, 0.0, 1, 4, 0.0), (1996, 0.0, 0.0, 0.0, 0.0, 0.0, 0.0), (1997, 0.0, 6.756300249983109e-05, 0.0, 1, 4, 0.0), (1998, 0.28846153846153844, 0.6220525640159449, 0.4021780598273695, 46, 18416, 455.752744276308), (1999, 0.0, 6.756300249983109e-05, 0.0, 1, 4, 0.0), (2000, 0.0, 0.0, 0.0, 0.0, 0.0, 0.0), (2001, 0.0, 6.756300249983109e-05, 0.0, 1, 4, 0.0), (2002, 0.0, 0.0, 0.0, 0.0, 0.0, 0.0), (2003, 0.0, 0.0, 0.0, 0.0, 0.0, 0.0), (2004, 0.0, 0.0, 0.0, 0.0, 0.0, 0.0), (2005, 0.0, 0.0, 0.0, 0.0, 0.0, 0.0), (2006, 0.00641025641025641, 0.00047294101749881766, 0.0, 2, 16, 0.0), (2007, 0.0, 0.0, 0.0, 0.0, 0.0, 0.0), (2008, 0.0, 0.0, 0.0, 0.0, 0.0, 0.0), (2009, 0.0, 0.0, 0.0, 0.0, 0.0, 0.0), (2010, 0.0, 6.756300249983109e-05, 0.0, 1, 4, 0.0), (2011, 0.0, 0.0, 0.0, 0.0, 0.0, 0.0), (2012, 0.0, 0.0, 0.0, 0.0, 0.0, 0.0), (2013, 0.0, 0.0, 0.0, 0.0, 0.0, 0.0), (2014, 0.0, 0.0, 0.0, 0.0, 0.0, 0.0), (2015, 0.0, 0.0, 0.0, 0.0, 0.0, 0.0), (2016, 0.0, 0.0, 0.0, 0.0, 0.0, 0.0), (2017, 0.0, 0.0, 0.0, 0.0, 0.0, 0.0), (2018, 0.0, 0.0, 0.0, 0.0, 0.0, 0.0), (2019, 0.0, 0.0, 0.0, 0.0, 0.0, 0.0), (2020, 0.0, 0.0, 0.0, 0.0, 0.0, 0.0), (2021, 0.0, 0.0, 0.0, 0.0, 0.0, 0.0), (2022, 0.0, 0.0, 0.0, 0.0, 0.0, 0.0), (2023, 0.0, 0.0, 0.0, 0.0, 0.0, 0.0), (2024, 0.0, 0.0, 0.0, 0.0, 0.0, 0.0), (2025, 0.0, 0.0, 0.0, 0.0, 0.0, 0.0), (2026, 0.0, 0.0, 0.0, 0.0, 0.0, 0.0), (2027, 0.03205128205128205, 0.031416796162421455, 0.0, 6, 932, 0.0), (2028, 0.0, 0.0, 0.0, 0.0, 0.0, 0.0), (2029, 0.0, 0.0, 0.0, 0.0, 0.0, 0.0)]\n"
     ]
    }
   ],
   "source": [
    "sort_socialscorefeature = sorted(socialscorefeature, key=lambda x: x[0])\n",
    "\n",
    "print(sort_socialscorefeature)"
   ]
  },
  {
   "cell_type": "code",
   "execution_count": 111,
   "metadata": {},
   "outputs": [],
   "source": [
    "with open('nodeSocialScoreFeature.txt', 'w') as fd:\n",
    "    for (node, normNodeClique, normRawClique, normWeightedClique, nodeClique, rawClique, weigthedClique) in sort_socialscorefeature:\n",
    "        fd.write(\"%r %r %r %r %r %r %r\\n\" % (node, normNodeClique, normRawClique, normWeightedClique, nodeClique, rawClique, weigthedClique))"
   ]
  },
  {
   "cell_type": "markdown",
   "metadata": {},
   "source": [
    "## Compute Weighted Social Score "
   ]
  },
  {
   "cell_type": "code",
   "execution_count": 62,
   "metadata": {},
   "outputs": [],
   "source": [
    "#\n",
    "# Weights:\n",
    "#\n",
    "# W = [ Weighted Clique, RawClique, NumClique, OutDegree, InDegree, Cluster Coeff, Betweeness, Avg ShortPath, Auth, Hub]\n",
    "#\n",
    "w_weightedClique = 0.9\n",
    "w_rawClique = 0.8\n",
    "w_numClique = 0.7\n",
    "w_outDegree = 0.6\n",
    "w_inDegree = 0.6\n",
    "w_clusterCoeff = 0.3 \n",
    "w_betweeness = 0.3 \n",
    "w_shortpath = 0.5 \n",
    "w_auth = 0.2 \n",
    "w_hub = 0.1 \n",
    "\n",
    "w = np.array([w_weightedClique,\\\n",
    "             w_rawClique, \\\n",
    "             w_numClique, \\\n",
    "             w_outDegree, \\\n",
    "             w_inDegree, \\\n",
    "             w_clusterCoeff, \\\n",
    "             w_betweeness, \\\n",
    "             w_shortpath, \\\n",
    "             w_auth, \\\n",
    "             w_hub])\n",
    "\n",
    "w_sum = np.sum(w)"
   ]
  },
  {
   "cell_type": "markdown",
   "metadata": {},
   "source": [
    "### Social Score is computed as follows \n",
    "\n",
    "\\begin{align}\n",
    "w_x * C_x & = w_x * 100 * \\left[ \\frac{x_i - infx}{sup\\ x - inf\\ x} \\right] \\\\\n",
    "\\\\\n",
    "score & = \\frac{\\Sigma_{all\\ x} w * C_x}{\\Sigma_{all\\ x} w}\n",
    "\\end{align}"
   ]
  },
  {
   "cell_type": "code",
   "execution_count": 63,
   "metadata": {},
   "outputs": [],
   "source": [
    "socialScore = list()\n",
    "\n",
    "for node, attributes in NodeAttributes.items():\n",
    "    weightedClique = attributes.get('normWeightedClique', 0.0)\n",
    "    rawClique = attributes.get('normRawClique', 0.0)\n",
    "    numClique = attributes.get('normNodeClique', 0.0)\n",
    "    outDeg =  attributes.get('NormOutDegree', 0.0)\n",
    "    inDeg =  attributes.get('NormInDegree', 0.0)\n",
    "    clusterCoeff =  attributes.get('NormClusterCoeff', 0.0)\n",
    "    betweeness = attributes.get('normBetweeness', 0.0)\n",
    "    shortestPath = attributes.get('normAvgShortPathLen', 0.0)\n",
    "    authScore = attributes.get('normAuthScore', 0.0)\n",
    "    hubSccore = attributes.get('normHubScore', 0.0)\n",
    "    \n",
    "    C_x = np.array([weightedClique, \\\n",
    "                   rawClique, \\\n",
    "                   numClique, \\\n",
    "                   outDeg, \\\n",
    "                   inDeg, \\\n",
    "                   clusterCoeff, \\\n",
    "                   betweeness, \\\n",
    "                   shortestPath, \\\n",
    "                   authScore, \\\n",
    "                   hubSccore])\n",
    "    \n",
    "    score = 100.0 * np.dot(w, C_x)/w_sum\n",
    "    socialScore.append((node, score))\n",
    "    "
   ]
  },
  {
   "cell_type": "code",
   "execution_count": 64,
   "metadata": {},
   "outputs": [],
   "source": [
    "socialScore.sort(key=lambda x: x[1], reverse=True)"
   ]
  },
  {
   "cell_type": "code",
   "execution_count": 66,
   "metadata": {
    "scrolled": true
   },
   "outputs": [
    {
     "name": "stdout",
     "output_type": "stream",
     "text": [
      "[(1874, 85.86720944906979), (1258, 55.9778907924103), (999, 50.61051396942535), (1669, 47.27542700847994), (511, 40.31705218340864), (585, 33.064089627423826), (1998, 32.41884981873541), (1839, 28.873591736745578), (1369, 28.7430390082418), (453, 28.201871267917863)]\n"
     ]
    }
   ],
   "source": [
    "print(socialScore[:10])"
   ]
  },
  {
   "cell_type": "code",
   "execution_count": 67,
   "metadata": {},
   "outputs": [],
   "source": [
    "with open('socialScore.txt', 'w') as fd:\n",
    "    for (node, score) in socialScore:\n",
    "        fd.write(\"%r  %r\\n\" % (node, score))"
   ]
  },
  {
   "cell_type": "code",
   "execution_count": null,
   "metadata": {},
   "outputs": [],
   "source": []
  }
 ],
 "metadata": {
  "kernelspec": {
   "display_name": "Python 3 (ipykernel)",
   "language": "python",
   "name": "python3"
  },
  "language_info": {
   "codemirror_mode": {
    "name": "ipython",
    "version": 3
   },
   "file_extension": ".py",
   "mimetype": "text/x-python",
   "name": "python",
   "nbconvert_exporter": "python",
   "pygments_lexer": "ipython3",
   "version": "3.8.0"
  }
 },
 "nbformat": 4,
 "nbformat_minor": 2
}
